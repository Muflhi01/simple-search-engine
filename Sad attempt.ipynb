{
 "cells": [
  {
   "cell_type": "code",
   "execution_count": 97,
   "metadata": {},
   "outputs": [
    {
     "name": "stdout",
     "output_type": "stream",
     "text": [
      "root\n",
      " |-- charset: string (nullable = true)\n",
      " |-- digest: string (nullable = true)\n",
      " |-- filename: string (nullable = true)\n",
      " |-- languages: string (nullable = true)\n",
      " |-- length: string (nullable = true)\n",
      " |-- mime: string (nullable = true)\n",
      " |-- mime-detected: string (nullable = true)\n",
      " |-- offset: string (nullable = true)\n",
      " |-- status: string (nullable = true)\n",
      " |-- timestamp: string (nullable = true)\n",
      " |-- url: string (nullable = true)\n",
      " |-- urlkey: string (nullable = true)\n",
      "\n",
      "(crawl-data/CC-MAIN-2018-39/segments/1537267160620.68/warc/CC-MAIN-20180924165426-20180924185826-00202.warc.gz,17630,354902214)\n"
     ]
    },
    {
     "data": {
      "text/plain": [
       "indexFiles = [charset: string, digest: string ... 10 more fields]\n",
       "filesToDownload = [_1: string, _2: bigint ... 1 more field]\n"
      ]
     },
     "metadata": {},
     "output_type": "display_data"
    },
    {
     "data": {
      "text/plain": [
       "75707"
      ]
     },
     "execution_count": 97,
     "metadata": {},
     "output_type": "execute_result"
    }
   ],
   "source": [
    "import org.apache.spark.sql._\n",
    "\n",
    "val indexFiles = spark.read.json(\"data/*\")\n",
    "\n",
    "dataFrame.printSchema\n",
    "\n",
    "val filesToDownload = dataFrame\n",
    "    .select(\"filename\", \"length\", \"offset\")\n",
    "    .map(row => (row.getString(0), row.getString(1), row.getString(2)))\n",
    "    .map(raw => (raw._1, raw._2.toLong, raw._3.toLong))\n",
    "\n",
    "filesToDownload.take(1).foreach(println)\n",
    "\n",
    "filesToDownload.count()"
   ]
  }
 ],
 "metadata": {
  "kernelspec": {
   "display_name": "Spark - Scala",
   "language": "scala",
   "name": "spark_scala"
  },
  "language_info": {
   "codemirror_mode": "text/x-scala",
   "file_extension": ".scala",
   "mimetype": "text/x-scala",
   "name": "scala",
   "pygments_lexer": "scala",
   "version": "2.11.8"
  }
 },
 "nbformat": 4,
 "nbformat_minor": 2
}
