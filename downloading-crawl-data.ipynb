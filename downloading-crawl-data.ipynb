{
 "cells": [
  {
   "cell_type": "code",
   "execution_count": 10,
   "metadata": {},
   "outputs": [
    {
     "data": {
      "text/plain": [
       "warning: there was one feature warning; re-run with -feature for details\n",
       "fileDownloader: (urlString: String, name: String)Any\n"
      ]
     },
     "metadata": {},
     "output_type": "display_data"
    }
   ],
   "source": [
    "import sys.process._\n",
    "import java.net.URL\n",
    "import java.net.HttpURLConnection\n",
    "import java.io.File\n",
    "\n",
    "def fileDownloader(urlString: String, name: String) = {\n",
    "    val url = new URL(urlString)\n",
    "\n",
    "    val connection = url.openConnection().asInstanceOf[HttpURLConnection]\n",
    "    connection.setConnectTimeout(5000)\n",
    "    connection.setReadTimeout(5000)\n",
    "    connection.connect()\n",
    "\n",
    "    if (connection.getResponseCode != 200)\n",
    "      println(\"File not found\")\n",
    "    else\n",
    "      url #> new File(name) !!\n",
    "}"
   ]
  },
  {
   "cell_type": "code",
   "execution_count": 13,
   "metadata": {},
   "outputs": [
    {
     "data": {
      "text/plain": [
       "res4: Any = \"\"\n"
      ]
     },
     "metadata": {},
     "output_type": "display_data"
    }
   ],
   "source": [
    "fileDownloader(\"https://en.wikipedia.org/wiki/.mc\", \"./data/testfile\")"
   ]
  },
  {
   "cell_type": "code",
   "execution_count": 35,
   "metadata": {},
   "outputs": [
    {
     "data": {
      "text/plain": [
       "offset = 804\n",
       "length = 8732\n",
       "file = crawl-data/CC-MAIN-2017-13/segments/1490218190753.92/warc/CC-MAIN-20170322212950-00477-ip-10-233-31-227.ec2.internal.warc.gz\n",
       "out = \"curl -s -r804-9535 \"https://commoncrawl.s3.amazonaws.com/crawl-data/CC-MAIN-2017-13/segments/1490218190753.92/warc/CC-MAIN-20170322212950-00477-ip-10-233-31-227.ec2.internal.warc.gz ( [\"] #| [, gzip, -dc] ) \"\n",
       "data = 6\n"
      ]
     },
     "metadata": {},
     "output_type": "display_data"
    },
    {
     "data": {
      "text/plain": [
       "6"
      ]
     },
     "execution_count": 35,
     "metadata": {},
     "output_type": "execute_result"
    }
   ],
   "source": [
    "import sys.process._\n",
    "\n",
    "val offset = 804\n",
    "val length = 8732\n",
    "val file = \"crawl-data/CC-MAIN-2017-13/segments/1490218190753.92/warc/CC-MAIN-20170322212950-00477-ip-10-233-31-227.ec2.internal.warc.gz\"\n",
    "\n",
    "val out = \"curl -s -r\"+offset+\"-\"+ (offset+length-1) + \" \\\"https://commoncrawl.s3.amazonaws.com/\" + file + \"\\\" \" #| \" gzip -dc\"\n",
    "val data = out.!"
   ]
  },
  {
   "cell_type": "code",
   "execution_count": 5,
   "metadata": {},
   "outputs": [
    {
     "data": {
      "text/plain": [
       "Name: java.lang.RuntimeException\n",
       "Message: Nonzero exit value: 130\n",
       "StackTrace: java.lang.RuntimeException: Nonzero exit value: 130\n",
       "  at scala.sys.package$.error(package.scala:27)\n",
       "  at scala.sys.process.ProcessBuilderImpl$AbstractBuilder.slurp(ProcessBuilderImpl.scala:132)\n",
       "  at scala.sys.process.ProcessBuilderImpl$AbstractBuilder.$bang$bang(ProcessBuilderImpl.scala:102)"
      ]
     },
     "execution_count": 5,
     "metadata": {},
     "output_type": "execute_result"
    }
   ],
   "source": [
    "import sys.process._\n",
    "var status = \"curl -s -r804-$((804+8732-1)) https://commoncrawl.s3.amazonaws.com/crawl-data/CC-MAIN-2017-13/segments/1490218190753.92/warc/CC-MAIN-20170322212950-00477-ip-10-233-31-227.ec2.internal.warc.gz -o CC-MAIN-20170322212950-00477-ip-10-233-31-227.ec2.internal.warc.gz\" !!"
   ]
  },
  {
   "cell_type": "code",
   "execution_count": 4,
   "metadata": {},
   "outputs": [
    {
     "name": "stdout",
     "output_type": "stream",
     "text": [
      "  % Total    % Received % Xferd  Average Speed   Time    Time     Time  Current\n",
      "                                 Dload  Upload   Total   Spent    Left  Speed\n",
      "100   220  100   220    0     0   1447      0 --:--:-- --:--:-- --:--:--  1437\n"
     ]
    },
    {
     "data": {
      "text/plain": [
       "warning: there was one feature warning; re-run with -feature for details\n",
       "status: String = \"\"\n"
      ]
     },
     "metadata": {},
     "output_type": "display_data"
    }
   ],
   "source": [
    "import sys.process._\n",
    "val status = \"curl https://google.com -o google.com\" !!"
   ]
  }
 ],
 "metadata": {
  "kernelspec": {
   "display_name": "Spark - Scala",
   "language": "scala",
   "name": "spark_scala"
  },
  "language_info": {
   "codemirror_mode": "text/x-scala",
   "file_extension": ".scala",
   "mimetype": "text/x-scala",
   "name": "scala",
   "pygments_lexer": "scala",
   "version": "2.11.8"
  }
 },
 "nbformat": 4,
 "nbformat_minor": 2
}
