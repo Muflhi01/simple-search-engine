{
 "cells": [
  {
   "cell_type": "code",
   "execution_count": 1,
   "metadata": {
    "scrolled": false
   },
   "outputs": [
    {
     "data": {
      "text/plain": [
       "spark = org.apache.spark.sql.SparkSession@5bfee253\n"
      ]
     },
     "metadata": {},
     "output_type": "display_data"
    },
    {
     "data": {
      "text/html": [
       "<ul>\n",
       "<li><a href=\"Some(http://localhost:4040)\" target=\"new_tab\">Spark UI: local-1540124755182</a></li>\n",
       "</ul>"
      ],
      "text/plain": [
       "Spark local-1540124755182: Some(http://localhost:4040)"
      ]
     },
     "execution_count": 1,
     "metadata": {},
     "output_type": "execute_result"
    }
   ],
   "source": [
    "import org.apache.hadoop.conf.Configuration\n",
    "import org.apache.hadoop.io.{LongWritable, Text}\n",
    "import org.apache.hadoop.mapreduce.lib.input.TextInputFormat\n",
    "\n",
    "val spark = SparkSession.builder.master(\"local[*]\").appName(\"SparkSQL\").getOrCreate()\n",
    "\n",
    "import spark.implicits._\n",
    "import org.apache.spark.sql.functions._\n",
    "\n",
    "import org.apache.spark._\n",
    "import org.apache.spark.graphx._\n",
    "import org.apache.spark.rdd.RDD\n"
   ]
  },
  {
   "cell_type": "code",
   "execution_count": 2,
   "metadata": {},
   "outputs": [
    {
     "name": "stdout",
     "output_type": "stream",
     "text": [
      "359232\n"
     ]
    },
    {
     "data": {
      "text/plain": [
       "conf = Configuration: core-default.xml, core-site.xml, mapred-default.xml, mapred-site.xml, yarn-default.xml, yarn-site.xml, hdfs-default.xml, hdfs-site.xml\n",
       "dataset = data/WAT/ NewHadoopRDD[0] at newAPIHadoopFile at <console>:47\n",
       "data = MapPartitionsRDD[5] at filter at <console>:62\n"
      ]
     },
     "metadata": {},
     "output_type": "display_data"
    },
    {
     "data": {
      "text/plain": [
       "MapPartitionsRDD[5] at filter at <console>:62"
      ]
     },
     "execution_count": 2,
     "metadata": {},
     "output_type": "execute_result"
    }
   ],
   "source": [
    "val conf = new Configuration\n",
    "conf.set(\"textinputformat.record.delimiter\", \"WARC/1.0\")\n",
    "val dataset = sc.newAPIHadoopFile(\n",
    "    \"data/WAT/\",\n",
    "    classOf[TextInputFormat],\n",
    "    classOf[LongWritable],\n",
    "    classOf[Text], conf\n",
    ")\n",
    "\n",
    "val data = dataset\n",
    "    .map(x => x._2.toString)\n",
    "    .filter(_.nonEmpty)\n",
    "    .map(_.split(\"\\r\\n\\r\\n\"))\n",
    "//     .mapPartitionsWithIndex {  \n",
    "//         (idx, iter) => if (idx == 0) iter.drop(2) else iter \n",
    "//     }\n",
    "    .map(arr => (arr(0), arr(1)))\n",
    "    .filter(_._2.startsWith(\"{\"))\n",
    "\n",
    "println(data.count())\n",
    "\n",
    "// data.take(10).foreach(println)"
   ]
  },
  {
   "cell_type": "code",
   "execution_count": 3,
   "metadata": {
    "scrolled": true
   },
   "outputs": [
    {
     "name": "stdout",
     "output_type": "stream",
     "text": [
      "(CC-MAIN-20180918130631-20180918150631-00002.warc.gz,{\"Container\":{\"Filename\":\"CC-MAIN-20180918130631-20180918150631-00002.warc.gz\",\"Compressed\":true,\"Offset\":\"0\",\"Gzip-Metadata\":{\"Inflated-Length\":\"769\",\"Footer-Length\":\"8\",\"Inflated-CRC\":\"1350986398\",\"Deflate-Length\":\"484\",\"Header-Length\":\"10\"}},\"Envelope\":{\"Format\":\"WARC\",\"WARC-Header-Length\":\"259\",\"Actual-Content-Length\":\"506\",\"WARC-Header-Metadata\":{\"WARC-Filename\":\"CC-MAIN-20180918130631-20180918150631-00002.warc.gz\",\"WARC-Date\":\"2018-09-18T13:06:31Z\",\"Content-Length\":\"506\",\"WARC-Record-ID\":\"<urn:uuid:dec40478-8e6b-4036-a8e3-06a2211ed681>\",\"WARC-Type\":\"warcinfo\",\"Content-Type\":\"application/warc-fields\"},\"Block-Digest\":\"sha1:RTUJIRE47WHSO4ME4JSEZV3WH5HOVY5Q\",\"Payload-Metadata\":{\"Actual-Content-Type\":\"application/warc-fields\",\"Actual-Content-Length\":\"506\",\"Trailing-Slop-Length\":\"0\",\"WARC-Info-Metadata\":{\"hostname\":\"ip-10-65-123-119.ec2.internal\",\"software\":\"Apache Nutch 1.15 (modified, https://github.com/commoncrawl/nutch/)\",\"format\":\"WARC File Format 1.1\",\"publisher\":\"Common Crawl\",\"description\":\"Wide crawl of the web for September 2018\",\"robots\":\"checked via crawler-commons 0.11-SNAPSHOT (https://github.com/crawler-commons/crawler-commons)\",\"isPartOf\":\"CC-MAIN-2018-39\",\"operator\":\"Common Crawl Admin (info@commoncrawl.org)\"},\"Headers-Corrupt\":true}}})\n"
     ]
    },
    {
     "data": {
      "text/plain": [
       "uriMetaDataPairs = MapPartitionsRDD[6] at map at <console>:50\n"
      ]
     },
     "metadata": {},
     "output_type": "display_data"
    },
    {
     "data": {
      "text/plain": [
       "MapPartitionsRDD[6] at map at <console>:50"
      ]
     },
     "execution_count": 3,
     "metadata": {},
     "output_type": "execute_result"
    }
   ],
   "source": [
    "val uriMetaDataPairs = data\n",
    "    .map(pair => {\n",
    "        val (header, metadata) = pair\n",
    "    \n",
    "        val keyValuePairs = header\n",
    "            .split(\"\\r\\n\")\n",
    "            .filter(_ != \"\")\n",
    "            .map(line => {\n",
    "                val splitList = line.split(\": \")\n",
    "                ((splitList(0), splitList(1)))\n",
    "            })\n",
    "\n",
    "        val targetURL = keyValuePairs\n",
    "            .filter(_._1 == \"WARC-Target-URI\")(0)\n",
    "            ._2\n",
    "        \n",
    "        (targetURL, metadata)\n",
    "    })\n",
    "\n",
    "uriMetaDataPairs.take(1).foreach(println)"
   ]
  },
  {
   "cell_type": "code",
   "execution_count": 4,
   "metadata": {
    "scrolled": true
   },
   "outputs": [
    {
     "name": "stdout",
     "output_type": "stream",
     "text": [
      "[URL: http://022.holidayblog.jp/?m=20060610]\n",
      "http://005.holidayblog.jp/wp-content/uploads/2008/02/home.gif\n",
      "http://022.holidayblog.jp/\n",
      "http://022.holidayblog.jp/?p=6828\n",
      "http://022.holidayblog.jp/?p=6826\n",
      "http://022.holidayblog.jp/?p=6825\n",
      "http://022.holidayblog.jp/?p=6818\n",
      "http://022.holidayblog.jp/?p=6817\n",
      "http://022.holidayblog.jp/?cat=1\n",
      "http://022.holidayblog.jp/?cat=3\n",
      "http://022.holidayblog.jp/?m=200605\n",
      "http://022.holidayblog.jp/?m=200607\n",
      "http://022.holidayblog.jp/?m=20060601\n",
      "http://022.holidayblog.jp/?m=20060602\n",
      "http://022.holidayblog.jp/?m=20060603\n",
      "http://022.holidayblog.jp/?m=20060604\n",
      "http://022.holidayblog.jp/?m=20060605\n",
      "http://022.holidayblog.jp/?m=20060606\n",
      "http://022.holidayblog.jp/?m=20060607\n",
      "http://022.holidayblog.jp/?m=20060608\n",
      "http://022.holidayblog.jp/?m=20060609\n",
      "http://022.holidayblog.jp/?m=20060610\n",
      "http://022.holidayblog.jp/?m=20060611\n",
      "http://022.holidayblog.jp/?m=20060612\n",
      "http://022.holidayblog.jp/?m=20060613\n",
      "http://022.holidayblog.jp/?m=20060614\n",
      "http://022.holidayblog.jp/?m=20060615\n",
      "http://022.holidayblog.jp/?m=20060616\n",
      "http://022.holidayblog.jp/?m=20060617\n",
      "http://022.holidayblog.jp/?m=20060618\n",
      "http://022.holidayblog.jp/?m=20060619\n",
      "http://022.holidayblog.jp/?m=20060620\n",
      "http://022.holidayblog.jp/?m=20060621\n",
      "http://022.holidayblog.jp/?m=20060622\n",
      "http://022.holidayblog.jp/?m=20060623\n",
      "http://022.holidayblog.jp/?m=20060624\n",
      "http://022.holidayblog.jp/?m=20060625\n",
      "http://022.holidayblog.jp/?m=20060626\n",
      "http://022.holidayblog.jp/?m=20060627\n",
      "http://022.holidayblog.jp/?m=20060628\n",
      "http://022.holidayblog.jp/?m=20060629\n",
      "http://022.holidayblog.jp/?m=20060630\n",
      "http://022.holidayblog.jp/?m=201807\n",
      "http://022.holidayblog.jp/?m=201806\n",
      "http://022.holidayblog.jp/?m=201805\n",
      "http://022.holidayblog.jp/?m=201804\n",
      "http://022.holidayblog.jp/?m=201803\n",
      "http://022.holidayblog.jp/?m=201802\n",
      "http://022.holidayblog.jp/?m=201801\n",
      "http://022.holidayblog.jp/?m=201711\n",
      "http://022.holidayblog.jp/?m=201709\n",
      "http://022.holidayblog.jp/?m=201708\n",
      "http://022.holidayblog.jp/?m=201707\n",
      "http://022.holidayblog.jp/?m=201706\n",
      "http://022.holidayblog.jp/?m=201705\n",
      "http://022.holidayblog.jp/?m=201704\n",
      "http://022.holidayblog.jp/?m=201702\n",
      "http://022.holidayblog.jp/?m=201701\n",
      "http://022.holidayblog.jp/?m=201612\n",
      "http://022.holidayblog.jp/?m=201611\n",
      "http://022.holidayblog.jp/?m=201610\n",
      "http://022.holidayblog.jp/?m=201609\n",
      "http://022.holidayblog.jp/?m=201608\n",
      "http://022.holidayblog.jp/?m=201607\n",
      "http://022.holidayblog.jp/?m=201606\n",
      "http://022.holidayblog.jp/?m=201605\n",
      "http://022.holidayblog.jp/?m=201604\n",
      "http://022.holidayblog.jp/?m=201603\n",
      "http://022.holidayblog.jp/?m=201602\n",
      "http://022.holidayblog.jp/?m=201601\n",
      "http://022.holidayblog.jp/?m=201511\n",
      "http://022.holidayblog.jp/?m=201510\n",
      "http://022.holidayblog.jp/?m=201509\n",
      "http://022.holidayblog.jp/?m=201508\n",
      "http://022.holidayblog.jp/?m=201507\n",
      "http://022.holidayblog.jp/?m=201506\n",
      "http://022.holidayblog.jp/?m=201505\n",
      "http://022.holidayblog.jp/?m=201504\n",
      "http://022.holidayblog.jp/?m=201503\n",
      "http://022.holidayblog.jp/?m=201502\n",
      "http://022.holidayblog.jp/?m=201501\n",
      "http://022.holidayblog.jp/?m=201412\n",
      "http://022.holidayblog.jp/?m=201411\n",
      "http://022.holidayblog.jp/?m=201410\n",
      "http://022.holidayblog.jp/?m=201409\n",
      "http://022.holidayblog.jp/?m=201408\n",
      "http://022.holidayblog.jp/?m=201407\n",
      "http://022.holidayblog.jp/?m=201406\n",
      "http://022.holidayblog.jp/?m=201405\n",
      "http://022.holidayblog.jp/?m=201404\n",
      "http://022.holidayblog.jp/?m=201403\n",
      "http://022.holidayblog.jp/?m=201402\n",
      "http://022.holidayblog.jp/?m=201401\n",
      "http://022.holidayblog.jp/?m=201312\n",
      "http://022.holidayblog.jp/?m=201311\n",
      "http://022.holidayblog.jp/?m=201310\n",
      "http://022.holidayblog.jp/?m=201309\n",
      "http://022.holidayblog.jp/?m=201308\n",
      "http://022.holidayblog.jp/?m=201307\n",
      "http://022.holidayblog.jp/?m=201306\n",
      "http://022.holidayblog.jp/?m=201305\n",
      "http://022.holidayblog.jp/?m=201304\n",
      "http://022.holidayblog.jp/?m=201303\n",
      "http://022.holidayblog.jp/?m=201302\n",
      "http://022.holidayblog.jp/?m=201301\n",
      "http://022.holidayblog.jp/?m=201212\n",
      "http://022.holidayblog.jp/?m=201211\n",
      "http://022.holidayblog.jp/?m=201210\n",
      "http://022.holidayblog.jp/?m=201209\n",
      "http://022.holidayblog.jp/?m=201208\n",
      "http://022.holidayblog.jp/?m=201207\n",
      "http://022.holidayblog.jp/?m=201206\n",
      "http://022.holidayblog.jp/?m=201205\n",
      "http://022.holidayblog.jp/?m=201204\n",
      "http://022.holidayblog.jp/?m=201203\n",
      "http://022.holidayblog.jp/?m=201202\n",
      "http://022.holidayblog.jp/?m=201201\n",
      "http://022.holidayblog.jp/?m=201112\n",
      "http://022.holidayblog.jp/?m=201111\n",
      "http://022.holidayblog.jp/?m=201110\n",
      "http://022.holidayblog.jp/?m=201109\n",
      "http://022.holidayblog.jp/?m=201108\n",
      "http://022.holidayblog.jp/?m=201107\n",
      "http://022.holidayblog.jp/?m=201106\n",
      "http://022.holidayblog.jp/?m=201105\n",
      "http://022.holidayblog.jp/?m=201104\n",
      "http://022.holidayblog.jp/?m=201103\n",
      "http://022.holidayblog.jp/?m=201102\n",
      "http://022.holidayblog.jp/?m=201101\n",
      "http://022.holidayblog.jp/?m=201012\n",
      "http://022.holidayblog.jp/?m=201011\n",
      "http://022.holidayblog.jp/?m=201010\n",
      "http://022.holidayblog.jp/?m=201009\n",
      "http://022.holidayblog.jp/?m=201008\n",
      "http://022.holidayblog.jp/?m=201007\n",
      "http://022.holidayblog.jp/?m=201006\n",
      "http://022.holidayblog.jp/?m=201005\n",
      "http://022.holidayblog.jp/?m=201004\n",
      "http://022.holidayblog.jp/?m=201003\n",
      "http://022.holidayblog.jp/?m=201002\n",
      "http://022.holidayblog.jp/?m=201001\n",
      "http://022.holidayblog.jp/?m=200912\n",
      "http://022.holidayblog.jp/?m=200911\n",
      "http://022.holidayblog.jp/?m=200910\n",
      "http://022.holidayblog.jp/?m=200909\n",
      "http://022.holidayblog.jp/?m=200908\n",
      "http://022.holidayblog.jp/?m=200907\n",
      "http://022.holidayblog.jp/?m=200906\n",
      "http://022.holidayblog.jp/?m=200905\n",
      "http://022.holidayblog.jp/?m=200904\n",
      "http://022.holidayblog.jp/?m=200903\n",
      "http://022.holidayblog.jp/?m=200902\n",
      "http://022.holidayblog.jp/?m=200901\n",
      "http://022.holidayblog.jp/?m=200812\n",
      "http://022.holidayblog.jp/?m=200811\n",
      "http://022.holidayblog.jp/?m=200810\n",
      "http://022.holidayblog.jp/?m=200809\n",
      "http://022.holidayblog.jp/?m=200808\n",
      "http://022.holidayblog.jp/?m=200807\n",
      "http://022.holidayblog.jp/?m=200806\n",
      "http://022.holidayblog.jp/?m=200805\n",
      "http://022.holidayblog.jp/?m=200804\n",
      "http://022.holidayblog.jp/?m=200803\n",
      "http://022.holidayblog.jp/?m=200802\n",
      "http://022.holidayblog.jp/?m=200801\n",
      "http://022.holidayblog.jp/?m=200712\n",
      "http://022.holidayblog.jp/?m=200711\n",
      "http://022.holidayblog.jp/?m=200710\n",
      "http://022.holidayblog.jp/?m=200709\n",
      "http://022.holidayblog.jp/?m=200708\n",
      "http://022.holidayblog.jp/?m=200707\n",
      "http://022.holidayblog.jp/?m=200706\n",
      "http://022.holidayblog.jp/?m=200705\n",
      "http://022.holidayblog.jp/?m=200704\n",
      "http://022.holidayblog.jp/?m=200703\n",
      "http://022.holidayblog.jp/?m=200702\n",
      "http://022.holidayblog.jp/?m=200701\n",
      "http://022.holidayblog.jp/?m=200612\n",
      "http://022.holidayblog.jp/?m=200611\n",
      "http://022.holidayblog.jp/?m=200610\n",
      "http://022.holidayblog.jp/?m=200609\n",
      "http://022.holidayblog.jp/?m=200608\n",
      "http://022.holidayblog.jp/?m=200607\n",
      "http://022.holidayblog.jp/?m=200606\n",
      "http://022.holidayblog.jp/?m=200605\n",
      "http://022.holidayblog.jp/?m=200604\n",
      "http://022.holidayblog.jp/?m=200603\n",
      "http://022.holidayblog.jp/?m=200602\n",
      "http://022.holidayblog.jp/?m=200601\n",
      "http://022.holidayblog.jp/?m=200512\n",
      "http://suteki-tool.com/count/022/\n",
      "http://suteki-tool.com/\n",
      "http://suteki-tool.com/pr1/022/\n",
      "http://bestlink.blog.shinobi.jp/\n",
      "http://suteki-tool.com/pr/022/\n",
      "http://www51.tok2.com/home/dotweb/\n",
      "http://suteki-tool.com/pr1/022/\n",
      "http://nexy.free100.tv/\n",
      "http://counter1.fc2.com/counter_img.php?id=10028326\n",
      "http://keyword.fc2.com/\n",
      "http://022.holidayblog.jp/?p=920\n",
      "http://022.holidayblog.jp/wp-content/uploads/2008/01/100148661.jpg\n",
      "http://022.holidayblog.jp/wp-content/uploads/2008/01/100148661.jpg\n",
      "http://022.holidayblog.jp/wp-content/uploads/2008/01/100148661.jpg\n",
      "http://022.holidayblog.jp/wp-content/uploads/2008/01/100148651.jpg\n",
      "http://022.holidayblog.jp/wp-content/uploads/2008/01/100148651.jpg\n",
      "http://022.holidayblog.jp/?p=583\n",
      "http://022.holidayblog.jp/wp-content/uploads/2008/01/100148521.jpg\n",
      "http://022.holidayblog.jp/wp-content/uploads/2008/01/100148521.jpg\n",
      "http://mixfeed.jp/subscrib\n",
      "http://mixfeed.jp\n",
      "javascript:void(0);\n",
      "http://022.holidayblog.jp/wp-content/uploads/2011/02/banner_22.gif\n",
      "http://blog.with2.net/link.php?116344\n",
      "http://022.holidayblog.jp/\n",
      "http://019.holidayblog.jp/\n",
      "http://014.holidayblog.jp/\n",
      "http://021.holidayblog.jp/\n",
      "http://007.holidayblog.jp/\n",
      "http://027.holidayblog.jp/\n",
      "http://029.holidayblog.jp/\n",
      "http://042.holidayblog.jp/\n",
      "http://020.holidayblog.jp/\n",
      "http://000.holidayblog.jp/\n",
      "http://026.holidayblog.jp/\n",
      "http://011.holidayblog.jp/\n",
      "http://044.holidayblog.jp/\n",
      "http://037.holidayblog.jp/\n",
      "http://023.holidayblog.jp/\n",
      "http://002.holidayblog.jp/\n",
      "http://006.holidayblog.jp/\n",
      "http://003.holidayblog.jp/\n",
      "http://001.holidayblog.jp/\n",
      "http://010.holidayblog.jp/\n",
      "http://018.holidayblog.jp/\n",
      "http://015.holidayblog.jp/\n",
      "http://025.holidayblog.jp/\n",
      "http://016.holidayblog.jp/\n",
      "http://017.holidayblog.jp/\n",
      "http://004.holidayblog.jp/\n",
      "http://012.holidayblog.jp/\n",
      "http://013.holidayblog.jp/\n",
      "http://030.holidayblog.jp/\n",
      "http://031.holidayblog.jp/\n",
      "http://033.holidayblog.jp/\n",
      "http://032.holidayblog.jp/\n",
      "http://008.holidayblog.jp/\n",
      "http://035.holidayblog.jp/\n",
      "http://036.holidayblog.jp/\n",
      "http://009.holidayblog.jp/\n",
      "http://038.holidayblog.jp/\n",
      "http://034.holidayblog.jp/\n",
      "http://039.holidayblog.jp/\n",
      "http://040.holidayblog.jp/\n",
      "http://041.holidayblog.jp/\n",
      "http://043.holidayblog.jp/\n",
      "http://022.holidayblog.jp/wp-content/plugins/wp-shot/pseudo-cron-image.php\n"
     ]
    },
    {
     "data": {
      "text/plain": [
       "uriLinkPairs = MapPartitionsRDD[8] at filter at <console>:84\n"
      ]
     },
     "metadata": {},
     "output_type": "display_data"
    },
    {
     "data": {
      "text/plain": [
       "MapPartitionsRDD[8] at filter at <console>:84"
      ]
     },
     "execution_count": 4,
     "metadata": {},
     "output_type": "execute_result"
    }
   ],
   "source": [
    "val uriLinkPairs = uriMetaDataPairs\n",
    "    .map(pair => {\n",
    "        val (uri, unparsedMetaData) = pair\n",
    "\n",
    "        val linkArrayStartIndex = unparsedMetaData.indexOf(\"\\\"Links\\\":\") match {\n",
    "            case x if (x > 0) => (x + (\"\\\"Links\\\":[\").length)\n",
    "            case _ => 0\n",
    "        }\n",
    "\n",
    "        if (linkArrayStartIndex == 0) {\n",
    "            (uri, Array[String]())\n",
    "        } else {\n",
    "             val unparsedLinkArray = unparsedMetaData\n",
    "                .substring(linkArrayStartIndex)\n",
    "                .split(\"]\")(0)\n",
    "\n",
    "            val links = unparsedLinkArray\n",
    "                .split(\",\")\n",
    "                .filter(_.contains(\"url\"))\n",
    "                .map(jsonObject => {\n",
    "                    val startIndex = jsonObject.indexOf(\"\\\"url\\\":\") + (\"\\\"url\\\":\").length + 1\n",
    "                    val stopIndex = jsonObject.length - 2\n",
    "                    \n",
    "                    if (startIndex < stopIndex) {\n",
    "                        jsonObject.substring(startIndex, stopIndex)\n",
    "                    } else {\n",
    "                        \"\"\n",
    "                    }                    \n",
    "                })\n",
    "\n",
    "            (uri, links)\n",
    "        }\n",
    "    })\n",
    "    .filter(_._2.nonEmpty)\n",
    "\n",
    "uriLinkPairs.take(1).foreach(x => {\n",
    "    println(\"[URL: \" + x._1 + \"]\")\n",
    "    x._2.foreach(println)\n",
    "})"
   ]
  },
  {
   "cell_type": "code",
   "execution_count": 5,
   "metadata": {
    "scrolled": true
   },
   "outputs": [
    {
     "name": "stdout",
     "output_type": "stream",
     "text": [
      "[URL: http://022.holidayblog.jp/?m=20060610]\n",
      "http://005.holidayblog.jp/wp-content/uploads/2008/02/home.gif\n",
      "http://022.holidayblog.jp/\n",
      "http://022.holidayblog.jp/?p=6828\n",
      "http://022.holidayblog.jp/?p=6826\n",
      "http://022.holidayblog.jp/?p=6825\n",
      "http://022.holidayblog.jp/?p=6818\n",
      "http://022.holidayblog.jp/?p=6817\n",
      "http://022.holidayblog.jp/?cat=1\n",
      "http://022.holidayblog.jp/?cat=3\n",
      "http://022.holidayblog.jp/?m=200605\n",
      "http://022.holidayblog.jp/?m=200607\n",
      "http://022.holidayblog.jp/?m=20060601\n",
      "http://022.holidayblog.jp/?m=20060602\n",
      "http://022.holidayblog.jp/?m=20060603\n",
      "http://022.holidayblog.jp/?m=20060604\n",
      "http://022.holidayblog.jp/?m=20060605\n",
      "http://022.holidayblog.jp/?m=20060606\n",
      "http://022.holidayblog.jp/?m=20060607\n",
      "http://022.holidayblog.jp/?m=20060608\n",
      "http://022.holidayblog.jp/?m=20060609\n",
      "http://022.holidayblog.jp/?m=20060610\n",
      "http://022.holidayblog.jp/?m=20060611\n",
      "http://022.holidayblog.jp/?m=20060612\n",
      "http://022.holidayblog.jp/?m=20060613\n",
      "http://022.holidayblog.jp/?m=20060614\n",
      "http://022.holidayblog.jp/?m=20060615\n",
      "http://022.holidayblog.jp/?m=20060616\n",
      "http://022.holidayblog.jp/?m=20060617\n",
      "http://022.holidayblog.jp/?m=20060618\n",
      "http://022.holidayblog.jp/?m=20060619\n",
      "http://022.holidayblog.jp/?m=20060620\n",
      "http://022.holidayblog.jp/?m=20060621\n",
      "http://022.holidayblog.jp/?m=20060622\n",
      "http://022.holidayblog.jp/?m=20060623\n",
      "http://022.holidayblog.jp/?m=20060624\n",
      "http://022.holidayblog.jp/?m=20060625\n",
      "http://022.holidayblog.jp/?m=20060626\n",
      "http://022.holidayblog.jp/?m=20060627\n",
      "http://022.holidayblog.jp/?m=20060628\n",
      "http://022.holidayblog.jp/?m=20060629\n",
      "http://022.holidayblog.jp/?m=20060630\n",
      "http://022.holidayblog.jp/?m=201807\n",
      "http://022.holidayblog.jp/?m=201806\n",
      "http://022.holidayblog.jp/?m=201805\n",
      "http://022.holidayblog.jp/?m=201804\n",
      "http://022.holidayblog.jp/?m=201803\n",
      "http://022.holidayblog.jp/?m=201802\n",
      "http://022.holidayblog.jp/?m=201801\n",
      "http://022.holidayblog.jp/?m=201711\n",
      "http://022.holidayblog.jp/?m=201709\n",
      "http://022.holidayblog.jp/?m=201708\n",
      "http://022.holidayblog.jp/?m=201707\n",
      "http://022.holidayblog.jp/?m=201706\n",
      "http://022.holidayblog.jp/?m=201705\n",
      "http://022.holidayblog.jp/?m=201704\n",
      "http://022.holidayblog.jp/?m=201702\n",
      "http://022.holidayblog.jp/?m=201701\n",
      "http://022.holidayblog.jp/?m=201612\n",
      "http://022.holidayblog.jp/?m=201611\n",
      "http://022.holidayblog.jp/?m=201610\n",
      "http://022.holidayblog.jp/?m=201609\n",
      "http://022.holidayblog.jp/?m=201608\n",
      "http://022.holidayblog.jp/?m=201607\n",
      "http://022.holidayblog.jp/?m=201606\n",
      "http://022.holidayblog.jp/?m=201605\n",
      "http://022.holidayblog.jp/?m=201604\n",
      "http://022.holidayblog.jp/?m=201603\n",
      "http://022.holidayblog.jp/?m=201602\n",
      "http://022.holidayblog.jp/?m=201601\n",
      "http://022.holidayblog.jp/?m=201511\n",
      "http://022.holidayblog.jp/?m=201510\n",
      "http://022.holidayblog.jp/?m=201509\n",
      "http://022.holidayblog.jp/?m=201508\n",
      "http://022.holidayblog.jp/?m=201507\n",
      "http://022.holidayblog.jp/?m=201506\n",
      "http://022.holidayblog.jp/?m=201505\n",
      "http://022.holidayblog.jp/?m=201504\n",
      "http://022.holidayblog.jp/?m=201503\n",
      "http://022.holidayblog.jp/?m=201502\n",
      "http://022.holidayblog.jp/?m=201501\n",
      "http://022.holidayblog.jp/?m=201412\n",
      "http://022.holidayblog.jp/?m=201411\n",
      "http://022.holidayblog.jp/?m=201410\n",
      "http://022.holidayblog.jp/?m=201409\n",
      "http://022.holidayblog.jp/?m=201408\n",
      "http://022.holidayblog.jp/?m=201407\n",
      "http://022.holidayblog.jp/?m=201406\n",
      "http://022.holidayblog.jp/?m=201405\n",
      "http://022.holidayblog.jp/?m=201404\n",
      "http://022.holidayblog.jp/?m=201403\n",
      "http://022.holidayblog.jp/?m=201402\n",
      "http://022.holidayblog.jp/?m=201401\n",
      "http://022.holidayblog.jp/?m=201312\n",
      "http://022.holidayblog.jp/?m=201311\n",
      "http://022.holidayblog.jp/?m=201310\n",
      "http://022.holidayblog.jp/?m=201309\n",
      "http://022.holidayblog.jp/?m=201308\n",
      "http://022.holidayblog.jp/?m=201307\n",
      "http://022.holidayblog.jp/?m=201306\n",
      "http://022.holidayblog.jp/?m=201305\n",
      "http://022.holidayblog.jp/?m=201304\n",
      "http://022.holidayblog.jp/?m=201303\n",
      "http://022.holidayblog.jp/?m=201302\n",
      "http://022.holidayblog.jp/?m=201301\n",
      "http://022.holidayblog.jp/?m=201212\n",
      "http://022.holidayblog.jp/?m=201211\n",
      "http://022.holidayblog.jp/?m=201210\n",
      "http://022.holidayblog.jp/?m=201209\n",
      "http://022.holidayblog.jp/?m=201208\n",
      "http://022.holidayblog.jp/?m=201207\n",
      "http://022.holidayblog.jp/?m=201206\n",
      "http://022.holidayblog.jp/?m=201205\n",
      "http://022.holidayblog.jp/?m=201204\n",
      "http://022.holidayblog.jp/?m=201203\n",
      "http://022.holidayblog.jp/?m=201202\n",
      "http://022.holidayblog.jp/?m=201201\n",
      "http://022.holidayblog.jp/?m=201112\n",
      "http://022.holidayblog.jp/?m=201111\n",
      "http://022.holidayblog.jp/?m=201110\n",
      "http://022.holidayblog.jp/?m=201109\n",
      "http://022.holidayblog.jp/?m=201108\n",
      "http://022.holidayblog.jp/?m=201107\n",
      "http://022.holidayblog.jp/?m=201106\n",
      "http://022.holidayblog.jp/?m=201105\n",
      "http://022.holidayblog.jp/?m=201104\n",
      "http://022.holidayblog.jp/?m=201103\n",
      "http://022.holidayblog.jp/?m=201102\n",
      "http://022.holidayblog.jp/?m=201101\n",
      "http://022.holidayblog.jp/?m=201012\n",
      "http://022.holidayblog.jp/?m=201011\n",
      "http://022.holidayblog.jp/?m=201010\n",
      "http://022.holidayblog.jp/?m=201009\n",
      "http://022.holidayblog.jp/?m=201008\n",
      "http://022.holidayblog.jp/?m=201007\n",
      "http://022.holidayblog.jp/?m=201006\n",
      "http://022.holidayblog.jp/?m=201005\n",
      "http://022.holidayblog.jp/?m=201004\n",
      "http://022.holidayblog.jp/?m=201003\n",
      "http://022.holidayblog.jp/?m=201002\n",
      "http://022.holidayblog.jp/?m=201001\n",
      "http://022.holidayblog.jp/?m=200912\n",
      "http://022.holidayblog.jp/?m=200911\n",
      "http://022.holidayblog.jp/?m=200910\n",
      "http://022.holidayblog.jp/?m=200909\n",
      "http://022.holidayblog.jp/?m=200908\n",
      "http://022.holidayblog.jp/?m=200907\n",
      "http://022.holidayblog.jp/?m=200906\n",
      "http://022.holidayblog.jp/?m=200905\n",
      "http://022.holidayblog.jp/?m=200904\n",
      "http://022.holidayblog.jp/?m=200903\n",
      "http://022.holidayblog.jp/?m=200902\n",
      "http://022.holidayblog.jp/?m=200901\n",
      "http://022.holidayblog.jp/?m=200812\n",
      "http://022.holidayblog.jp/?m=200811\n",
      "http://022.holidayblog.jp/?m=200810\n",
      "http://022.holidayblog.jp/?m=200809\n",
      "http://022.holidayblog.jp/?m=200808\n",
      "http://022.holidayblog.jp/?m=200807\n",
      "http://022.holidayblog.jp/?m=200806\n",
      "http://022.holidayblog.jp/?m=200805\n",
      "http://022.holidayblog.jp/?m=200804\n",
      "http://022.holidayblog.jp/?m=200803\n",
      "http://022.holidayblog.jp/?m=200802\n",
      "http://022.holidayblog.jp/?m=200801\n",
      "http://022.holidayblog.jp/?m=200712\n",
      "http://022.holidayblog.jp/?m=200711\n",
      "http://022.holidayblog.jp/?m=200710\n",
      "http://022.holidayblog.jp/?m=200709\n",
      "http://022.holidayblog.jp/?m=200708\n",
      "http://022.holidayblog.jp/?m=200707\n",
      "http://022.holidayblog.jp/?m=200706\n",
      "http://022.holidayblog.jp/?m=200705\n",
      "http://022.holidayblog.jp/?m=200704\n",
      "http://022.holidayblog.jp/?m=200703\n",
      "http://022.holidayblog.jp/?m=200702\n",
      "http://022.holidayblog.jp/?m=200701\n",
      "http://022.holidayblog.jp/?m=200612\n",
      "http://022.holidayblog.jp/?m=200611\n",
      "http://022.holidayblog.jp/?m=200610\n",
      "http://022.holidayblog.jp/?m=200609\n",
      "http://022.holidayblog.jp/?m=200608\n",
      "http://022.holidayblog.jp/?m=200607\n",
      "http://022.holidayblog.jp/?m=200606\n",
      "http://022.holidayblog.jp/?m=200605\n",
      "http://022.holidayblog.jp/?m=200604\n",
      "http://022.holidayblog.jp/?m=200603\n",
      "http://022.holidayblog.jp/?m=200602\n",
      "http://022.holidayblog.jp/?m=200601\n",
      "http://022.holidayblog.jp/?m=200512\n",
      "http://suteki-tool.com/count/022/\n",
      "http://suteki-tool.com/\n",
      "http://suteki-tool.com/pr1/022/\n",
      "http://bestlink.blog.shinobi.jp/\n",
      "http://suteki-tool.com/pr/022/\n",
      "http://www51.tok2.com/home/dotweb/\n",
      "http://suteki-tool.com/pr1/022/\n",
      "http://nexy.free100.tv/\n",
      "http://counter1.fc2.com/counter_img.php?id=10028326\n",
      "http://keyword.fc2.com/\n",
      "http://022.holidayblog.jp/?p=920\n",
      "http://022.holidayblog.jp/wp-content/uploads/2008/01/100148661.jpg\n",
      "http://022.holidayblog.jp/wp-content/uploads/2008/01/100148661.jpg\n",
      "http://022.holidayblog.jp/wp-content/uploads/2008/01/100148661.jpg\n",
      "http://022.holidayblog.jp/wp-content/uploads/2008/01/100148651.jpg\n",
      "http://022.holidayblog.jp/wp-content/uploads/2008/01/100148651.jpg\n",
      "http://022.holidayblog.jp/?p=583\n",
      "http://022.holidayblog.jp/wp-content/uploads/2008/01/100148521.jpg\n",
      "http://022.holidayblog.jp/wp-content/uploads/2008/01/100148521.jpg\n",
      "http://mixfeed.jp/subscrib\n",
      "http://mixfeed.jp\n",
      "http://022.holidayblog.jp/wp-content/uploads/2011/02/banner_22.gif\n",
      "http://blog.with2.net/link.php?116344\n",
      "http://022.holidayblog.jp/\n",
      "http://019.holidayblog.jp/\n",
      "http://014.holidayblog.jp/\n",
      "http://021.holidayblog.jp/\n",
      "http://007.holidayblog.jp/\n",
      "http://027.holidayblog.jp/\n",
      "http://029.holidayblog.jp/\n",
      "http://042.holidayblog.jp/\n",
      "http://020.holidayblog.jp/\n",
      "http://000.holidayblog.jp/\n",
      "http://026.holidayblog.jp/\n",
      "http://011.holidayblog.jp/\n",
      "http://044.holidayblog.jp/\n",
      "http://037.holidayblog.jp/\n",
      "http://023.holidayblog.jp/\n",
      "http://002.holidayblog.jp/\n",
      "http://006.holidayblog.jp/\n",
      "http://003.holidayblog.jp/\n",
      "http://001.holidayblog.jp/\n",
      "http://010.holidayblog.jp/\n",
      "http://018.holidayblog.jp/\n",
      "http://015.holidayblog.jp/\n",
      "http://025.holidayblog.jp/\n",
      "http://016.holidayblog.jp/\n",
      "http://017.holidayblog.jp/\n",
      "http://004.holidayblog.jp/\n",
      "http://012.holidayblog.jp/\n",
      "http://013.holidayblog.jp/\n",
      "http://030.holidayblog.jp/\n",
      "http://031.holidayblog.jp/\n",
      "http://033.holidayblog.jp/\n",
      "http://032.holidayblog.jp/\n",
      "http://008.holidayblog.jp/\n",
      "http://035.holidayblog.jp/\n",
      "http://036.holidayblog.jp/\n",
      "http://009.holidayblog.jp/\n",
      "http://038.holidayblog.jp/\n",
      "http://034.holidayblog.jp/\n",
      "http://039.holidayblog.jp/\n",
      "http://040.holidayblog.jp/\n",
      "http://041.holidayblog.jp/\n",
      "http://043.holidayblog.jp/\n",
      "http://022.holidayblog.jp/wp-content/plugins/wp-shot/pseudo-cron-image.php\n"
     ]
    },
    {
     "data": {
      "text/plain": [
       "uriStaticLinkPairs = MapPartitionsRDD[9] at map at <console>:54\n"
      ]
     },
     "metadata": {},
     "output_type": "display_data"
    },
    {
     "data": {
      "text/plain": [
       "MapPartitionsRDD[9] at map at <console>:54"
      ]
     },
     "execution_count": 5,
     "metadata": {},
     "output_type": "execute_result"
    }
   ],
   "source": [
    "val uriStaticLinkPairs = uriLinkPairs\n",
    "    .map(pair => {\n",
    "        val (uri, links) = pair\n",
    "        \n",
    "        val protocolRegex = \"\"\"^https?:\\/\\/.*\"\"\"\n",
    "        \n",
    "        val staticLinks = links\n",
    "            .filter(_.matches(protocolRegex))\n",
    "        \n",
    "        (uri, staticLinks)\n",
    "    }).cache()\n",
    "\n",
    "uriStaticLinkPairs.take(1).foreach(x => {\n",
    "    println(\"[URL: \" + x._1 + \"]\")\n",
    "    x._2.foreach(println)\n",
    "})"
   ]
  },
  {
   "cell_type": "code",
   "execution_count": 6,
   "metadata": {},
   "outputs": [
    {
     "name": "stdout",
     "output_type": "stream",
     "text": [
      "(0,http://022.holidayblog.jp/?m=20060610,[Ljava.lang.String;@62c5c55f)\n"
     ]
    },
    {
     "data": {
      "text/plain": [
       "uriLinkPairsWithIndex = MapPartitionsRDD[11] at map at <console>:55\n"
      ]
     },
     "metadata": {},
     "output_type": "display_data"
    },
    {
     "data": {
      "text/plain": [
       "MapPartitionsRDD[11] at map at <console>:55"
      ]
     },
     "execution_count": 6,
     "metadata": {},
     "output_type": "execute_result"
    }
   ],
   "source": [
    "val uriLinkPairsWithIndex = uriStaticLinkPairs.zipWithIndex.map(x => (x._2.toLong, x._1._1, x._1._2))\n",
    "\n",
    "uriLinkPairsWithIndex.take(1).foreach(println)"
   ]
  },
  {
   "cell_type": "code",
   "execution_count": 7,
   "metadata": {},
   "outputs": [
    {
     "name": "stdout",
     "output_type": "stream",
     "text": [
      "(0,http://005.holidayblog.jp/wp-content/uploads/2008/02/home.gif)\n",
      "(0,http://022.holidayblog.jp/)\n",
      "(0,http://022.holidayblog.jp/?p=6828)\n",
      "(0,http://022.holidayblog.jp/?m=20060610)\n",
      "(1,http://022.holidayblog.jp/?m=20090310)\n",
      "(2,http://043nobs.com/2018/06/kelvin-ikeduba-predicts-super-eagles-match-against-argentina.html)\n"
     ]
    },
    {
     "data": {
      "text/plain": [
       "linksList = MapPartitionsRDD[12] at flatMap at <console>:57\n",
       "uriList = MapPartitionsRDD[13] at map at <console>:63\n"
      ]
     },
     "metadata": {},
     "output_type": "display_data"
    },
    {
     "data": {
      "text/plain": [
       "MapPartitionsRDD[13] at map at <console>:63"
      ]
     },
     "execution_count": 7,
     "metadata": {},
     "output_type": "execute_result"
    }
   ],
   "source": [
    "val linksList = uriLinkPairsWithIndex.flatMap(pair => {\n",
    "    val (index, uri, links) = pair\n",
    "    \n",
    "    links.map(link => (index, link))\n",
    "})\n",
    "\n",
    "val uriList = uriLinkPairsWithIndex.map(x => (x._1, x._2))\n",
    "\n",
    "linksList.take(3).foreach(println)\n",
    "uriList.take(3).foreach(println)"
   ]
  },
  {
   "cell_type": "code",
   "execution_count": 8,
   "metadata": {},
   "outputs": [
    {
     "name": "stdout",
     "output_type": "stream",
     "text": [
      "[0,http://005.holidayblog.jp/wp-content/uploads/2008/02/home.gif]\n",
      "[0,http://022.holidayblog.jp/]\n",
      "[0,http://022.holidayblog.jp/?p=6828]\n",
      "[0,http://022.holidayblog.jp/?p=6826]\n",
      "root\n",
      " |-- indexFrom: long (nullable = false)\n",
      " |-- to: string (nullable = true)\n",
      "\n",
      "+---------+--------------------+\n",
      "|indexFrom|                  to|\n",
      "+---------+--------------------+\n",
      "|        0|http://005.holida...|\n",
      "|        0|http://022.holida...|\n",
      "|        0|http://022.holida...|\n",
      "|        0|http://022.holida...|\n",
      "|        0|http://022.holida...|\n",
      "|        0|http://022.holida...|\n",
      "|        0|http://022.holida...|\n",
      "|        0|http://022.holida...|\n",
      "|        0|http://022.holida...|\n",
      "|        0|http://022.holida...|\n",
      "|        0|http://022.holida...|\n",
      "|        0|http://022.holida...|\n",
      "|        0|http://022.holida...|\n",
      "|        0|http://022.holida...|\n",
      "|        0|http://022.holida...|\n",
      "|        0|http://022.holida...|\n",
      "|        0|http://022.holida...|\n",
      "|        0|http://022.holida...|\n",
      "|        0|http://022.holida...|\n",
      "|        0|http://022.holida...|\n",
      "+---------+--------------------+\n",
      "only showing top 20 rows\n",
      "\n",
      "root\n",
      " |-- index: long (nullable = false)\n",
      " |-- uri: string (nullable = true)\n",
      "\n",
      "+-----+--------------------+\n",
      "|index|                 uri|\n",
      "+-----+--------------------+\n",
      "|    0|http://022.holida...|\n",
      "|    1|http://022.holida...|\n",
      "|    2|http://043nobs.co...|\n",
      "|    3|http://0532504755...|\n",
      "|    4|http://0538fcw.co...|\n",
      "|    5|http://07100.org....|\n",
      "|    6|http://0800hardwa...|\n",
      "|    7|http://09-news.ru...|\n",
      "|    8|http://0932185523...|\n",
      "|    9|http://0cafe-inn....|\n",
      "|   10|http://0d30.com/l...|\n",
      "|   11|http://0spb.ru/iw...|\n",
      "|   12|http://0xyypf.qkm...|\n",
      "|   13|http://1-2knockou...|\n",
      "|   14|http://10-flower....|\n",
      "|   15|http://1000-metro...|\n",
      "|   16|http://1000-sabor...|\n",
      "|   17|http://1000hands....|\n",
      "|   18|http://1001-love....|\n",
      "|   19|http://100ansdavi...|\n",
      "+-----+--------------------+\n",
      "only showing top 20 rows\n",
      "\n"
     ]
    },
    {
     "data": {
      "text/plain": [
       "linksDF = [indexFrom: bigint, to: string]\n",
       "uriDF = [index: bigint, uri: string]\n"
      ]
     },
     "metadata": {},
     "output_type": "display_data"
    },
    {
     "data": {
      "text/plain": [
       "[index: bigint, uri: string]"
      ]
     },
     "execution_count": 8,
     "metadata": {},
     "output_type": "execute_result"
    }
   ],
   "source": [
    "val linksDF = linksList.toDF(\"indexFrom\", \"to\").cache()\n",
    "val uriDF = uriList.toDF(\"index\", \"uri\").cache()\n",
    "\n",
    "linksDF.rdd.take(4).foreach(println)\n",
    "\n",
    "linksDF.printSchema\n",
    "linksDF.show()\n",
    "\n",
    "uriDF.printSchema\n",
    "uriDF.show()"
   ]
  },
  {
   "cell_type": "code",
   "execution_count": 9,
   "metadata": {},
   "outputs": [
    {
     "name": "stdout",
     "output_type": "stream",
     "text": [
      "+---------+--------------------+-----+--------------------+\n",
      "|indexFrom|                  to|index|                 uri|\n",
      "+---------+--------------------+-----+--------------------+\n",
      "|        0|http://022.holida...|    0|http://022.holida...|\n",
      "|        1|http://022.holida...|    1|http://022.holida...|\n",
      "|        2|http://043nobs.co...|    2|http://043nobs.co...|\n",
      "|        6|http://0800hardwa...|    6|http://0800hardwa...|\n",
      "|        7|http://09-news.ru...|    7|http://09-news.ru...|\n",
      "|       32|http://11599.ru/?...|77786|http://11599.ru/?...|\n",
      "|       34|http://119.245.17...|   34|http://119.245.17...|\n",
      "|       38|http://123domainm...|   38|http://123domainm...|\n",
      "|       39|http://123hacks.x...|   39|http://123hacks.x...|\n",
      "|       47|http://12tomatoes...|   47|http://12tomatoes...|\n",
      "|       47|http://12tomatoes...|   47|http://12tomatoes...|\n",
      "|       48|http://1340thefan...|   48|http://1340thefan...|\n",
      "|       49|http://1340thefan...|   49|http://1340thefan...|\n",
      "|       68|http://1et2et3dou...|   68|http://1et2et3dou...|\n",
      "|       68|http://1et2et3dou...|   68|http://1et2et3dou...|\n",
      "|       68|http://1et2et3dou...|   68|http://1et2et3dou...|\n",
      "|       69|http://1gpenev.bl...|   69|http://1gpenev.bl...|\n",
      "|       69|http://1gpenev.bl...|   69|http://1gpenev.bl...|\n",
      "|       71|http://1kzn.ru/14...|   71|http://1kzn.ru/14...|\n",
      "|       76|http://1planq.inf...|   76|http://1planq.inf...|\n",
      "+---------+--------------------+-----+--------------------+\n",
      "only showing top 20 rows\n",
      "\n",
      "9353251\n",
      "116475\n",
      "0\n",
      "55762\n",
      "[0,http://022.holidayblog.jp/?m=20060610,0,http://022.holidayblog.jp/?m=20060610]\n",
      "[1,http://022.holidayblog.jp/?m=20090310,1,http://022.holidayblog.jp/?m=20090310]\n",
      "[2,http://043nobs.com/2018/06/kelvin-ikeduba-predicts-super-eagles-match-against-argentina.html,2,http://043nobs.com/2018/06/kelvin-ikeduba-predicts-super-eagles-match-against-argentina.html]\n",
      "[6,http://0800hardware.de/acer-prodesigner-monitor-bm270-4k-hdr-97-3-dci-p3-und-1000-nits-hell/,6,http://0800hardware.de/acer-prodesigner-monitor-bm270-4k-hdr-97-3-dci-p3-und-1000-nits-hell/]\n",
      "[7,http://09-news.ru/tag/kchr/page/9/,7,http://09-news.ru/tag/kchr/page/9/]\n",
      "[32,http://11599.ru/?page_id=79,77786,http://11599.ru/?page_id=79]\n",
      "[34,http://119.245.176.28/app-def/S-102/wp3/?m=20180702,34,http://119.245.176.28/app-def/S-102/wp3/?m=20180702]\n",
      "[38,http://123domainme.com/6.html,38,http://123domainme.com/6.html]\n",
      "[39,http://123hacks.xmlfile.us/tag/siegecraft-commander-free/,39,http://123hacks.xmlfile.us/tag/siegecraft-commander-free/]\n",
      "[47,http://12tomatoes.com/shared-copycat-mcdonalds-chicken-nuggets/,47,http://12tomatoes.com/shared-copycat-mcdonalds-chicken-nuggets/]\n"
     ]
    },
    {
     "data": {
      "text/plain": [
       "edgeDF = [indexFrom: bigint, to: string ... 2 more fields]\n"
      ]
     },
     "metadata": {},
     "output_type": "display_data"
    },
    {
     "data": {
      "text/plain": [
       "[indexFrom: bigint, to: string ... 2 more fields]"
      ]
     },
     "execution_count": 9,
     "metadata": {},
     "output_type": "execute_result"
    }
   ],
   "source": [
    "val edgeDF = linksDF\n",
    "    .join(uriDF, linksDF(\"to\") === uriDF(\"uri\"))\n",
    "//     .withColumnRenamed(\"index\", \"indexTo\")\n",
    "    .cache()\n",
    "//     .select(\"indexFrom\", \"indexTo\")\n",
    "\n",
    "edgeDF.show()\n",
    "\n",
    "\n",
    "println(linksDF.rdd.count)\n",
    "println(uriDF.rdd.count)\n",
    "println(edgeDF.filter(\"to != uri\").rdd.count)\n",
    "println(edgeDF.rdd.count)\n",
    "\n",
    "edgeDF.rdd.take(10).foreach(println)"
   ]
  },
  {
   "cell_type": "code",
   "execution_count": 10,
   "metadata": {},
   "outputs": [
    {
     "data": {
      "text/plain": [
       "Name: Syntax Error.\n",
       "Message: \n",
       "StackTrace: "
      ]
     },
     "execution_count": 10,
     "metadata": {},
     "output_type": "execute_result"
    }
   ],
   "source": [
    "// val unconnectedGraph: Graph[String, String] = Graph(uriList, sc.emptyRDD)"
   ]
  },
  {
   "cell_type": "code",
   "execution_count": 11,
   "metadata": {},
   "outputs": [
    {
     "data": {
      "text/plain": [
       "Name: Syntax Error.\n",
       "Message: \n",
       "StackTrace: "
      ]
     },
     "execution_count": 11,
     "metadata": {},
     "output_type": "execute_result"
    }
   ],
   "source": [
    "// val linkGraph = unconnectedGraph"
   ]
  },
  {
   "cell_type": "code",
   "execution_count": null,
   "metadata": {},
   "outputs": [],
   "source": []
  }
 ],
 "metadata": {
  "kernelspec": {
   "display_name": "Spark - Scala",
   "language": "scala",
   "name": "spark_scala"
  },
  "language_info": {
   "codemirror_mode": "text/x-scala",
   "file_extension": ".scala",
   "mimetype": "text/x-scala",
   "name": "scala",
   "pygments_lexer": "scala",
   "version": "2.11.8"
  }
 },
 "nbformat": 4,
 "nbformat_minor": 2
}
