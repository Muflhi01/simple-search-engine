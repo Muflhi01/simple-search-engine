{
 "cells": [
  {
   "cell_type": "code",
   "execution_count": 83,
   "metadata": {
    "scrolled": false
   },
   "outputs": [
    {
     "data": {
      "text/plain": [
       "spark = org.apache.spark.sql.SparkSession@515f6200\n"
      ]
     },
     "metadata": {},
     "output_type": "display_data"
    },
    {
     "data": {
      "text/html": [
       "<ul>\n",
       "<li><a href=\"Some(http://localhost:4041)\" target=\"new_tab\">Spark UI: local-1539687000530</a></li>\n",
       "</ul>"
      ],
      "text/plain": [
       "Spark local-1539687000530: Some(http://localhost:4041)"
      ]
     },
     "execution_count": 83,
     "metadata": {},
     "output_type": "execute_result"
    }
   ],
   "source": [
    "import org.apache.hadoop.conf.Configuration\n",
    "import org.apache.hadoop.io.{LongWritable, Text}\n",
    "import org.apache.hadoop.mapreduce.lib.input.TextInputFormat\n",
    "\n",
    "val spark = SparkSession.builder.master(\"local[*]\").appName(\"SparkSQL\").getOrCreate()\n",
    "\n",
    "import spark.implicits._\n",
    "import org.apache.spark.sql.functions._"
   ]
  },
  {
   "cell_type": "code",
   "execution_count": 47,
   "metadata": {},
   "outputs": [
    {
     "name": "stdout",
     "output_type": "stream",
     "text": [
      "(\r\n",
      "WARC-Type: metadata\r\n",
      "WARC-Target-URI: http://0-50.ru/news/tag/%F4%F3%F2%E1%EE%EB+%D0%EE%F1%F1%E8%E8?page=80\r\n",
      "WARC-Date: 2018-09-26T17:58:38Z\r\n",
      "WARC-Record-ID: <urn:uuid:fa8c5f55-cf06-4127-aab5-605b5de2cb45>\r\n",
      "WARC-Refers-To: <urn:uuid:4793a122-b938-4294-bb05-79a97c0f3caa>\r\n",
      "Content-Type: application/json\r\n",
      "Content-Length: 1454,{\"Container\":{\"Filename\":\"CC-MAIN-20180918130631-20180918150631-00000.warc.gz\",\"Compressed\":true,\"Offset\":\"485\",\"Gzip-Metadata\":{\"Inflated-Length\":\"703\",\"Footer-Length\":\"8\",\"Inflated-CRC\":\"-129749966\",\"Deflate-Length\":\"473\",\"Header-Length\":\"10\"}},\"Envelope\":{\"Format\":\"WARC\",\"WARC-Header-Length\":\"388\",\"Actual-Content-Length\":\"311\",\"WARC-Header-Metadata\":{\"WARC-IP-Address\":\"193.107.238.44\",\"WARC-Target-URI\":\"http://0-50.ru/news/tag/%F4%F3%F2%E1%EE%EB+%D0%EE%F1%F1%E8%E8?page=80\",\"WARC-Warcinfo-ID\":\"<urn:uuid:8d75a1d7-86c5-4788-9e02-7e28190391ba>\",\"WARC-Date\":\"2018-09-18T13:25:39Z\",\"Content-Length\":\"311\",\"WARC-Record-ID\":\"<urn:uuid:4793a122-b938-4294-bb05-79a97c0f3caa>\",\"WARC-Type\":\"request\",\"Content-Type\":\"application/http; msgtype=request\"},\"Block-Digest\":\"sha1:4TCDGVD4W5RLE5AJINFVJPPX56UQVP6N\",\"Payload-Metadata\":{\"Actual-Content-Type\":\"application/http; msgtype=request\",\"HTTP-Request-Metadata\":{\"Headers-Length\":\"309\",\"Entity-Trailing-Slop-Length\":\"0\",\"Entity-Length\":\"0\",\"Headers\":{\"Accept\":\"text/html,application/xhtml+xml,application/xml;q=0.9,*/*;q=0.8\",\"User-Agent\":\"CCBot/2.0 (https://commoncrawl.org/faq/)\",\"Connection\":\"Keep-Alive\",\"If-Modified-Since\":\"Mon, 23 Jul 2018 08:16:53 GMT\",\"Host\":\"0-50.ru\",\"Accept-Encoding\":\"gzip\"},\"Request-Message\":{\"Path\":\"/news/tag/%F4%F3%F2%E1%EE%EB+%D0%EE%F1%F1%E8%E8?page=80\",\"Version\":\"HTTP/1.1\",\"Method\":\"GET\"},\"Entity-Digest\":\"sha1:3I42H3S6NNFQ2MSVX7XZKYAYSCX5QBYJ\"},\"Trailing-Slop-Length\":\"4\"}}})\n"
     ]
    },
    {
     "data": {
      "text/plain": [
       "conf = Configuration: core-default.xml, core-site.xml, mapred-default.xml, mapred-site.xml, yarn-default.xml, yarn-site.xml, hdfs-default.xml, hdfs-site.xml\n",
       "dataset = data/WAT/CC-MAIN-20180918130631-20180918150631-00000.warc.wat NewHadoopRDD[148] at newAPIHadoopFile at <console>:36\n",
       "data = MapPartitionsRDD[153] at map at <console>:50\n"
      ]
     },
     "metadata": {},
     "output_type": "display_data"
    },
    {
     "data": {
      "text/plain": [
       "MapPartitionsRDD[153] at map at <console>:50"
      ]
     },
     "execution_count": 47,
     "metadata": {},
     "output_type": "execute_result"
    }
   ],
   "source": [
    "val conf = new Configuration\n",
    "conf.set(\"textinputformat.record.delimiter\", \"WARC/1.0\")\n",
    "val dataset = sc.newAPIHadoopFile(\n",
    "    \"data/WAT/CC-MAIN-20180918130631-20180918150631-00000.warc.wat\",\n",
    "    classOf[TextInputFormat],\n",
    "    classOf[LongWritable],\n",
    "    classOf[Text], conf\n",
    ")\n",
    "\n",
    "val data = dataset\n",
    "    .map(x => x._2.toString)\n",
    "    .filter(_.length > 0)\n",
    "    .map(_.split(\"\\r\\n\\r\\n\"))\n",
    "    .mapPartitionsWithIndex {  \n",
    "        (idx, iter) => if (idx == 0) iter.drop(2) else iter \n",
    "    }\n",
    "    .map(arr => (arr(0), arr(1)))\n",
    "\n",
    "data.take(1).foreach(println)"
   ]
  },
  {
   "cell_type": "code",
   "execution_count": 163,
   "metadata": {
    "scrolled": true
   },
   "outputs": [
    {
     "name": "stdout",
     "output_type": "stream",
     "text": [
      "(http://0-50.ru/news/tag/%F4%F3%F2%E1%EE%EB+%D0%EE%F1%F1%E8%E8,{\"Container\":{\"Filename\":\"CC-MAIN-20180918130631-20180918150631-00000.warc.gz\",\"Compressed\":true,\"Offset\":\"485\",\"Gzip-Metadata\":{\"Inflated-Length\":\"703\",\"Footer-Length\":\"8\",\"Inflated-CRC\":\"-129749966\",\"Deflate-Length\":\"473\",\"Header-Length\":\"10\"}},\"Envelope\":{\"Format\":\"WARC\",\"WARC-Header-Length\":\"388\",\"Actual-Content-Length\":\"311\",\"WARC-Header-Metadata\":{\"WARC-IP-Address\":\"193.107.238.44\",\"WARC-Target-URI\":\"http://0-50.ru/news/tag/%F4%F3%F2%E1%EE%EB+%D0%EE%F1%F1%E8%E8?page=80\",\"WARC-Warcinfo-ID\":\"<urn:uuid:8d75a1d7-86c5-4788-9e02-7e28190391ba>\",\"WARC-Date\":\"2018-09-18T13:25:39Z\",\"Content-Length\":\"311\",\"WARC-Record-ID\":\"<urn:uuid:4793a122-b938-4294-bb05-79a97c0f3caa>\",\"WARC-Type\":\"request\",\"Content-Type\":\"application/http; msgtype=request\"},\"Block-Digest\":\"sha1:4TCDGVD4W5RLE5AJINFVJPPX56UQVP6N\",\"Payload-Metadata\":{\"Actual-Content-Type\":\"application/http; msgtype=request\",\"HTTP-Request-Metadata\":{\"Headers-Length\":\"309\",\"Entity-Trailing-Slop-Length\":\"0\",\"Entity-Length\":\"0\",\"Headers\":{\"Accept\":\"text/html,application/xhtml+xml,application/xml;q=0.9,*/*;q=0.8\",\"User-Agent\":\"CCBot/2.0 (https://commoncrawl.org/faq/)\",\"Connection\":\"Keep-Alive\",\"If-Modified-Since\":\"Mon, 23 Jul 2018 08:16:53 GMT\",\"Host\":\"0-50.ru\",\"Accept-Encoding\":\"gzip\"},\"Request-Message\":{\"Path\":\"/news/tag/%F4%F3%F2%E1%EE%EB+%D0%EE%F1%F1%E8%E8?page=80\",\"Version\":\"HTTP/1.1\",\"Method\":\"GET\"},\"Entity-Digest\":\"sha1:3I42H3S6NNFQ2MSVX7XZKYAYSCX5QBYJ\"},\"Trailing-Slop-Length\":\"4\"}}})\n",
      "(http://0-50.ru/news/tag/%F4%F3%F2%E1%EE%EB+%D0%EE%F1%F1%E8%E8,{\"Container\":{\"Filename\":\"CC-MAIN-20180918130631-20180918150631-00000.warc.gz\",\"Compressed\":true,\"Offset\":\"958\",\"Gzip-Metadata\":{\"Inflated-Length\":\"41321\",\"Footer-Length\":\"8\",\"Inflated-CRC\":\"1771694835\",\"Deflate-Length\":\"11346\",\"Header-Length\":\"10\"}},\"Envelope\":{\"Format\":\"WARC\",\"WARC-Header-Length\":\"620\",\"Actual-Content-Length\":\"40697\",\"WARC-Header-Metadata\":{\"WARC-Identified-Payload-Type\":\"text/html\",\"WARC-Payload-Digest\":\"sha1:T4GLRJUATIB7DN2UJKXYCJOKYE2PL5G5\",\"WARC-IP-Address\":\"193.107.238.44\",\"WARC-Block-Digest\":\"sha1:BX74PXKINNMTZDZUUJ23HFEFHUNKASMB\",\"WARC-Target-URI\":\"http://0-50.ru/news/tag/%F4%F3%F2%E1%EE%EB+%D0%EE%F1%F1%E8%E8?page=80\",\"WARC-Warcinfo-ID\":\"<urn:uuid:8d75a1d7-86c5-4788-9e02-7e28190391ba>\",\"WARC-Concurrent-To\":\"<urn:uuid:4793a122-b938-4294-bb05-79a97c0f3caa>\",\"WARC-Date\":\"2018-09-18T13:25:39Z\",\"Content-Length\":\"40697\",\"WARC-Record-ID\":\"<urn:uuid:f913b540-0874-44a0-ae86-3549ae53096b>\",\"WARC-Type\":\"response\",\"Content-Type\":\"application/http; msgtype=response\"},\"Block-Digest\":\"sha1:BX74PXKINNMTZDZUUJ23HFEFHUNKASMB\",\"Payload-Metadata\":{\"Actual-Content-Type\":\"application/http; msgtype=response\",\"HTTP-Response-Metadata\":{\"Headers-Length\":\"470\",\"Entity-Trailing-Slop-Length\":\"0\",\"Entity-Length\":\"40227\",\"Headers\":{\"X-Crawler-Transfer-Encoding\":\"chunked\",\"X-Crawler-Content-Encoding\":\"gzip\",\"Server\":\"nginx/1.2.1\",\"Cache-Control\":\"no-store, no-cache, must-revalidate, post-check=0, pre-check=0\",\"Connection\":\"keep-alive\",\"Vary\":\"Accept-Encoding\",\"Set-Cookie\":\"PHPSESSID=3047569b9853f8dc219e7977e71ddca4; path=/\",\"Expires\":\"Thu, 19 Nov 1981 08:52:00 GMT\",\"Pragma\":\"no-cache\",\"Date\":\"Tue, 18 Sep 2018 13:25:39 GMT\",\"Content-Type\":\"text/html; charset=windows-1251\",\"X-Powered-By\":\"PHP/5.4.32\"},\"Response-Message\":{\"Status\":\"200\",\"Version\":\"HTTP/1.1\",\"Reason\":\"OK\"},\"HTML-Metadata\":{\"Head\":{\"Metas\":[{\"name\":\"description\",\"content\":\"\"},{\"name\":\"author\",\"content\":\"Denis V. Korolkov right.ked@gmail.com\"},{\"name\":\"rp51afcaa28a694b82948bd3a36a0490f8\",\"content\":\"f3aeec7e35993bbadcd70e9a9c5bb26d\"},{\"name\":\"viewport\",\"content\":\"width=device-width, initial-scale=1, maximum-scale=1\"}],\"Scripts\":[{\"path\":\"SCRIPT@/src\",\"type\":\"text/javascript\",\"url\":\"/includes/smoothscroll.js\"},{\"path\":\"SCRIPT@/src\",\"type\":\"text/javascript\",\"url\":\"http://code.jquery.com/jquery-1.9.1.min.js\"},{\"path\":\"SCRIPT@/src\",\"type\":\"text/javascript\",\"url\":\"/includes/jquery.easing.1.3.js\"},{\"path\":\"SCRIPT@/src\",\"type\":\"text/javascript\",\"url\":\"/includes/jquery.ui.totop.js\"},{\"path\":\"SCRIPT@/src\",\"type\":\"text/javascript\",\"url\":\"/include/swfobject/swfobject.js\"},{\"path\":\"SCRIPT@/src\",\"url\":\"https://w.uptolike.com/widgets/v1/zp.js?pid=46593\"},{\"path\":\"SCRIPT@/src\",\"type\":\"text/javascript\",\"url\":\"http://www.directadvert.ru/show.cgi?adp=9224&div=DIV_DA_9224\"},{\"path\":\"SCRIPT@/src\",\"type\":\"text/javascript\",\"url\":\"http://www.directadvert.ru/show.cgi?adp=9229&div=DIV_DA_9229\"}],\"Title\":\"Новости 0-50.ru | Новости по тегу: футбол России\",\"Link\":[{\"path\":\"LINK@/href\",\"rel\":\"stylesheet\",\"url\":\"/includes/base.css\"},{\"path\":\"LINK@/href\",\"rel\":\"stylesheet\",\"url\":\"/includes/style.css\"},{\"path\":\"LINK@/href\",\"rel\":\"stylesheet\",\"url\":\"/includes/layout.css\"},{\"path\":\"LINK@/href\",\"rel\":\"stylesheet\",\"url\":\"/includes/amazium.css\"},{\"path\":\"LINK@/href\",\"rel\":\"shortcut icon\",\"url\":\"/images/favicon.ico\"},{\"path\":\"LINK@/href\",\"rel\":\"apple-touch-icon\",\"url\":\"/apple-touch-icon-57.png\"},{\"path\":\"LINK@/href\",\"rel\":\"apple-touch-icon\",\"url\":\"/apple-touch-icon-114.png\"},{\"path\":\"LINK@/href\",\"rel\":\"apple-touch-icon\",\"url\":\"/apple-touch-icon-72.png\"},{\"path\":\"LINK@/href\",\"rel\":\"apple-touch-icon\",\"url\":\"/apple-touch-icon-144.png\"}]},\"Links\":[{\"path\":\"IMG@/src\",\"alt\":\"\",\"url\":\"//mc.yandex.ru/watch/21009928\"},{\"path\":\"A@/href\",\"text\":\"Погода в Екатеринбурге и Свердловской области\",\"url\":\"/news/label/%CF%EE%E3%EE%E4%E0+%E2+%C5%EA%E0%F2%E5%F0%E8%ED%E1%F3%F0%E3%E5+%E8+%D1%E2%E5%F0%E4%EB%EE%E2%F1%EA%EE%E9+%EE%E1%EB%E0%F1%F2%E8\"},{\"path\":\"A@/href\",\"text\":\"Что приготовить на ужин рецепт с фото\",\"url\":\"/news/label/%D7%F2%EE+%EF%F0%E8%E3%EE%F2%EE%E2%E8%F2%FC+%ED%E0+%F3%E6%E8%ED+%F0%E5%F6%E5%EF%F2+%F1+%F4%EE%F2%EE\"},{\"path\":\"A@/href\",\"text\":\"Новости Екатеринбурга\",\"url\":\"/news/label/%CD%EE%E2%EE%F1%F2%E8+%C5%EA%E0%F2%E5%F0%E8%ED%E1%F3%F0%E3%E0\"},{\"path\":\"A@/href\",\"text\":\"96women.ru - Живой Женский Журнал\",\"url\":\"/news/label/96women.ru+-+%C6%E8%E2%EE%E9+%C6%E5%ED%F1%EA%E8%E9+%C6%F3%F0%ED%E0%EB\"},{\"path\":\"A@/href\",\"text\":\"Главная\",\"url\":\"/\"},{\"path\":\"A@/href\",\"text\":\"Редакция\",\"url\":\"/editorial.html\"},{\"path\":\"A@/href\",\"text\":\"Реклама\",\"url\":\"/advertising.html\"},{\"path\":\"A@/href\",\"text\":\"О проекте\",\"url\":\"/aboutus.html\"},{\"path\":\"A@/href\",\"text\":\"RSS\",\"url\":\"/rss/\"},{\"path\":\"A@/href\",\"text\":\"Обратная связь\",\"url\":\"/sendmail/\"},{\"path\":\"A@/href\",\"text\":\"Все новости\",\"url\":\"/news/\"},{\"path\":\"IMG@/src\",\"alt\":\"0-50.RU\",\"title\":\"0-50.RU\",\"url\":\"/images/logo.png\"},{\"path\":\"A@/href\",\"url\":\"http://0-50.ru/\"},{\"path\":\"IMG@/src\",\"url\":\"/images/banners/51234_original.jpg\"},{\"path\":\"A@/href\",\"title\":\"\",\"url\":\"/banners/26/\",\"target\":\"_blank\"},{\"path\":\"A@/href\",\"text\":\"Екатеринбург\",\"url\":\"/news/eburg/\"},{\"path\":\"A@/href\",\"text\":\"Россия и мир\",\"url\":\"/news/russia/\"},{\"path\":\"A@/href\",\"text\":\"Образование\",\"url\":\"/news/education/\"},{\"path\":\"A@/href\",\"text\":\"Недвижимость\",\"url\":\"/news/polit/\"},{\"path\":\"A@/href\",\"text\":\"Здоровье\",\"url\":\"/news/health/\"},{\"path\":\"A@/href\",\"text\":\"Спорт\",\"url\":\"/news/sport/\"},{\"path\":\"A@/href\",\"text\":\"Происшествия\",\"url\":\"/news/incident/\"},{\"path\":\"A@/href\",\"text\":\"Транспорт\",\"url\":\"/news/auto/\"},{\"path\":\"A@/href\",\"text\":\"Новости компаний\",\"url\":\"/news/company/\"},{\"path\":\"A@/href\",\"text\":\"Другая жизнь\",\"url\":\"/news/socium/\"},{\"path\":\"A@/href\",\"text\":\"Статьи\",\"url\":\"/news/article/\"},{\"path\":\"FORM@/action\",\"method\":\"get\",\"url\":\"/search/\"},{\"path\":\"A@/href\",\"text\":\"В Екатеринбурге на Московской водитель Chevrolet Cruze протаранил дерево и сбежал в лес\",\"url\":\"/news/incident/2018-09-16/id_64718.html\"},{\"path\":\"A@/href\",\"title\":\"Комментарии ()\",\"url\":\"/news/incident/2018-09-16/id_64718.html#comments\"},{\"path\":\"A@/href\",\"text\":\"В Екатеринбурге во дворе дома №5 в переулке Красном сожгли Toyota и повредили Hyundai Solaris\",\"url\":\"/news/incident/2018-09-16/id_64717.html\"},{\"path\":\"A@/href\",\"title\":\"Комментарии ()\",\"url\":\"/news/incident/2018-09-16/id_64717.html#comments\"},{\"path\":\"A@/href\",\"text\":\"Под Богдановичем девушка на ВАЗ-2114 попала в лобовое ДТП с бензовозом Scania\",\"url\":\"/news/incident/2018-09-15/id_64716.html\"},{\"path\":\"A@/href\",\"title\":\"Комментарии ()\",\"url\":\"/news/incident/2018-09-15/id_64716.html#comments\"},{\"path\":\"A@/href\",\"text\":\"В Екатеринбурге меняют лыжи на айфоны\",\"url\":\"/news/line/2018-09-14/id_64714.html\"},{\"path\":\"A@/href\",\"title\":\"Комментарии ()\",\"url\":\"/news/line/2018-09-14/id_64714.html#comments\"},{\"path\":\"A@/href\",\"text\":\"Жители Екатеринбурга назвали идеальный возраст для брака\",\"url\":\"/news/line/2018-09-14/id_64713.html\"},{\"path\":\"A@/href\",\"title\":\"Комментарии ()\",\"url\":\"/news/line/2018-09-14/id_64713.html#comments\"},{\"path\":\"A@/href\",\"text\":\"Погода в Екатеринбурге в выходные порадует теплом и относительной сухостью\",\"url\":\"/news/line/2018-09-13/id_64712.html\"},{\"path\":\"A@/href\",\"title\":\"Комментарии ()\",\"url\":\"/news/line/2018-09-13/id_64712.html#comments\"},{\"path\":\"A@/href\",\"text\":\"До 2021 года микрорайон Академический избавится от пробок\",\"url\":\"/news/line/2018-09-11/id_64709.html\"},{\"path\":\"A@/href\",\"title\":\"Комментарии ()\",\"url\":\"/news/line/2018-09-11/id_64709.html#comments\"},{\"path\":\"A@/href\",\"text\":\"Роман Сергея Маркова «Ход Королем» вошел в лонг-лист Международной детской литературной премии имени\",\"url\":\"/news/line/2018-09-10/id_64708.html\"},{\"path\":\"A@/href\",\"title\":\"Комментарии ()\",\"url\":\"/news/line/2018-09-10/id_64708.html#comments\"},{\"path\":\"A@/href\",\"text\":\"В Екатеринбурге ищут мужчину, который на ВАЗ-2114 протаранил здание пиццерии на Белинского\",\"url\":\"/news/incident/2018-09-10/id_64706.html\"},{\"path\":\"A@/href\",\"title\":\"Комментарии ()\",\"url\":\"/news/incident/2018-09-10/id_64706.html#comments\"},{\"path\":\"A@/href\",\"text\":\"Антон Соколов, Валерий Демин и Антон Оппер из УралГУФК стали чемпионами мира по мини-футболу среди с\",\"url\":\"/news/education/2018-09-08/id_64705.html\"},{\"path\":\"A@/href\",\"title\":\"Комментарии ()\",\"url\":\"/news/education/2018-09-08/id_64705.html#comments\"},{\"path\":\"A@/href\",\"text\":\"Все новости Екатеринбурга&hellip;\",\"url\":\"/news/eburg\"},{\"path\":\"IMG@/src\",\"alt\":\"\",\"title\":\"\",\"url\":\"/images/foto/27039_square.jpg\"},{\"path\":\"A@/href\",\"url\":\"http://0-50.ru/news/line/2012-04-12/id_23319.html\"},{\"path\":\"A@/href\",\"text\":\"Футбол: новый чемпионат России стартует 22 июля\",\"url\":\"http://0-50.ru/news/line/2012-04-12/id_23319.html\"},{\"path\":\"A@/href\",\"text\":\"На общем собрании клубов РФПЛ сегодня была утверждена дата начала очередного чемпионата РФ по футбол\",\"url\":\"http://0-50.ru/news/line/2012-04-12/id_23319.html\"},{\"path\":\"IMG@/src\",\"alt\":\"\",\"title\":\"\",\"url\":\"/images/foto/27016_square.jpg\"},{\"path\":\"A@/href\",\"url\":\"http://0-50.ru/news/line/2012-04-11/id_23297.html\"},{\"path\":\"A@/href\",\"text\":\"Футбол, первый дивизион: «Урал» победил в гостях «Аланию», счет 2:1\",\"url\":\"http://0-50.ru/news/line/2012-04-11/id_23297.html\"},{\"path\":\"A@/href\",\"text\":\"В 45-м туре чемпионата России по футболу в первом дивизионе екатеринбургский \\\"Урал\\\" одержал волевую\",\"url\":\"http://0-50.ru/news/line/2012-04-11/id_23297.html\"},{\"path\":\"IMG@/src\",\"alt\":\"\",\"title\":\"\",\"url\":\"/images/foto/26949_square.jpg\"},{\"path\":\"A@/href\",\"url\":\"http://0-50.ru/news/line/2012-04-07/id_23237.html\"},{\"path\":\"A@/href\",\"text\":\"Футбол: ЦСКА и «Анжи» разошлись миром, счет 0:0\",\"url\":\"http://0-50.ru/news/line/2012-04-07/id_23237.html\"},{\"path\":\"A@/href\",\"text\":\"Программу футбольного вечера закончили сегодня матчем в \\\"Лужниках\\\" московский ЦСКА и \\\"Анжи\\\". Игра за\",\"url\":\"http://0-50.ru/news/line/2012-04-07/id_23237.html\"},{\"path\":\"IMG@/src\",\"alt\":\"\",\"title\":\"\",\"url\":\"/images/foto/26948_square.jpg\"},{\"path\":\"A@/href\",\"url\":\"http://0-50.ru/news/line/2012-04-07/id_23236.html\"},{\"path\":\"A@/href\",\"text\":\"Футбол: «Локомотив» проиграл «Зениту», счет 0:1\",\"url\":\"http://0-50.ru/news/line/2012-04-07/id_23236.html\"},{\"path\":\"A@/href\",\"text\":\"Питерский \\\"Зенит\\\" в 38-м туре футбольного чемпионата России в премьер-лиге сделал весомый шаг к ново\",\"url\":\"http://0-50.ru/news/line/2012-04-07/id_23236.html\"},{\"path\":\"IMG@/src\",\"alt\":\"\",\"title\":\"\",\"url\":\"/images/foto/26945_square.jpg\"},{\"path\":\"A@/href\",\"url\":\"http://0-50.ru/news/line/2012-04-07/id_23233.html\"},{\"path\":\"A@/href\",\"text\":\"Футбол: трансляцию матча ЦСКА - «Анжи» смотреть на канале «Россия 2»\",\"url\":\"http://0-50.ru/news/line/2012-04-07/id_23233.html\"},{\"path\":\"A@/href\",\"text\":\"Прямую трансляцию матча ЦСКА - \\\"Анжи\\\" смотрите на канале \\\"Россия 2\\\" и на сайте Вести.Ru. Начало матч\",\"url\":\"http://0-50.ru/news/line/2012-04-07/id_23233.html\"},{\"path\":\"IMG@/src\",\"alt\":\"\",\"title\":\"\",\"url\":\"/images/foto/26911_square.jpg\"},{\"path\":\"A@/href\",\"url\":\"http://0-50.ru/news/sport/2012-04-06/id_23199.html\"},{\"path\":\"A@/href\",\"text\":\"Футбол, первый дивизион: главный тренер «Урала» Александр Побегалов отправлен в отставку\",\"url\":\"http://0-50.ru/news/sport/2012-04-06/id_23199.html\"},{\"path\":\"A@/href\",\"text\":\"Главный тренер футбольного клуба \\\"Урал\\\" Александр Побегалов отправлен в отставку.\",\"url\":\"http://0-50.ru/news/sport/2012-04-06/id_23199.html\"},{\"path\":\"IMG@/src\",\"alt\":\"\",\"title\":\"\",\"url\":\"/images/foto/26894_square.jpg\"},{\"path\":\"A@/href\",\"url\":\"http://0-50.ru/news/sport/2012-04-05/id_23182.html\"},{\"path\":\"A@/href\",\"text\":\"Футбол, первый дивизион: «Урал» проиграл «Нижнему Новгороду», счет 0:2\",\"url\":\"http://0-50.ru/news/sport/2012-04-05/id_23182.html\"},{\"path\":\"A@/href\",\"text\":\"44-й тур чемпионата России по футболу в первом дивизионе закончился в Екатеринбурге матчем местного\",\"url\":\"http://0-50.ru/news/sport/2012-04-05/id_23182.html\"},{\"path\":\"IMG@/src\",\"alt\":\"\",\"title\":\"\",\"url\":\"/images/foto/26863_square.jpg\"},{\"path\":\"A@/href\",\"url\":\"http://0-50.ru/news/sport/2012-04-04/id_23152.html\"},{\"path\":\"A@/href\",\"text\":\"Футбол, первый дивизион: «Торпедо» сыграло вничью с «Сибирью», счет 1:1\",\"url\":\"http://0-50.ru/news/sport/2012-04-04/id_23152.html\"},{\"path\":\"A@/href\",\"text\":\"Московские торпедовцы сыграли вничью с \\\"Сибирью\\\" в очередном чемпионата России по футболу в первом д\",\"url\":\"http://0-50.ru/news/sport/2012-04-04/id_23152.html\"},{\"path\":\"IMG@/src\",\"alt\":\"\",\"title\":\"\",\"url\":\"/images/foto/26862_square.jpg\"},{\"path\":\"A@/href\",\"url\":\"http://0-50.ru/news/sport/2012-04-04/id_23151.html\"},{\"path\":\"A@/href\",\"text\":\"Футбол, первый дивизион: брянское «Динамо» проиграло «Алании», счет 1:2\",\"url\":\"http://0-50.ru/news/sport/2012-04-04/id_23151.html\"},{\"path\":\"A@/href\",\"text\":\"В очередном туре чемпионата России по футболу в первом дивизионе брянское \\\"Динамо\\\" принимало владика\",\"url\":\"http://0-50.ru/news/sport/2012-04-04/id_23151.html\"},{\"path\":\"IMG@/src\",\"alt\":\"\",\"title\":\"\",\"url\":\"/images/foto/26711_square.jpg\"},{\"path\":\"A@/href\",\"url\":\"http://0-50.ru/news/sport/2012-03-31/id_23008.html\"},{\"path\":\"A@/href\",\"text\":\"Футбол, Первый дивизион: «Урал» победил в гостях «Сибирь», счет 1:0\",\"url\":\"http://0-50.ru/news/sport/2012-03-31/id_23008.html\"},{\"path\":\"A@/href\",\"text\":\"В Новосибирске в матче 43-го тура чемпионата России по футболу в первом дивизионе встречались «Сибир\",\"url\":\"http://0-50.ru/news/sport/2012-03-31/id_23008.html\"},{\"path\":\"IMG@/src\",\"alt\":\"\",\"title\":\"\",\"url\":\"/images/foto/26629_square.jpg\"},{\"path\":\"A@/href\",\"url\":\"http://0-50.ru/news/sport/2012-03-28/id_22932.html\"},{\"path\":\"A@/href\",\"text\":\"Футбол, Евро-2012: сборная России поменяла план подготовки\",\"url\":\"http://0-50.ru/news/sport/2012-03-28/id_22932.html\"},{\"path\":\"A@/href\",\"text\":\"Некоторые изменения в план подготовки футбольной сборной России к Евро-2012 внесены в последнее врем\",\"url\":\"http://0-50.ru/news/sport/2012-03-28/id_22932.html\"},{\"path\":\"IMG@/src\",\"alt\":\"\",\"title\":\"\",\"url\":\"/images/foto/26600_square.jpg\"},{\"path\":\"A@/href\",\"url\":\"http://0-50.ru/news/sport/2012-03-27/id_22908.html\"},{\"path\":\"A@/href\",\"text\":\"Футбол, первый дивизион: «Урал» победил «Торпедо» со счетом 2:0\",\"url\":\"http://0-50.ru/news/sport/2012-03-27/id_22908.html\"},{\"path\":\"A@/href\",\"text\":\"В Екатеринбурге в матче 42-го тура чемпионата России по футболу в первом дивизионе встречались «Урал\",\"url\":\"http://0-50.ru/news/sport/2012-03-27/id_22908.html\"},{\"path\":\"IMG@/src\",\"alt\":\"\",\"title\":\"\",\"url\":\"/images/foto/26558_square.jpg\"},{\"path\":\"A@/href\",\"url\":\"http://0-50.ru/news/line/2012-03-25/id_22868.html\"},{\"path\":\"A@/href\",\"text\":\"Футбол, чемпионат России: «Зенит» и «Рубин» сыграли вничью, счет 1:1\",\"url\":\"http://0-50.ru/news/line/2012-03-25/id_22868.html\"},{\"path\":\"A@/href\",\"text\":\"Лидер чемпионата России питерский \\\"Зенит\\\" в очередной раз упустил возможность оторваться от идущего\",\"url\":\"http://0-50.ru/news/line/2012-03-25/id_22868.html\"},{\"path\":\"IMG@/src\",\"alt\":\"\",\"title\":\"\",\"url\":\"/images/foto/26427_square.jpg\"},{\"path\":\"A@/href\",\"url\":\"http://0-50.ru/news/sport/2012-03-20/id_22752.html\"},{\"path\":\"A@/href\",\"text\":\"Футбол, первый дивизион: «Урал» проиграл «Шиннику», счет 0:1\",\"url\":\"http://0-50.ru/news/sport/2012-03-20/id_22752.html\"},{\"path\":\"A@/href\",\"text\":\"В 41-м туре первенства ФНЛ екатеринбургский \\\"Урал\\\" благополучно продлил свою безвыигрышную серию до\",\"url\":\"http://0-50.ru/news/sport/2012-03-20/id_22752.html\"},{\"path\":\"IMG@/src\",\"alt\":\"\",\"title\":\"\",\"url\":\"/images/foto/26318_square.jpg\"},{\"path\":\"A@/href\",\"url\":\"http://0-50.ru/news/sport/2012-03-16/id_22647.html\"},{\"path\":\"A@/href\",\"text\":\"Футбол, первый дивизион: брянское «Динамо» победило «Урал», счет 2:1\",\"url\":\"http://0-50.ru/news/sport/2012-03-16/id_22647.html\"},{\"path\":\"A@/href\",\"text\":\"Екатеринбургский \\\"Урал\\\" проиграл в Брянске \\\"Динамо\\\" со счетом 1:2.\",\"url\":\"http://0-50.ru/news/sport/2012-03-16/id_22647.html\"},{\"path\":\"IMG@/src\",\"alt\":\"\",\"title\":\"\",\"url\":\"/images/foto/26225_square.jpg\"},{\"path\":\"A@/href\",\"url\":\"http://0-50.ru/news/line/2012-03-12/id_22574.html\"},{\"path\":\"A@/href\",\"text\":\"Футбол, первый дивизион: «Урал» сыграл вничью с «Мордовией», счет 1:1\",\"url\":\"http://0-50.ru/news/line/2012-03-12/id_22574.html\"},{\"path\":\"A@/href\",\"text\":\"Екатеринбургский \\\"Урал\\\" принимал команду \\\"Мордовия\\\" из Саранска. Встреча закончилась вничью со счето\",\"url\":\"http://0-50.ru/news/line/2012-03-12/id_22574.html\"},{\"path\":\"IMG@/src\",\"alt\":\"\",\"title\":\"\",\"url\":\"/images/foto/4764_square.jpg\"},{\"path\":\"A@/href\",\"url\":\"http://0-50.ru/news/sport/2009-10-15/id_4416.html\"},{\"path\":\"A@/href\",\"text\":\"Аршавин считает справедливым результат отборочного цикла.\",\"url\":\"http://0-50.ru/news/sport/2009-10-15/id_4416.html\"},{\"path\":\"A@/href\",\"text\":\"Футболист сборной России Андрей Аршавин считает справедливым расклад сил в 4-й группе по итогам отбо\",\"url\":\"http://0-50.ru/news/sport/2009-10-15/id_4416.html\"},{\"path\":\"IMG@/src\",\"alt\":\"\",\"title\":\"\",\"url\":\"/images/foto/2842_square.jpg\"},{\"path\":\"A@/href\",\"url\":\"http://0-50.ru/news/sport/2009-08-27/id_2605.html\"},{\"path\":\"A@/href\",\"text\":\"Быстров вернется в «Зенит» за 15 миллионов евро\",\"url\":\"http://0-50.ru/news/sport/2009-08-27/id_2605.html\"},{\"path\":\"A@/href\",\"text\":\"«Зенит» купил Владимира Быстрова за 15 миллионов евро\",\"url\":\"http://0-50.ru/news/sport/2009-08-27/id_2605.html\"},{\"path\":\"A@/href\",\"text\":\"&lt;\",\"title\":\"предыдущая страница\",\"url\":\"?page=79\"},{\"path\":\"A@/href\",\"text\":\"1\",\"title\":\"На первую страницу\",\"url\":\"?page=1\"},{\"path\":\"A@/href\",\"text\":\"77\",\"title\":\"страница 77\",\"url\":\"?page=77\"},{\"path\":\"A@/href\",\"text\":\"78\",\"title\":\"страница 78\",\"url\":\"?page=78\"},{\"path\":\"A@/href\",\"text\":\"79\",\"title\":\"страница 79\",\"url\":\"?page=79\"},{\"path\":\"A@/href\",\"text\":\"Облако тегов\",\"url\":\"/news/tag/\"},{\"path\":\"A@/href\",\"text\":\"украина&nbsp;новости&nbsp;сегодня\",\"url\":\"/news/tag/%F3%EA%F0%E0%E8%ED%E0+%ED%EE%E2%EE%F1%F2%E8+%F1%E5%E3%EE%E4%ED%FF\"},{\"path\":\"A@/href\",\"text\":\"погода&nbsp;в&nbsp;Москве\",\"url\":\"/news/tag/%EF%EE%E3%EE%E4%E0+%E2+%CC%EE%F1%EA%E2%E5\"},{\"path\":\"A@/href\",\"text\":\"Евгений&nbsp;Куйвашев\",\"url\":\"/news/tag/%C5%E2%E3%E5%ED%E8%E9+%CA%F3%E9%E2%E0%F8%E5%E2\"},{\"path\":\"A@/href\",\"text\":\"новости&nbsp;Крыма&nbsp;сегодня\",\"url\":\"/news/tag/%ED%EE%E2%EE%F1%F2%E8+%CA%F0%FB%EC%E0+%F1%E5%E3%EE%E4%ED%FF\"},{\"path\":\"A@/href\",\"text\":\"новости&nbsp;Мариуполя&nbsp;сегодня\",\"url\":\"/news/tag/%ED%EE%E2%EE%F1%F2%E8+%CC%E0%F0%E8%F3%EF%EE%EB%FF+%F1%E5%E3%EE%E4%ED%FF\"},{\"path\":\"A@/href\",\"text\":\"новости&nbsp;дом&nbsp;2&nbsp;сегодня\",\"url\":\"/news/tag/%ED%EE%E2%EE%F1%F2%E8+%E4%EE%EC+2+%F1%E5%E3%EE%E4%ED%FF\"},{\"path\":\"A@/href\",\"text\":\"новости&nbsp;дом&nbsp;2&nbsp;на&nbsp;сегодня\",\"url\":\"/news/tag/%ED%EE%E2%EE%F1%F2%E8+%E4%EE%EC+2+%ED%E0+%F1%E5%E3%EE%E4%ED%FF\"},{\"path\":\"A@/href\",\"text\":\"Александр&nbsp;Мишарин\",\"url\":\"/news/tag/%C0%EB%E5%EA%F1%E0%ED%E4%F0+%CC%E8%F8%E0%F0%E8%ED\"},{\"path\":\"A@/href\",\"text\":\"слухи&nbsp;на&nbsp;дом&nbsp;2\",\"url\":\"/news/tag/%F1%EB%F3%F5%E8+%ED%E0+%E4%EE%EC+2\"},{\"path\":\"A@/href\",\"text\":\"новости&nbsp;Луганска\",\"url\":\"/news/tag/%ED%EE%E2%EE%F1%F2%E8+%CB%F3%E3%E0%ED%F1%EA%E0\"},{\"path\":\"A@/href\",\"text\":\"украина&nbsp;майдан&nbsp;последние&nbsp;новости&nbsp;2014\",\"url\":\"/news/tag/%F3%EA%F0%E0%E8%ED%E0+%EC%E0%E9%E4%E0%ED+%EF%EE%F1%EB%E5%E4%ED%E8%E5+%ED%EE%E2%EE%F1%F2%E8+2014\"},{\"path\":\"A@/href\",\"text\":\"новости&nbsp;дом&nbsp;2&nbsp;свежие\",\"url\":\"/news/tag/%ED%EE%E2%EE%F1%F2%E8+%E4%EE%EC+2+%F1%E2%E5%E6%E8%E5\"},{\"path\":\"A@/href\",\"text\":\"киев&nbsp;новости\",\"url\":\"/news/tag/%EA%E8%E5%E2+%ED%EE%E2%EE%F1%F2%E8\"},{\"path\":\"A@/href\",\"text\":\"новости&nbsp;дом&nbsp;2&nbsp;2012\",\"url\":\"/news/tag/%ED%EE%E2%EE%F1%F2%E8+%E4%EE%EC+2+2012\"},{\"path\":\"A@/href\",\"text\":\"Футбол\",\"url\":\"/news/tag/%D4%F3%F2%E1%EE%EB\"},{\"path\":\"A@/href\",\"text\":\"авария\",\"url\":\"/news/tag/%E0%E2%E0%F0%E8%FF\"},{\"path\":\"A@/href\",\"text\":\"футбол&nbsp;России\",\"url\":\"/news/tag/%F4%F3%F2%E1%EE%EB+%D0%EE%F1%F1%E8%E8\"},{\"path\":\"A@/href\",\"text\":\"дом&nbsp;2&nbsp;новости\",\"url\":\"/news/tag/%E4%EE%EC+2+%ED%EE%E2%EE%F1%F2%E8\"},{\"path\":\"A@/href\",\"text\":\"новости&nbsp;дом&nbsp;2\",\"url\":\"/news/tag/%ED%EE%E2%EE%F1%F2%E8+%E4%EE%EC+2\"},{\"path\":\"A@/href\",\"text\":\"Биатлон\",\"url\":\"/news/tag/%C1%E8%E0%F2%EB%EE%ED\"},{\"path\":\"A@/href\",\"text\":\"Пожар\",\"url\":\"/news/tag/%CF%EE%E6%E0%F0\"},{\"path\":\"A@/href\",\"text\":\"новости&nbsp;Краматорска\",\"url\":\"/news/tag/%ED%EE%E2%EE%F1%F2%E8+%CA%F0%E0%EC%E0%F2%EE%F0%F1%EA%E0\"},{\"path\":\"A@/href\",\"text\":\"новости&nbsp;Луганска&nbsp;сегодня\",\"url\":\"/news/tag/%ED%EE%E2%EE%F1%F2%E8+%CB%F3%E3%E0%ED%F1%EA%E0+%F1%E5%E3%EE%E4%ED%FF\"},{\"path\":\"A@/href\",\"text\":\"дом&nbsp;2&nbsp;свежие&nbsp;новости\",\"url\":\"/news/tag/%E4%EE%EC+2+%F1%E2%E5%E6%E8%E5+%ED%EE%E2%EE%F1%F2%E8\"},{\"path\":\"A@/href\",\"text\":\"новости&nbsp;украины&nbsp;сегодня\",\"url\":\"/news/tag/%ED%EE%E2%EE%F1%F2%E8+%F3%EA%F0%E0%E8%ED%FB+%F1%E5%E3%EE%E4%ED%FF\"},{\"path\":\"A@/href\",\"text\":\"новости&nbsp;Киева&nbsp;сегодня\",\"url\":\"/news/tag/%ED%EE%E2%EE%F1%F2%E8+%CA%E8%E5%E2%E0+%F1%E5%E3%EE%E4%ED%FF\"},{\"path\":\"A@/href\",\"text\":\"биатлон&nbsp;Кубок&nbsp;мира\",\"url\":\"/news/tag/%E1%E8%E0%F2%EB%EE%ED+%CA%F3%E1%EE%EA+%EC%E8%F0%E0\"},{\"path\":\"A@/href\",\"text\":\"операция&nbsp;в&nbsp;Славянске\",\"url\":\"/news/tag/%EE%EF%E5%F0%E0%F6%E8%FF+%E2+%D1%EB%E0%E2%FF%ED%F1%EA%E5\"},{\"path\":\"A@/href\",\"text\":\"ДТП\",\"url\":\"/news/tag/%C4%D2%CF\"},{\"path\":\"A@/href\",\"text\":\"санкции&nbsp;против&nbsp;России\",\"url\":\"/news/tag/%F1%E0%ED%EA%F6%E8%E8+%EF%F0%EE%F2%E8%E2+%D0%EE%F1%F1%E8%E8\"},{\"path\":\"A@/href\",\"text\":\"новости&nbsp;биатлона\",\"url\":\"/news/tag/%ED%EE%E2%EE%F1%F2%E8+%E1%E8%E0%F2%EB%EE%ED%E0\"},{\"path\":\"A@/href\",\"text\":\"новости&nbsp;Донецка\",\"url\":\"/news/tag/%ED%EE%E2%EE%F1%F2%E8+%C4%EE%ED%E5%F6%EA%E0\"},{\"path\":\"A@/href\",\"text\":\"новости&nbsp;Одессы\",\"url\":\"/news/tag/%ED%EE%E2%EE%F1%F2%E8+%CE%E4%E5%F1%F1%FB\"},{\"path\":\"A@/href\",\"text\":\"расписание&nbsp;Кубка&nbsp;мира\",\"url\":\"/news/tag/%F0%E0%F1%EF%E8%F1%E0%ED%E8%E5+%CA%F3%E1%EA%E0+%EC%E8%F0%E0\"},{\"path\":\"A@/href\",\"text\":\"что&nbsp;происходит&nbsp;в&nbsp;Славянске\",\"url\":\"/news/tag/%F7%F2%EE+%EF%F0%EE%E8%F1%F5%EE%E4%E8%F2+%E2+%D1%EB%E0%E2%FF%ED%F1%EA%E5\"},{\"path\":\"A@/href\",\"text\":\"новости&nbsp;дом&nbsp;2&nbsp;2013\",\"url\":\"/news/tag/%ED%EE%E2%EE%F1%F2%E8+%E4%EE%EC+2+2013\"},{\"path\":\"A@/href\",\"text\":\"новости&nbsp;екатеринбурга\",\"url\":\"/news/tag/%ED%EE%E2%EE%F1%F2%E8+%E5%EA%E0%F2%E5%F0%E8%ED%E1%F3%F0%E3%E0\"},{\"path\":\"A@/href\",\"text\":\"новости&nbsp;киева\",\"url\":\"/news/tag/%ED%EE%E2%EE%F1%F2%E8+%EA%E8%E5%E2%E0\"},{\"path\":\"A@/href\",\"text\":\"новости&nbsp;москвы\",\"url\":\"/news/tag/%ED%EE%E2%EE%F1%F2%E8+%EC%EE%F1%EA%E2%FB\"},{\"path\":\"A@/href\",\"text\":\"состав&nbsp;сборной&nbsp;России\",\"url\":\"/news/tag/%F1%EE%F1%F2%E0%E2+%F1%E1%EE%F0%ED%EE%E9+%D0%EE%F1%F1%E8%E8\"},{\"path\":\"A@/href\",\"text\":\"футбол&nbsp;трансляция\",\"url\":\"/news/tag/%F4%F3%F2%E1%EE%EB+%F2%F0%E0%ED%F1%EB%FF%F6%E8%FF\"},{\"path\":\"A@/href\",\"text\":\"новости&nbsp;Харькова\",\"url\":\"/news/tag/%ED%EE%E2%EE%F1%F2%E8+%D5%E0%F0%FC%EA%EE%E2%E0\"},{\"path\":\"A@/href\",\"text\":\"новости&nbsp;Петербурга\",\"url\":\"/news/tag/%ED%EE%E2%EE%F1%F2%E8+%CF%E5%F2%E5%F0%E1%F3%F0%E3%E0\"},{\"path\":\"A@/href\",\"text\":\"сборная&nbsp;России\",\"url\":\"/news/tag/%F1%E1%EE%F0%ED%E0%FF+%D0%EE%F1%F1%E8%E8\"},{\"path\":\"A@/href\",\"text\":\"Москва\",\"url\":\"/news/tag/%CC%EE%F1%EA%E2%E0\"},{\"path\":\"A@/href\",\"text\":\"окружение&nbsp;украинской&nbsp;группировки&nbsp;под&nbsp;донецком\",\"url\":\"/news/tag/%EE%EA%F0%F3%E6%E5%ED%E8%E5+%F3%EA%F0%E0%E8%ED%F1%EA%EE%E9+%E3%F0%F3%EF%EF%E8%F0%EE%E2%EA%E8+%EF%EE%E4+%E4%EE%ED%E5%F6%EA%EE%EC\"},{\"path\":\"A@/href\",\"text\":\"новости&nbsp;футбола\",\"url\":\"/news/tag/%ED%EE%E2%EE%F1%F2%E8+%F4%F3%F2%E1%EE%EB%E0\"},{\"path\":\"A@/href\",\"text\":\"новости&nbsp;Украины\",\"url\":\"/news/tag/%ED%EE%E2%EE%F1%F2%E8+%D3%EA%F0%E0%E8%ED%FB\"},{\"path\":\"A@/href\",\"text\":\"беспорядки&nbsp;в&nbsp;Донецке\",\"url\":\"/news/tag/%E1%E5%F1%EF%EE%F0%FF%E4%EA%E8+%E2+%C4%EE%ED%E5%F6%EA%E5\"},{\"path\":\"A@/href\",\"text\":\"новости&nbsp;Крыма\",\"url\":\"/news/tag/%ED%EE%E2%EE%F1%F2%E8+%CA%F0%FB%EC%E0\"},{\"path\":\"A@/href\",\"text\":\"сплетни&nbsp;дом&nbsp;2\",\"url\":\"/news/tag/%F1%EF%EB%E5%F2%ED%E8+%E4%EE%EC+2\"},{\"path\":\"A@/href\",\"text\":\"донецк&nbsp;новости&nbsp;сегодня\",\"url\":\"/news/tag/%E4%EE%ED%E5%F6%EA+%ED%EE%E2%EE%F1%F2%E8+%F1%E5%E3%EE%E4%ED%FF\"},{\"path\":\"A@/href\",\"text\":\"новости&nbsp;Славянска\",\"url\":\"/news/tag/%ED%EE%E2%EE%F1%F2%E8+%D1%EB%E0%E2%FF%ED%F1%EA%E0\"},{\"path\":\"A@/href\",\"text\":\"убийство\",\"url\":\"/news/tag/%F3%E1%E8%E9%F1%F2%E2%EE\"},{\"path\":\"A@/href\",\"text\":\"новости&nbsp;Севастополя\",\"url\":\"/news/tag/%ED%EE%E2%EE%F1%F2%E8+%D1%E5%E2%E0%F1%F2%EE%EF%EE%EB%FF\"},{\"path\":\"A@/href\",\"text\":\"Взрыв\",\"url\":\"/news/tag/%C2%E7%F0%FB%E2\"},{\"path\":\"A@/href\",\"text\":\"Свердловская&nbsp;область\",\"url\":\"/news/tag/%D1%E2%E5%F0%E4%EB%EE%E2%F1%EA%E0%FF+%EE%E1%EB%E0%F1%F2%FC\"},{\"path\":\"A@/href\",\"text\":\"беспорядки&nbsp;в&nbsp;Киеве\",\"url\":\"/news/tag/%E1%E5%F1%EF%EE%F0%FF%E4%EA%E8+%E2+%CA%E8%E5%E2%E5\"},{\"path\":\"A@/href\",\"text\":\"футбол&nbsp;сегодня\",\"url\":\"/news/tag/%F4%F3%F2%E1%EE%EB+%F1%E5%E3%EE%E4%ED%FF\"},{\"path\":\"A@/href\",\"text\":\"Владимир&nbsp;Путин\",\"url\":\"/news/tag/%C2%EB%E0%E4%E8%EC%E8%F0+%CF%F3%F2%E8%ED\"},{\"path\":\"A@/href\",\"text\":\"Главная\",\"url\":\"/\"},{\"path\":\"A@/href\",\"text\":\"Карта сайта\",\"url\":\"http://0-50.ru/news/stock\"},{\"path\":\"A@/href\",\"text\":\"RSS Feed\",\"url\":\"/rss/\"},{\"path\":\"A@/href\",\"text\":\"В Госдуме прошли слушания на тему «Совершенствование Федерального закона «Об обязательном страховани\",\"url\":\"/news/auto/2018-09-14/id_64715.html\"},{\"path\":\"A@/href\",\"title\":\"Комментарии ()\",\"url\":\"/news/auto/2018-09-14/id_64715.html#comments\"},{\"path\":\"A@/href\",\"text\":\"Опубликован проект закона, который защитит права дольщиков на нежилые помещения при банкротстве заст\",\"url\":\"/news/polit/2018-09-04/id_64699.html\"},{\"path\":\"A@/href\",\"title\":\"Комментарии ()\",\"url\":\"/news/polit/2018-09-04/id_64699.html#comments\"},{\"path\":\"A@/href\",\"text\":\"Министр обороны Украины едва не ушел в отставку\",\"url\":\"/news/line/2018-09-03/id_64697.html\"},{\"path\":\"A@/href\",\"title\":\"Комментарии ()\",\"url\":\"/news/line/2018-09-03/id_64697.html#comments\"},{\"path\":\"A@/href\",\"text\":\"В Уфе у дома № 3 на улице Свободы мужчина заживо сгорел в ВАЗ-2109\",\"url\":\"/news/incident/2018-09-03/id_64693.html\"},{\"path\":\"A@/href\",\"title\":\"Комментарии ()\",\"url\":\"/news/incident/2018-09-03/id_64693.html#comments\"},{\"path\":\"A@/href\",\"text\":\"Составлен ТОП самых красивых девушек Московского международного автосалона 2018\",\"url\":\"/news/auto/2018-09-03/id_64692.html\"},{\"path\":\"A@/href\",\"title\":\"Комментарии ()\",\"url\":\"/news/auto/2018-09-03/id_64692.html#comments\"},{\"path\":\"A@/href\",\"text\":\"Купить новый смартфон Sony Xperia XZ3 можно будет уже 5 октября за 800 евро\",\"url\":\"/news/company/2018-09-03/id_64691.html\"},{\"path\":\"A@/href\",\"title\":\"Комментарии ()\",\"url\":\"/news/company/2018-09-03/id_64691.html#comments\"},{\"path\":\"A@/href\",\"text\":\"В Воронеже полиция изучает видео поджога Mercedes и Kia Optima на бульваре Победы\",\"url\":\"/news/incident/2018-09-03/id_64689.html\"},{\"path\":\"A@/href\",\"title\":\"Комментарии ()\",\"url\":\"/news/incident/2018-09-03/id_64689.html#comments\"},{\"path\":\"A@/href\",\"text\":\"Новости СМИ2\",\"url\":\"http://smi2.net/\"},{\"path\":\"A@/href\",\"text\":\"В Воронеже на парковке ТЦ «Северный» на Маршала Жукова сгорел ВАЗ-2112\",\"url\":\"/news/incident/2018-09-01/id_64684.html\"},{\"path\":\"A@/href\",\"title\":\"Комментарии ()\",\"url\":\"/news/incident/2018-09-01/id_64684.html#comments\"},{\"path\":\"A@/href\",\"text\":\"Тарифы ЖКХ в 2019 году будут повышены два раза\",\"url\":\"/news/polit/2018-08-14/id_64660.html\"},{\"path\":\"A@/href\",\"title\":\"Комментарии ()\",\"url\":\"/news/polit/2018-08-14/id_64660.html#comments\"},{\"path\":\"A@/href\",\"text\":\"Стоимость авиабилетов на международных рейсах с 15 августа может подорожать на 6\\u20138%\",\"url\":\"/news/auto/2018-08-14/id_64659.html\"},{\"path\":\"A@/href\",\"title\":\"Комментарии ()\",\"url\":\"/news/auto/2018-08-14/id_64659.html#comments\"},{\"path\":\"A@/href\",\"text\":\"В Тюмени на авиашоу «В гостях у Utair» на аэродроме Плеханово покажут новый вертолет Ми-171А2\",\"url\":\"/news/auto/2018-08-09/id_64646.html\"},{\"path\":\"A@/href\",\"title\":\"Комментарии ()\",\"url\":\"/news/auto/2018-08-09/id_64646.html#comments\"},{\"path\":\"A@/href\",\"text\":\"В Нижнем Тагиле умерла первая жена Владимира Высоцкого Иза Высоцкая\",\"url\":\"/news/line/2018-07-20/id_64633.html\"},{\"path\":\"A@/href\",\"title\":\"Комментарии ()\",\"url\":\"/news/line/2018-07-20/id_64633.html#comments\"},{\"path\":\"A@/href\",\"text\":\"США на днях рассмотрят законопроект об усиление старых и введение новых санкций против России\",\"url\":\"/news/line/2018-07-20/id_64629.html\"},{\"path\":\"A@/href\",\"title\":\"Комментарии ()\",\"url\":\"/news/line/2018-07-20/id_64629.html#comments\"},{\"path\":\"A@/href\",\"text\":\"Создатель головных уборов Яна Маркова добавила блеска Неделе высокой моды в Париже\",\"url\":\"/news/socium/2018-07-19/id_64628.html\"},{\"path\":\"A@/href\",\"title\":\"Комментарии ()\",\"url\":\"/news/socium/2018-07-19/id_64628.html#comments\"},{\"path\":\"A@/href\",\"text\":\"В Твери скончалась директор компании «Новоторжская ярмарка», президент фонда «Отчий Дом» Наталья Сер\",\"url\":\"/news/line/2018-07-16/id_64620.html\"},{\"path\":\"A@/href\",\"title\":\"Комментарии ()\",\"url\":\"/news/line/2018-07-16/id_64620.html#comments\"},{\"path\":\"A@/href\",\"text\":\"Под Тверью в лобовом ДТП КАМАЗа и Volkswagen Passat погиб мужчина\",\"url\":\"/news/incident/2018-07-16/id_64619.html\"},{\"path\":\"A@/href\",\"title\":\"Комментарии ()\",\"url\":\"/news/incident/2018-07-16/id_64619.html#comments\"},{\"path\":\"A@/href\",\"text\":\"Погода в Воронежской области завтра удивит грозами, сильными порывами ветра и похолоданием\",\"url\":\"/news/line/2018-07-16/id_64614.html\"},{\"path\":\"A@/href\",\"title\":\"Комментарии ()\",\"url\":\"/news/line/2018-07-16/id_64614.html#comments\"},{\"path\":\"A@/href\",\"text\":\"Житель штата Мэриленд Джеррод Уоррен Рамос застрелил пятерых журналистов редакции Capital Gazette\",\"url\":\"/news/incident/2018-06-29/id_64588.html\"},{\"path\":\"A@/href\",\"title\":\"Комментарии ()\",\"url\":\"/news/incident/2018-06-29/id_64588.html#comments\"},{\"path\":\"A@/href\",\"text\":\"Свыше 20 тысяч семей получили поддержку государства в рамках программы помощи ипотечным заемщикам\",\"url\":\"/news/polit/2018-06-28/id_64587.html\"},{\"path\":\"A@/href\",\"title\":\"Комментарии ()\",\"url\":\"/news/polit/2018-06-28/id_64587.html#comments\"},{\"path\":\"A@/href\",\"text\":\"Лучшие рыболовы страны поедут на Южный Урал ради азартной ловли форели\",\"url\":\"/news/leisure/2018-06-27/id_64586.html\"},{\"path\":\"A@/href\",\"title\":\"Комментарии ()\",\"url\":\"/news/leisure/2018-06-27/id_64586.html#comments\"},{\"path\":\"A@/href\",\"text\":\"Все новости&hellip;\",\"url\":\"/news/\"},{\"path\":\"IMG@/src\",\"url\":\"/images/banners/72362_original.jpg\"},{\"path\":\"A@/href\",\"title\":\"Адвокат Екатеринбург\",\"url\":\"/banners/53/\",\"target\":\"_blank\"},{\"path\":\"A@/href\",\"text\":\"Роман Сергея Маркова «Ход Королем» вошел в лонг-лист Международной детской литературной премии имени\",\"url\":\"/news/line/2018-09-10/id_64708.html\"},{\"path\":\"A@/href\",\"title\":\"Комментарии ()\",\"url\":\"/news/line/2018-09-10/id_64708.html#comments\"},{\"path\":\"A@/href\",\"text\":\"В Екатеринбурге прошел 7-й отборочный тур всероссийского фестиваля детского творчества «Добрая волна\",\"url\":\"/news/line/2018-08-29/id_64678.html\"},{\"path\":\"A@/href\",\"title\":\"Комментарии ()\",\"url\":\"/news/line/2018-08-29/id_64678.html#comments\"},{\"path\":\"A@/href\",\"text\":\"Дыхательные тренажеры - надежный способ стать и быть здоровым\",\"url\":\"/news/health/2018-05-25/id_64519.html\"},{\"path\":\"A@/href\",\"title\":\"Комментарии ()\",\"url\":\"/news/health/2018-05-25/id_64519.html#comments\"},{\"path\":\"A@/href\",\"text\":\"Торт из морковки простой рецепт с фото своими руками или на заказ\",\"url\":\"/news/cooking/2018-04-26/id_64440.html\"},{\"path\":\"A@/href\",\"title\":\"Комментарии ()\",\"url\":\"/news/cooking/2018-04-26/id_64440.html#comments\"},{\"path\":\"A@/href\",\"text\":\"Как правильно кормить собак и кошек и какие лакомства для собак и кошек купить\",\"url\":\"/news/animal/2018-02-16/id_64268.html\"},{\"path\":\"A@/href\",\"title\":\"Комментарии ()\",\"url\":\"/news/animal/2018-02-16/id_64268.html#comments\"},{\"path\":\"IMG@/src\",\"url\":\"/images/banners/72607_original.jpg\"},{\"path\":\"A@/href\",\"title\":\"\",\"url\":\"/banners/54/\",\"target\":\"_blank\"},{\"path\":\"A@/href\",\"text\":\"Продается земельный участок недалеко от Екатеринбурга в Сысертском районе рядом с поселками Кадников\",\"url\":\"/news/polit/2017-07-25/id_63368.html\"},{\"path\":\"A@/href\",\"title\":\"Комментарии ()\",\"url\":\"/news/polit/2017-07-25/id_63368.html#comments\"},{\"path\":\"A@/href\",\"text\":\"Продается земельный участок недалеко от Екатеринбурга в Сысертском районе рядом с поселком Бобровски\",\"url\":\"/news/polit/2017-07-18/id_63321.html\"},{\"path\":\"A@/href\",\"title\":\"Комментарии ()\",\"url\":\"/news/polit/2017-07-18/id_63321.html#comments\"},{\"path\":\"A@/href\",\"text\":\"Продается земельный участок в Свердловской области Невьянском районе на границе села Шайдуриха\",\"url\":\"/news/polit/2017-07-14/id_63308.html\"},{\"path\":\"A@/href\",\"title\":\"Комментарии ()\",\"url\":\"/news/polit/2017-07-14/id_63308.html#comments\"},{\"path\":\"A@/href\",\"text\":\"Продается земельный участок в Свердловской области Невьянском районе на границе деревни Пьянково\",\"url\":\"/news/polit/2017-07-13/id_63306.html\"},{\"path\":\"A@/href\",\"title\":\"Комментарии ()\",\"url\":\"/news/polit/2017-07-13/id_63306.html#comments\"},{\"path\":\"A@/href\",\"text\":\"В продаже два земельных участка в Свердловской области Невьянском районе на берегу Аятского озера-во\",\"url\":\"/news/polit/2017-07-05/id_63256.html\"},{\"path\":\"A@/href\",\"title\":\"Комментарии ()\",\"url\":\"/news/polit/2017-07-05/id_63256.html#comments\"},{\"path\":\"A@/href\",\"text\":\"Имущественные споры граждан при разводе (расторжении брака) в мировом суде: «Эксперт-Ком» Екатеринбу\",\"url\":\"/news/company/2017-05-09/id_62916.html\"},{\"path\":\"A@/href\",\"title\":\"Комментарии ()\",\"url\":\"/news/company/2017-05-09/id_62916.html#comments\"},{\"path\":\"A@/href\",\"text\":\"Оценка имущества при вступлении в наследство в 2017 году: «Эксперт-Ком» Екатеринбург\",\"url\":\"/news/polit/2017-05-09/id_62915.html\"},{\"path\":\"A@/href\",\"title\":\"Комментарии ()\",\"url\":\"/news/polit/2017-05-09/id_62915.html#comments\"},{\"path\":\"A@/href\",\"text\":\"Пошив и продажа авточехлов для иномарок и отечественных автомобилей оптом и в розницу в Екатеринбург\",\"url\":\"/news/auto/2017-05-09/id_62914.html\"},{\"path\":\"A@/href\",\"title\":\"Комментарии ()\",\"url\":\"/news/auto/2017-05-09/id_62914.html#comments\"},{\"path\":\"A@/href\",\"text\":\"Что приготовить на ужин быстро и вкусно: куриные маффины с грибами рецепт с фото пошагово\",\"url\":\"/news/cooking/2017-03-31/id_62729.html\"},{\"path\":\"A@/href\",\"title\":\"Комментарии ()\",\"url\":\"/news/cooking/2017-03-31/id_62729.html#comments\"},{\"path\":\"A@/href\",\"text\":\"Свадебный торт 2017 на заказ Екатеринбург с фото: весенняя акция от «Кулинарии Люкс»\",\"url\":\"/news/company/2017-03-23/id_62673.html\"},{\"path\":\"A@/href\",\"title\":\"Комментарии ()\",\"url\":\"/news/company/2017-03-23/id_62673.html#comments\"},{\"path\":\"A@/href\",\"text\":\"Все актуальные сюжеты&hellip;\",\"url\":\"/news/actual\"},{\"path\":\"A@/href\",\"text\":\"1@0-50.ru\",\"url\":\"mailto:1@0-50.ru\"}]},\"Entity-Digest\":\"sha1:T4GLRJUATIB7DN2UJKXYCJOKYE2PL5G5\"},\"Trailing-Slop-Length\":\"4\"}}})\n",
      "(http://0-50.ru/news/tag/%F4%F3%F2%E1%EE%EB+%D0%EE%F1%F1%E8%E8,{\"Container\":{\"Filename\":\"CC-MAIN-20180918130631-20180918150631-00000.warc.gz\",\"Compressed\":true,\"Offset\":\"12304\",\"Gzip-Metadata\":{\"Inflated-Length\":\"627\",\"Footer-Length\":\"8\",\"Inflated-CRC\":\"-1173878068\",\"Deflate-Length\":\"459\",\"Header-Length\":\"10\"}},\"Envelope\":{\"Format\":\"WARC\",\"WARC-Header-Length\":\"415\",\"Actual-Content-Length\":\"208\",\"WARC-Header-Metadata\":{\"WARC-Target-URI\":\"http://0-50.ru/news/tag/%F4%F3%F2%E1%EE%EB+%D0%EE%F1%F1%E8%E8?page=80\",\"WARC-Warcinfo-ID\":\"<urn:uuid:8d75a1d7-86c5-4788-9e02-7e28190391ba>\",\"WARC-Concurrent-To\":\"<urn:uuid:f913b540-0874-44a0-ae86-3549ae53096b>\",\"WARC-Date\":\"2018-09-18T13:25:39Z\",\"Content-Length\":\"208\",\"WARC-Record-ID\":\"<urn:uuid:192ed6c6-6144-4b66-a1fa-413a03571213>\",\"WARC-Type\":\"metadata\",\"Content-Type\":\"application/warc-fields\"},\"Block-Digest\":\"sha1:6CHNQ6FTPNEHA5DQ6VPHLI7GAQWYGMP4\",\"Payload-Metadata\":{\"Actual-Content-Type\":\"application/metadata-fields\",\"WARC-Metadata-Metadata\":{\"Metadata-Records\":[{\"Value\":\"667\",\"Name\":\"fetchTimeMs\"},{\"Value\":\"windows-1251\",\"Name\":\"charset-detected\"},{\"Value\":\"{\\\"reliable\\\":true,\\\"text-bytes\\\":16627,\\\"languages\\\":[{\\\"code\\\":\\\"ru\\\",\\\"code-iso-639-3\\\":\\\"rus\\\",\\\"text-covered\\\":0.98,\\\"score\\\":557.0,\\\"name\\\":\\\"RUSSIAN\\\"}]}\",\"Name\":\"languages-cld2\"}]},\"Actual-Content-Length\":\"208\",\"Trailing-Slop-Length\":\"0\"}}})\n",
      "(http://000elham00.mihanblog.com/post/185,{\"Container\":{\"Filename\":\"CC-MAIN-20180918130631-20180918150631-00000.warc.gz\",\"Compressed\":true,\"Offset\":\"12763\",\"Gzip-Metadata\":{\"Inflated-Length\":\"645\",\"Footer-Length\":\"8\",\"Inflated-CRC\":\"271986618\",\"Deflate-Length\":\"447\",\"Header-Length\":\"10\"}},\"Envelope\":{\"Format\":\"WARC\",\"WARC-Header-Length\":\"358\",\"Actual-Content-Length\":\"283\",\"WARC-Header-Metadata\":{\"WARC-IP-Address\":\"5.144.133.146\",\"WARC-Target-URI\":\"http://000elham00.mihanblog.com/post/185\",\"WARC-Warcinfo-ID\":\"<urn:uuid:8d75a1d7-86c5-4788-9e02-7e28190391ba>\",\"WARC-Date\":\"2018-09-18T13:28:47Z\",\"Content-Length\":\"283\",\"WARC-Record-ID\":\"<urn:uuid:4ac9bb6c-fd3e-4dd1-b707-158cc5f33c76>\",\"WARC-Type\":\"request\",\"Content-Type\":\"application/http; msgtype=request\"},\"Block-Digest\":\"sha1:WCR2PLT67PFDDA2O6HUDHW5VIHWN3DXE\",\"Payload-Metadata\":{\"Actual-Content-Type\":\"application/http; msgtype=request\",\"HTTP-Request-Metadata\":{\"Headers-Length\":\"281\",\"Entity-Trailing-Slop-Length\":\"0\",\"Entity-Length\":\"0\",\"Headers\":{\"Accept\":\"text/html,application/xhtml+xml,application/xml;q=0.9,*/*;q=0.8\",\"User-Agent\":\"CCBot/2.0 (https://commoncrawl.org/faq/)\",\"Connection\":\"Keep-Alive\",\"If-Modified-Since\":\"Thu, 26 Apr 2018 17:05:10 CEST\",\"Host\":\"000elham00.mihanblog.com\",\"Accept-Encoding\":\"gzip\"},\"Request-Message\":{\"Path\":\"/post/185\",\"Version\":\"HTTP/1.1\",\"Method\":\"GET\"},\"Entity-Digest\":\"sha1:3I42H3S6NNFQ2MSVX7XZKYAYSCX5QBYJ\"},\"Trailing-Slop-Length\":\"4\"}}})\n",
      "(http://000elham00.mihanblog.com/post/185,{\"Container\":{\"Filename\":\"CC-MAIN-20180918130631-20180918150631-00000.warc.gz\",\"Compressed\":true,\"Offset\":\"13210\",\"Gzip-Metadata\":{\"Inflated-Length\":\"63869\",\"Footer-Length\":\"8\",\"Inflated-CRC\":\"720242586\",\"Deflate-Length\":\"13980\",\"Header-Length\":\"10\"}},\"Envelope\":{\"Format\":\"WARC\",\"WARC-Header-Length\":\"590\",\"Actual-Content-Length\":\"63275\",\"WARC-Header-Metadata\":{\"WARC-Identified-Payload-Type\":\"text/html\",\"WARC-Payload-Digest\":\"sha1:IRTYVPSQUFDA2CU5O6SI57F3PWNKPT7O\",\"WARC-IP-Address\":\"5.144.133.146\",\"WARC-Block-Digest\":\"sha1:V2XAXTNDNUR6UFHHDRBSGVF5OQ6QUAQY\",\"WARC-Target-URI\":\"http://000elham00.mihanblog.com/post/185\",\"WARC-Warcinfo-ID\":\"<urn:uuid:8d75a1d7-86c5-4788-9e02-7e28190391ba>\",\"WARC-Concurrent-To\":\"<urn:uuid:4ac9bb6c-fd3e-4dd1-b707-158cc5f33c76>\",\"WARC-Date\":\"2018-09-18T13:28:47Z\",\"Content-Length\":\"63275\",\"WARC-Record-ID\":\"<urn:uuid:6e305fd8-1c41-4dbc-b0d3-8c08ef489eda>\",\"WARC-Type\":\"response\",\"Content-Type\":\"application/http; msgtype=response\"},\"Block-Digest\":\"sha1:V2XAXTNDNUR6UFHHDRBSGVF5OQ6QUAQY\",\"Payload-Metadata\":{\"Actual-Content-Type\":\"application/http; msgtype=response\",\"HTTP-Response-Metadata\":{\"Headers-Length\":\"385\",\"Entity-Trailing-Slop-Length\":\"0\",\"Entity-Length\":\"62890\",\"Headers\":{\"X-Crawler-Transfer-Encoding\":\"chunked\",\"X-Crawler-Content-Encoding\":\"gzip\",\"Cache-Control\":\"no-cache, must-revalidate\",\"Server\":\"Toofun/1.0.1\",\"Set-Cookie\":\"mib_lb_id=m0; path=/; domain=.mihanblog.com\",\"Vary\":\"Accept-Encoding\",\"Date\":\"Tue, 18 Sep 2018 13:28:47 GMT\",\"Content-Type\":\"text/html\"},\"Response-Message\":{\"Status\":\"200\",\"Version\":\"HTTP/1.1\",\"Reason\":\"OK\"},\"HTML-Metadata\":{\"Head\":{\"Metas\":[{\"http-equiv\":\"Content-Type\",\"content\":\"text/html; charset=utf-8\"},{\"name\":\"google-site-verification\",\"content\":\"O_2WIRX1KhvVJLOrgxB0sYuaaJ7vlsSF3jOOCOYkYCA\"},{\"name\":\"google-site-verification\",\"content\":\"SNalyMhB-pN10jdqVkVnxstKiiiGK5XzIpNZwivlEkU\"},{\"name\":\"google-site-verification\",\"content\":\"Y3SG1g5mVPinIITCzgwdiYIZadcPp_E6fbY-g1V0GXI\"},{\"http-equiv\":\"Content-Type\",\"content\":\"text/html; charset=UTF-8\"},{\"name\":\"description\",\"content\":\"تعبیر خواب دعوت کردن\"},{\"name\":\"keywords\",\"content\":\"تعبیر,خواب,دعوت,کردن,\"}],\"Scripts\":[{\"path\":\"SCRIPT@/src\",\"type\":\"text/javascript\",\"url\":\"http://static.mihanblog.com//public/scripts/run/g.other.v3.js\"},{\"path\":\"SCRIPT@/src\",\"url\":\"https://sabapush.com/scripts/push/push.js\"}],\"Title\":\"مسخره - تعبیر خواب دعوت کردن\",\"Link\":[{\"path\":\"LINK@/href\",\"rel\":\"EditURI\",\"type\":\"application/rsd+xml\",\"url\":\"http://000elham00.mihanblog.com/xmlrpc?rsd\"},{\"path\":\"LINK@/href\",\"rel\":\"alternate\",\"type\":\"application/rss+xml\",\"url\":\"/post/rss/\"},{\"path\":\"LINK@/href\",\"rel\":\"alternate\",\"type\":\"application/atom+xml\",\"url\":\"/post/atom/\"}]},\"Links\":[{\"path\":\"IMG@/src\",\"url\":\"http://static.mihanblog.com//public/images/publish/advert_close.gif\"},{\"path\":\"STYLE/#text\",\"href\":\"/public/public/fonts/Iransans.eot\"},{\"path\":\"STYLE/#text\",\"href\":\"/public/public/fonts/Iransans.eot?#iefix\"},{\"path\":\"STYLE/#text\",\"href\":\"/public/public/fonts/Iransans.woff2\"},{\"path\":\"STYLE/#text\",\"href\":\"/public/public/fonts/Iransans.woff\"},{\"path\":\"STYLE/#text\",\"href\":\"/public/public/fonts/Iransans.ttf\"},{\"path\":\"STYLE/#text\",\"href\":\"/public/public/fonts/Iransans-Black.eot\"},{\"path\":\"STYLE/#text\",\"href\":\"/public/public/fonts/Iransans-Black.eot?#iefix\"},{\"path\":\"STYLE/#text\",\"href\":\"/public/public/fonts/Iransans-Black.woff2\"},{\"path\":\"STYLE/#text\",\"href\":\"/public/public/fonts/Iransans-Black.woff\"},{\"path\":\"STYLE/#text\",\"href\":\"/public/public/fonts/Iransans-Black.ttf\"},{\"path\":\"STYLE/#text\",\"href\":\"/public/public/fonts/Iransans-UltraLight.eot\"},{\"path\":\"STYLE/#text\",\"href\":\"/public/public/fonts/Iransans-UltraLight.eot?#iefix\"},{\"path\":\"STYLE/#text\",\"href\":\"/public/public/fonts/Iransans-UltraLight.woff2\"},{\"path\":\"STYLE/#text\",\"href\":\"/public/public/fonts/Iransans-UltraLight.woff\"},{\"path\":\"STYLE/#text\",\"href\":\"/public/public/fonts/Iransans-UltraLight.ttf\"},{\"path\":\"STYLE/#text\",\"href\":\"/public/public/fonts/Nassim.eot\"},{\"path\":\"STYLE/#text\",\"href\":\"/public/public/fonts/Nassim.eot?#iefix\"},{\"path\":\"STYLE/#text\",\"href\":\"/public/public/fonts/Nassim.woff2\"},{\"path\":\"STYLE/#text\",\"href\":\"/public/public/fonts/Nassim.woff\"},{\"path\":\"STYLE/#text\",\"href\":\"/public/public/fonts/Nassim.ttf\"},{\"path\":\"STYLE/#text\",\"href\":\"/public/public/fonts/Koodak.eot\"},{\"path\":\"STYLE/#text\",\"href\":\"/public/public/fonts/Koodak.eot?#iefix\"},{\"path\":\"STYLE/#text\",\"href\":\"/public/public/fonts/Koodak.woff2\"},{\"path\":\"STYLE/#text\",\"href\":\"/public/public/fonts/Koodak.woff\"},{\"path\":\"STYLE/#text\",\"href\":\"/public/public/fonts/Koodak.ttf\"},{\"path\":\"STYLE/#text\",\"href\":\"/public/public/fonts/Yekan.eot\"},{\"path\":\"STYLE/#text\",\"href\":\"/public/public/fonts/Yekan.eot?#iefix\"},{\"path\":\"STYLE/#text\",\"href\":\"/public/public/fonts/Yekan.woff2\"},{\"path\":\"STYLE/#text\",\"href\":\"/public/public/fonts/Yekan.woff\"},{\"path\":\"STYLE/#text\",\"href\":\"/public/public/fonts/Yekan.ttf\"},{\"path\":\"STYLE/#text\",\"href\":\"/public/public/fonts/fontawesome_webfont.eot\"},{\"path\":\"STYLE/#text\",\"href\":\"/public/public/fonts/fontawesome_webfont.eot?#iefix\"},{\"path\":\"STYLE/#text\",\"href\":\"/public/public/fonts/fontawesome_webfont.woff2\"},{\"path\":\"STYLE/#text\",\"href\":\"/public/public/fonts/fontawesome_webfont.woff\"},{\"path\":\"STYLE/#text\",\"href\":\"/public/public/fonts/fontawesome_webfont.ttf\"},{\"path\":\"STYLE/#text\",\"href\":\"http://mihanblog.com/public//public/user_data/user_files/97/289651/greenblue/gradient.jpg\"},{\"path\":\"STYLE/#text\",\"href\":\"http://mihanblog.com/public//public/user_data/user_files/97/289651/greenblue/menuleft.jpg\"},{\"path\":\"STYLE/#text\",\"href\":\"http://mihanblog.com/public//public/user_data/user_files/97/289651/greenblue/topper.jpg\"},{\"path\":\"STYLE/#text\",\"href\":\"http://mihanblog.com/public//public/user_data/user_files/97/289651/greenblue/header.jpg\"},{\"path\":\"STYLE/#text\",\"href\":\"http://mihanblog.com/public//public/user_data/user_files/97/289651/greenblue/feed.gif\"},{\"path\":\"STYLE/#text\",\"href\":\"http://mihanblog.com/public//public/user_data/user_files/97/289651/greenblue/bottom.jpg\"},{\"path\":\"STYLE/#text\",\"href\":\"http://mihanblog.com/public//public/user_data/user_files/97/289651/greenblue/footer.jpg\"},{\"path\":\"A@/href\",\"text\":\"خانه\",\"url\":\"/\"},{\"path\":\"A@/href\",\"text\":\"پست الكترونیك\",\"url\":\"mailto:\"},{\"path\":\"A@/href\",\"text\":\"تماس با مدیر\",\"url\":\"javascript:messageForm()\"},{\"path\":\"A@/href\",\"text\":\"Atom\",\"url\":\"/post/atom/\"},{\"path\":\"A@/href\",\"text\":\"مسخره\",\"url\":\"http://000elham00.mihanblog.com\"},{\"path\":\"A@/href\",\"text\":\"تعبیر خواب دعوت کردن\",\"url\":\"/post/185\"},{\"path\":\"A@/href\",\"text\":\"مسعود هاشمی\",\"url\":\"/post/author/1190609\"},{\"path\":\"A@/href\",\"text\":\"تعبیر خواب دعوت کردن\",\"url\":\"http://www.bisms.ir/invite-sleep\"},{\"path\":\"A@/href\",\"text\":\"تعبیرخواب دعوت کردن\",\"url\":\"http://www.bisms.ir/invite-sleep\"},{\"path\":\"A@/href\",\"text\":\"tabire khab\",\"url\":\"http://www.bisms.ir/tabire-khab/\"},{\"path\":\"IMG@/src\",\"alt\":\"تعبیر خواب دعوت به مهمانی , تعبیر خواب دعوت شدن به مهمانی , تعبیر خواب دعوت مرده\",\"title\":\"تعبیر خواب دعوت به مهمانی , تعبیر خواب دعوت شدن به مهمانی , تعبیر خواب دعوت مرده\",\"url\":\"http://img.bisms.ir//2017/01/invite-sleep.jpg\"},{\"path\":\"A@/href\",\"url\":\"http://www.bisms.ir/invite-sleep\"},{\"path\":\"A@/href\",\"text\":\"خواب دعوت کردن\",\"url\":\"http://www.bisms.ir/invite-sleep\"},{\"path\":\"A@/href\",\"text\":\"دعوت کردن در خواب\",\"url\":\"http://www.bisms.ir/invite-sleep\"},{\"path\":\"A@/href\",\"text\":\"تعبیر خواب دعوت کردن\",\"url\":\"http://www.bisms.ir/invite-sleep\"},{\"path\":\"A@/href\",\"text\":\"تعبیرخواب دعوت کردن\",\"url\":\"http://www.bisms.ir/invite-sleep\"},{\"path\":\"A@/href\",\"text\":\"دعوت کردن\",\"url\":\"http://www.bisms.ir/invite-sleep\"},{\"path\":\"A@/href\",\"text\":\"تعبیر خواب دعوت کردن از دید منوچهر مطیعی تهرانی\",\"url\":\"http://www.bisms.ir/invite-sleep\"},{\"path\":\"A@/href\",\"text\":\"تعبیر خواب دعوت\",\"url\":\"http://www.bisms.ir/invite-sleep\"},{\"path\":\"A@/href\",\"text\":\"تعبیر خواب دعوت شدن به یک عروسی\",\"url\":\"http://www.bisms.ir/invite-sleep\"},{\"path\":\"A@/href\",\"text\":\"تعبیر خواب دعوت کردن از دید لوک اویتنهاو\",\"url\":\"http://www.bisms.ir/invite-sleep\"},{\"path\":\"A@/href\",\"text\":\"تعبیر خواب دعوت شدن\",\"url\":\"http://www.bisms.ir/invite-sleep\"},{\"path\":\"A@/href\",\"text\":\"تعبیر خواب دعوت کردن\",\"url\":\"http://www.bisms.ir/invite-sleep\"},{\"path\":\"A@/href\",\"text\":\"تعبیر خواب دعوت کردن\",\"url\":\"http://www.bisms.ir/invite-sleep\"},{\"path\":\"A@/href\",\"text\":\"دعوت کردن در خواب دیدن\",\"url\":\"http://www.bisms.ir/invite-sleep\"},{\"path\":\"A@/href\",\"text\":\"تعبیر خواب\",\"url\":\"http://www.bisms.ir/tabire-khab/\"},{\"path\":\"IMG@/src\",\"alt\":\"داغ کن - کلوب دات کام\",\"url\":\"http://cloob.com/public/public/images/icon/100c.gif\"},{\"path\":\"A@/href\",\"url\":\"http://www.cloob.com/share/link/add?\\r\\n\\t\\t\\t\\t\\t\\t\\t\\turl=http://000elham00.mihanblog.com//post/185&title=تعبیر خواب دعوت کردن\",\"target\":\"_blank\"},{\"path\":\"A@/href\",\"text\":\"نظرات()\",\"url\":\"/post/185#commentlist\",\"target\":\"_self\"},{\"path\":\"A@/href\",\"text\":\"https://vam-groshi.com.ua/\",\"url\":\"https://vam-groshi.com.ua/\",\"target\":\"_blank\"},{\"path\":\"A@/href\",\"text\":\"http://findit.pendletoday.co.uk/company/1066099222560768\",\"url\":\"http://findit.pendletoday.co.uk/company/1066099222560768\",\"target\":\"_blank\"},{\"path\":\"A@/href\",\"text\":\"http://chaturbatefreetokenshack.com/\",\"url\":\"http://chaturbatefreetokenshack.com/\",\"target\":\"_blank\"},{\"path\":\"A@/href\",\"text\":\"http://zenaidamerten.weebly.com/blog/what-is-the-treatment-for-hammer-toes\",\"url\":\"http://zenaidamerten.weebly.com/blog/what-is-the-treatment-for-hammer-toes\",\"target\":\"_blank\"},{\"path\":\"A@/href\",\"text\":\"http://janececil.blog.fc2.com\",\"url\":\"http://janececil.blog.fc2.com\",\"target\":\"_blank\"},{\"path\":\"A@/href\",\"text\":\"https://jimmie8roman15.tumblr.com\",\"url\":\"https://jimmie8roman15.tumblr.com\",\"target\":\"_blank\"},{\"path\":\"A@/href\",\"text\":\"http://plantzit50.exteen.com\",\"url\":\"http://plantzit50.exteen.com\",\"target\":\"_blank\"},{\"path\":\"A@/href\",\"text\":\"http://cheriekrabill.weebly.com\",\"url\":\"http://cheriekrabill.weebly.com\",\"target\":\"_blank\"},{\"path\":\"A@/href\",\"text\":\"http://tiredlion.mihanblog.com/post/52\",\"url\":\"http://tiredlion.mihanblog.com/post/52\",\"target\":\"_blank\"},{\"path\":\"A@/href\",\"text\":\"http://tehranboys.mihanblog.com/post/30\",\"url\":\"http://tehranboys.mihanblog.com/post/30\",\"target\":\"_blank\"},{\"path\":\"A@/href\",\"text\":\"http://Cspan.co.uk/\",\"url\":\"http://Cspan.co.uk/\",\"target\":\"_blank\"},{\"path\":\"A@/href\",\"text\":\"http://parsablog.com\",\"url\":\"http://parsablog.com\",\"target\":\"_blank\"},{\"path\":\"STYLE/#text\",\"href\":\"http://static.mihanblog.com//public/images/icon/gen/refresh.gif\"},{\"path\":\"STYLE/#text\",\"href\":\"http://static.mihanblog.com//public/images/icon/require2.gif\"},{\"path\":\"FORM@/action\",\"method\":\"post\",\"url\":\"http://000elham00.mihanblog.com/post/comment/new/185/fromtype/postone/fid/15372773275ba0fd8f43b3a/atrty/1537277327/avrvy/0/key/567c6badee0b8498bc3c0e80590cee7b/#post_form\"},{\"path\":\"IMG@/src\",\"url\":\"http://static.mihanblog.com//public/rte/images_new/smiley.gif\"},{\"path\":\"IMG@/src\",\"url\":\"http://static.mihanblog.com//public/images/icon/close.gif\"},{\"path\":\"IMG@/src\",\"alt\":\"لبخند\",\"title\":\"لبخند\",\"url\":\"http://static.mihanblog.com//public/rte/images_new/smiles/1.gif\"},{\"path\":\"IMG@/src\",\"alt\":\"ناراحت\",\"title\":\"ناراحت\",\"url\":\"http://static.mihanblog.com//public/rte/images_new/smiles/2.gif\"},{\"path\":\"IMG@/src\",\"alt\":\"چشمک\",\"title\":\"چشمک\",\"url\":\"http://static.mihanblog.com//public/rte/images_new/smiles/3.gif\"},{\"path\":\"IMG@/src\",\"alt\":\"نیشخند\",\"title\":\"نیشخند\",\"url\":\"http://static.mihanblog.com//public/rte/images_new/smiles/4.gif\"},{\"path\":\"IMG@/src\",\"alt\":\"بغل\",\"title\":\"بغل\",\"url\":\"http://static.mihanblog.com//public/rte/images_new/smiles/6.gif\"},{\"path\":\"IMG@/src\",\"alt\":\"سوال\",\"title\":\"سوال\",\"url\":\"http://static.mihanblog.com//public/rte/images_new/smiles/7.gif\"},{\"path\":\"IMG@/src\",\"alt\":\"قلب\",\"title\":\"قلب\",\"url\":\"http://static.mihanblog.com//public/rte/images_new/smiles/8.gif\"},{\"path\":\"IMG@/src\",\"alt\":\"خجالت\",\"title\":\"خجالت\",\"url\":\"http://static.mihanblog.com//public/rte/images_new/smiles/9.gif\"},{\"path\":\"IMG@/src\",\"alt\":\"زبان\",\"title\":\"زبان\",\"url\":\"http://static.mihanblog.com//public/rte/images_new/smiles/10.gif\"},{\"path\":\"IMG@/src\",\"alt\":\"ماچ\",\"title\":\"ماچ\",\"url\":\"http://static.mihanblog.com//public/rte/images_new/smiles/11.gif\"},{\"path\":\"IMG@/src\",\"alt\":\"تعجب\",\"title\":\"تعجب\",\"url\":\"http://static.mihanblog.com//public/rte/images_new/smiles/13.gif\"},{\"path\":\"IMG@/src\",\"alt\":\"عصبانی\",\"title\":\"عصبانی\",\"url\":\"http://static.mihanblog.com//public/rte/images_new/smiles/14.gif\"},{\"path\":\"IMG@/src\",\"alt\":\"عینک\",\"title\":\"عینک\",\"url\":\"http://static.mihanblog.com//public/rte/images_new/smiles/16.gif\"},{\"path\":\"IMG@/src\",\"alt\":\"شیطان\",\"title\":\"شیطان\",\"url\":\"http://static.mihanblog.com//public/rte/images_new/smiles/19.gif\"},{\"path\":\"IMG@/src\",\"alt\":\"گریه\",\"title\":\"گریه\",\"url\":\"http://static.mihanblog.com//public/rte/images_new/smiles/20.gif\"},{\"path\":\"IMG@/src\",\"alt\":\"خنده\",\"title\":\"خنده\",\"url\":\"http://static.mihanblog.com//public/rte/images_new/smiles/21.gif\"},{\"path\":\"IMG@/src\",\"alt\":\"قهقهه\",\"title\":\"قهقهه\",\"url\":\"http://static.mihanblog.com//public/rte/images_new/smiles/24.gif\"},{\"path\":\"IMG@/src\",\"alt\":\"خداحافظ\",\"title\":\"خداحافظ\",\"url\":\"http://static.mihanblog.com//public/rte/images_new/smiles/27.gif\"},{\"path\":\"IMG@/src\",\"alt\":\"سبز\",\"title\":\"سبز\",\"url\":\"http://static.mihanblog.com//public/rte/images_new/smiles/31.gif\"},{\"path\":\"IMG@/src\",\"alt\":\"قهر\",\"title\":\"قهر\",\"url\":\"http://static.mihanblog.com//public/rte/images_new/smiles/33.gif\"},{\"path\":\"IMG@/src\",\"alt\":\"هورا\",\"title\":\"هورا\",\"url\":\"http://static.mihanblog.com//public/rte/images_new/smiles/36.gif\"},{\"path\":\"IMG@/src\",\"alt\":\"دست\",\"title\":\"دست\",\"url\":\"http://static.mihanblog.com//public/rte/images_new/smiles/41.gif\"},{\"path\":\"IMG@/src\",\"alt\":\"گل\",\"title\":\"گل\",\"url\":\"http://static.mihanblog.com//public/rte/images_new/smiles/53.gif\"},{\"path\":\"IMG@/src\",\"alt\":\"تفکر\",\"title\":\"تفکر\",\"url\":\"http://static.mihanblog.com//public/rte/images_new/smiles/39.gif\"},{\"path\":\"IMG@/src\",\"url\":\"/public/public/html/imgcode.php?str=421d690edb5cc54db2715627ae11f78b____jrtukust11\"},{\"path\":\"A@/href\",\"text\":\"RSS\",\"url\":\"/post/rss/\"},{\"path\":\"FORM@/action\",\"method\":\"get\",\"url\":\"http://000elham00.mihanblog.com/post/search/fid/15372773275ba0fd8f44ad8\",\"target\":\"search\"},{\"path\":\"A@/href\",\"text\":\"شهریور 1397\",\"url\":\"/post/archive/1397/6\"},{\"path\":\"A@/href\",\"text\":\"اردیبهشت 1397\",\"url\":\"/post/archive/1397/2\"},{\"path\":\"A@/href\",\"text\":\"اسفند 1396\",\"url\":\"/post/archive/1396/12\"},{\"path\":\"A@/href\",\"text\":\"بهمن 1396\",\"url\":\"/post/archive/1396/11\"},{\"path\":\"A@/href\",\"text\":\"مهر 1396\",\"url\":\"/post/archive/1396/7\"},{\"path\":\"A@/href\",\"text\":\"شهریور 1396\",\"url\":\"/post/archive/1396/6\"},{\"path\":\"A@/href\",\"text\":\"خرداد 1396\",\"url\":\"/post/archive/1396/3\"},{\"path\":\"A@/href\",\"text\":\"اردیبهشت 1396\",\"url\":\"/post/archive/1396/2\"},{\"path\":\"A@/href\",\"text\":\"فروردین 1396\",\"url\":\"/post/archive/1396/1\"},{\"path\":\"A@/href\",\"text\":\"اسفند 1395\",\"url\":\"/post/archive/1395/12\"},{\"path\":\"A@/href\",\"text\":\"بهمن 1395\",\"url\":\"/post/archive/1395/11\"},{\"path\":\"A@/href\",\"text\":\"دی 1395\",\"url\":\"/post/archive/1395/10\"},{\"path\":\"A@/href\",\"text\":\"لیست آرشیوها\",\"url\":\"/post/archive\"},{\"path\":\"A@/href\",\"text\":\"گلچین زیباترین شعر در مورد خواب\",\"url\":\"/post/235\"},{\"path\":\"A@/href\",\"text\":\"علت و درمان گیاهی و خانگی سردرد خوشه ای چیست\",\"url\":\"/post/234\"},{\"path\":\"A@/href\",\"text\":\"چگونه افسردگی را تشخیص دهیم\",\"url\":\"/post/233\"},{\"path\":\"A@/href\",\"text\":\"عوامل خطرساز برای بی اشتهایی عصبی\",\"url\":\"/post/231\"},{\"path\":\"A@/href\",\"text\":\"شعر در مورد تهی دستی\",\"url\":\"/post/230\"},{\"path\":\"A@/href\",\"text\":\"گل محمدی در درمان یبوست\",\"url\":\"/post/229\"},{\"path\":\"A@/href\",\"text\":\"آلو خشک\",\"url\":\"/post/228\"},{\"path\":\"A@/href\",\"text\":\"شعر در مورد ادعا\",\"url\":\"/post/227\"},{\"path\":\"A@/href\",\"text\":\"خواص دارویی گیاه علف چای در طب سنتی برای پوست\",\"url\":\"/post/226\"},{\"path\":\"A@/href\",\"text\":\"خواص چای\",\"url\":\"/post/225\"},{\"path\":\"A@/href\",\"text\":\"شعر در مورد آتش\",\"url\":\"/post/224\"},{\"path\":\"A@/href\",\"text\":\"بخواب عشقم\",\"url\":\"/post/223\"},{\"path\":\"A@/href\",\"text\":\"خرید اینترنتی آکواریوم جادویی\",\"url\":\"/post/222\"},{\"path\":\"A@/href\",\"text\":\"خرید اینترنتی سینی شیشه ای دوار\",\"url\":\"/post/221\"},{\"path\":\"A@/href\",\"text\":\"خرید اینترنتی ماشین اصلاح حرفه ای جیمی Gemei GM-737\",\"url\":\"/post/220\"},{\"path\":\"A@/href\",\"text\":\"لیست آخرین پستها\",\"url\":\"/post/list\"},{\"path\":\"A@/href\",\"url\":\"/post/author/1190609\"},{\"path\":\"A@/href\",\"text\":\"مسعود هاشمی(230)\",\"url\":\"/post/author/1190609\"},{\"path\":\"A@/href\",\"text\":\"درمان نارسایی کبد\",\"url\":\"/post/tag/%D8%AF%D8%B1%D9%85%D8%A7%D9%86+%D9%86%D8%A7%D8%B1%D8%B3%D8%A7%DB%8C%DB%8C+%DA%A9%D8%A8%D8%AF\"},{\"path\":\"A@/href\",\"text\":\"سردرد خوشه ای و درمان\",\"url\":\"/post/tag/%D8%B3%D8%B1%D8%AF%D8%B1%D8%AF+%D8%AE%D9%88%D8%B4%D9%87+%D8%A7%DB%8C+%D9%88+%D8%AF%D8%B1%D9%85%D8%A7%D9%86\"},{\"path\":\"A@/href\",\"text\":\"سردرد خوشه ایی\",\"url\":\"/post/tag/%D8%B3%D8%B1%D8%AF%D8%B1%D8%AF+%D8%AE%D9%88%D8%B4%D9%87+%D8%A7%DB%8C%DB%8C\"},{\"path\":\"A@/href\",\"text\":\"سردرد خوشه ای چیست\",\"url\":\"/post/tag/%D8%B3%D8%B1%D8%AF%D8%B1%D8%AF+%D8%AE%D9%88%D8%B4%D9%87+%D8%A7%DB%8C+%DA%86%DB%8C%D8%B3%D8%AA\"},{\"path\":\"A@/href\",\"text\":\"سردرد خوشه ای\",\"url\":\"/post/tag/%D8%B3%D8%B1%D8%AF%D8%B1%D8%AF+%D8%AE%D9%88%D8%B4%D9%87+%D8%A7%DB%8C\"},{\"path\":\"A@/href\",\"text\":\"سردرد خوشه ای و طب سنتی\",\"url\":\"/post/tag/%D8%B3%D8%B1%D8%AF%D8%B1%D8%AF+%D8%AE%D9%88%D8%B4%D9%87+%D8%A7%DB%8C+%D9%88+%D8%B7%D8%A8+%D8%B3%D9%86%D8%AA%DB%8C\"},{\"path\":\"A@/href\",\"text\":\"درمان نارسایی کبد با طب سوزنی\",\"url\":\"/post/tag/%D8%AF%D8%B1%D9%85%D8%A7%D9%86+%D9%86%D8%A7%D8%B1%D8%B3%D8%A7%DB%8C%DB%8C+%DA%A9%D8%A8%D8%AF+%D8%A8%D8%A7+%D8%B7%D8%A8+%D8%B3%D9%88%D8%B2%D9%86%DB%8C\"},{\"path\":\"A@/href\",\"text\":\"مواد غذایی مناسب برای درمان نارسایی کبد\",\"url\":\"/post/tag/%D9%85%D9%88%D8%A7%D8%AF+%D8%BA%D8%B0%D8%A7%DB%8C%DB%8C+%D9%85%D9%86%D8%A7%D8%B3%D8%A8+%D8%A8%D8%B1%D8%A7%DB%8C+%D8%AF%D8%B1%D9%85%D8%A7%D9%86+%D9%86%D8%A7%D8%B1%D8%B3%D8%A7%DB%8C%DB%8C+%DA%A9%D8%A8%D8%AF\"},{\"path\":\"A@/href\",\"text\":\"سردرد خوشه ایی چیست\",\"url\":\"/post/tag/%D8%B3%D8%B1%D8%AF%D8%B1%D8%AF+%D8%AE%D9%88%D8%B4%D9%87+%D8%A7%DB%8C%DB%8C+%DA%86%DB%8C%D8%B3%D8%AA\"},{\"path\":\"A@/href\",\"text\":\"سردرد خوشه ای طب سنتی\",\"url\":\"/post/tag/%D8%B3%D8%B1%D8%AF%D8%B1%D8%AF+%D8%AE%D9%88%D8%B4%D9%87+%D8%A7%DB%8C+%D8%B7%D8%A8+%D8%B3%D9%86%D8%AA%DB%8C\"},{\"path\":\"IMG@/src\",\"alt\":\"Admin Logo\",\"url\":\"http://www.mihanblog.comhttp://mihanblog.com/public/public/images/logo/poweredby.gif\"},{\"path\":\"A@/href\",\"url\":\"http://www.admin.mihanblog.com\"},{\"path\":\"IMG@/src\",\"alt\":\"themebox Logo\",\"url\":\"http://mihanblog.com/public//public/user_data/user_files/97/289651/logo.jpg\"},{\"path\":\"A@/href\",\"url\":\"http://www.themebox.mihanblog.com\"},{\"path\":\"A@/href\",\"text\":\"ThemeBox\",\"url\":\"http://www.themebox.mihanblog.com\"},{\"path\":\"IMG@/src\",\"url\":\"https://sabapush.com/logo.png\"}]},\"Entity-Digest\":\"sha1:IRTYVPSQUFDA2CU5O6SI57F3PWNKPT7O\"},\"Trailing-Slop-Length\":\"4\"}}})\n",
      "(http://000elham00.mihanblog.com/post/185,{\"Container\":{\"Filename\":\"CC-MAIN-20180918130631-20180918150631-00000.warc.gz\",\"Compressed\":true,\"Offset\":\"27190\",\"Gzip-Metadata\":{\"Inflated-Length\":\"766\",\"Footer-Length\":\"8\",\"Inflated-CRC\":\"-1853353127\",\"Deflate-Length\":\"474\",\"Header-Length\":\"10\"}},\"Envelope\":{\"Format\":\"WARC\",\"WARC-Header-Length\":\"386\",\"Actual-Content-Length\":\"376\",\"WARC-Header-Metadata\":{\"WARC-Target-URI\":\"http://000elham00.mihanblog.com/post/185\",\"WARC-Warcinfo-ID\":\"<urn:uuid:8d75a1d7-86c5-4788-9e02-7e28190391ba>\",\"WARC-Concurrent-To\":\"<urn:uuid:6e305fd8-1c41-4dbc-b0d3-8c08ef489eda>\",\"WARC-Date\":\"2018-09-18T13:28:47Z\",\"Content-Length\":\"376\",\"WARC-Record-ID\":\"<urn:uuid:e517210d-3047-451e-9e1b-5b7f49e24dac>\",\"WARC-Type\":\"metadata\",\"Content-Type\":\"application/warc-fields\"},\"Block-Digest\":\"sha1:GYQRJR3H7X6A3T65U4PWZKU7SWDTKHNZ\",\"Payload-Metadata\":{\"Actual-Content-Type\":\"application/metadata-fields\",\"WARC-Metadata-Metadata\":{\"Metadata-Records\":[{\"Value\":\"878\",\"Name\":\"fetchTimeMs\"},{\"Value\":\"UTF-8\",\"Name\":\"charset-detected\"},{\"Value\":\"{\\\"reliable\\\":true,\\\"text-bytes\\\":4879,\\\"languages\\\":[{\\\"code\\\":\\\"fa\\\",\\\"code-iso-639-3\\\":\\\"fas\\\",\\\"text-covered\\\":0.44,\\\"score\\\":850.0,\\\"name\\\":\\\"PERSIAN\\\"},{\\\"code\\\":\\\"en\\\",\\\"code-iso-639-3\\\":\\\"eng\\\",\\\"text-covered\\\":0.41,\\\"score\\\":909.0,\\\"name\\\":\\\"ENGLISH\\\"},{\\\"code\\\":\\\"ru\\\",\\\"code-iso-639-3\\\":\\\"rus\\\",\\\"text-covered\\\":0.08,\\\"score\\\":425.0,\\\"name\\\":\\\"RUSSIAN\\\"}]}\",\"Name\":\"languages-cld2\"}]},\"Actual-Content-Length\":\"376\",\"Trailing-Slop-Length\":\"0\"}}})\n",
      "(http://01053359081.kte114.kr/%EB%8B%A8%EB%8F%85%EC%8B%A4%EC%86%90%EB%B3%B4%ED%97%98%EC%83%81%ED%92%88,{\"Container\":{\"Filename\":\"CC-MAIN-20180918130631-20180918150631-00000.warc.gz\",\"Compressed\":true,\"Offset\":\"27664\",\"Gzip-Metadata\":{\"Inflated-Length\":\"766\",\"Footer-Length\":\"8\",\"Inflated-CRC\":\"1952669069\",\"Deflate-Length\":\"485\",\"Header-Length\":\"10\"}},\"Envelope\":{\"Format\":\"WARC\",\"WARC-Header-Length\":\"419\",\"Actual-Content-Length\":\"343\",\"WARC-Header-Metadata\":{\"WARC-IP-Address\":\"115.68.74.190\",\"WARC-Target-URI\":\"http://01053359081.kte114.kr/%EB%8B%A8%EB%8F%85%EC%8B%A4%EC%86%90%EB%B3%B4%ED%97%98%EC%83%81%ED%92%88\",\"WARC-Warcinfo-ID\":\"<urn:uuid:8d75a1d7-86c5-4788-9e02-7e28190391ba>\",\"WARC-Date\":\"2018-09-18T13:09:11Z\",\"Content-Length\":\"343\",\"WARC-Record-ID\":\"<urn:uuid:00011358-111b-4beb-828a-cf7e7d1132e3>\",\"WARC-Type\":\"request\",\"Content-Type\":\"application/http; msgtype=request\"},\"Block-Digest\":\"sha1:IHIVA6BGRR4XU4HQWVWB747ULPL2NP3A\",\"Payload-Metadata\":{\"Actual-Content-Type\":\"application/http; msgtype=request\",\"HTTP-Request-Metadata\":{\"Headers-Length\":\"341\",\"Entity-Trailing-Slop-Length\":\"0\",\"Entity-Length\":\"0\",\"Headers\":{\"Accept\":\"text/html,application/xhtml+xml,application/xml;q=0.9,*/*;q=0.8\",\"User-Agent\":\"CCBot/2.0 (https://commoncrawl.org/faq/)\",\"Connection\":\"Keep-Alive\",\"If-Modified-Since\":\"Wed, 20 Jun 2018 07:21:05 GMT\",\"Host\":\"01053359081.kte114.kr\",\"Accept-Encoding\":\"gzip\"},\"Request-Message\":{\"Path\":\"/%EB%8B%A8%EB%8F%85%EC%8B%A4%EC%86%90%EB%B3%B4%ED%97%98%EC%83%81%ED%92%88\",\"Version\":\"HTTP/1.1\",\"Method\":\"GET\"},\"Entity-Digest\":\"sha1:3I42H3S6NNFQ2MSVX7XZKYAYSCX5QBYJ\"},\"Trailing-Slop-Length\":\"4\"}}})\n",
      "(http://01053359081.kte114.kr/%EB%8B%A8%EB%8F%85%EC%8B%A4%EC%86%90%EB%B3%B4%ED%97%98%EC%83%81%ED%92%88,{\"Container\":{\"Filename\":\"CC-MAIN-20180918130631-20180918150631-00000.warc.gz\",\"Compressed\":true,\"Offset\":\"28149\",\"Gzip-Metadata\":{\"Inflated-Length\":\"11831\",\"Footer-Length\":\"8\",\"Inflated-CRC\":\"-2001800490\",\"Deflate-Length\":\"5008\",\"Header-Length\":\"10\"}},\"Envelope\":{\"Format\":\"WARC\",\"WARC-Header-Length\":\"663\",\"Actual-Content-Length\":\"11164\",\"WARC-Header-Metadata\":{\"WARC-Identified-Payload-Type\":\"application/xhtml+xml\",\"WARC-Payload-Digest\":\"sha1:DXCWWFJBY7LDV2OUGFV6V7AUSTG67MLP\",\"WARC-IP-Address\":\"115.68.74.190\",\"WARC-Block-Digest\":\"sha1:AGLVAITGA5RDUG2GHAI5FZKVJLBXZYNB\",\"WARC-Target-URI\":\"http://01053359081.kte114.kr/%EB%8B%A8%EB%8F%85%EC%8B%A4%EC%86%90%EB%B3%B4%ED%97%98%EC%83%81%ED%92%88\",\"WARC-Warcinfo-ID\":\"<urn:uuid:8d75a1d7-86c5-4788-9e02-7e28190391ba>\",\"WARC-Concurrent-To\":\"<urn:uuid:00011358-111b-4beb-828a-cf7e7d1132e3>\",\"WARC-Date\":\"2018-09-18T13:09:11Z\",\"Content-Length\":\"11164\",\"WARC-Record-ID\":\"<urn:uuid:f59ba9c9-f1d9-48ff-b92b-be5bbbe9e861>\",\"WARC-Type\":\"response\",\"Content-Type\":\"application/http; msgtype=response\"},\"Block-Digest\":\"sha1:AGLVAITGA5RDUG2GHAI5FZKVJLBXZYNB\",\"Payload-Metadata\":{\"Actual-Content-Type\":\"application/http; msgtype=response\",\"HTTP-Response-Metadata\":{\"Headers-Length\":\"210\",\"Entity-Trailing-Slop-Length\":\"0\",\"Entity-Length\":\"10954\",\"Headers\":{\"X-Crawler-Transfer-Encoding\":\"chunked\",\"Server\":\"Apache/2.2.15 (CentOS)\",\"Connection\":\"close\",\"Date\":\"Tue, 18 Sep 2018 13:09:11 GMT\",\"X-Powered-By\":\"PHP/5.3.3\",\"Content-Type\":\"text/html; charset=UTF-8\"},\"Response-Message\":{\"Status\":\"200\",\"Version\":\"HTTP/1.1\",\"Reason\":\"OK\"},\"HTML-Metadata\":{\"Head\":{\"Metas\":[{\"http-equiv\":\"content-type\",\"content\":\"text/html; charset=utf-8\"},{\"name\":\"GOOGLEBOT\",\"content\":\"all,index,follow\"},{\"name\":\"revisit-after\",\"content\":\"1 days\"},{\"name\":\"Robots\",\"content\":\"all,index,follow\"},{\"name\":\"Content-Language\",\"content\":\"kr\"},{\"http-equiv\":\"title\",\"content\":\"맛집\"},{\"name\":\"Title\",\"content\":\"맛집\"},{\"name\":\"Subject\",\"content\":\"맛집\"},{\"name\":\"keywords\",\"content\":\"맛집\"},{\"name\":\"Description\",\"content\":\"맛집? 여기가 가장 좋아요.\"},{\"property\":\"og:title\",\"content\":\"맛집\"},{\"property\":\"og:type\",\"content\":\"article\"},{\"property\":\"og:url\",\"content\":\"http://01053359081.kte114.kr/맛집.html\"},{\"property\":\"og:description\",\"content\":\"여기에 궁금한 맛집 최신 정보를 모아봤어요.\"}],\"Title\":\"맛집? 많은분 들이 이곳을 이용하고 있어요.\",\"Link\":[{\"path\":\"LINK@/href\",\"rel\":\"stylesheet\",\"type\":\"text/css\",\"url\":\"/style.css\"}]},\"Links\":[{\"path\":\"A@/href\",\"text\":\"주택담보대출비교\",\"url\":\"/%EC%A3%BC%ED%83%9D%EB%8B%B4%EB%B3%B4%EB%8C%80%EC%B6%9C%EB%B9%84%EA%B5%90\"},{\"path\":\"A@/href\",\"text\":\"미간주름없애는법\",\"url\":\"/%EB%AF%B8%EA%B0%84%EC%A3%BC%EB%A6%84%EC%97%86%EC%95%A0%EB%8A%94%EB%B2%95\"},{\"path\":\"A@/href\",\"text\":\"귀에서소리\",\"url\":\"/%EA%B7%80%EC%97%90%EC%84%9C%EC%86%8C%EB%A6%AC\"},{\"path\":\"A@/href\",\"text\":\"드레스샵\",\"url\":\"/%EB%93%9C%EB%A0%88%EC%8A%A4%EC%83%B5\"},{\"path\":\"A@/href\",\"text\":\"자작난로\",\"url\":\"/%EC%9E%90%EC%9E%91%EB%82%9C%EB%A1%9C\"},{\"path\":\"A@/href\",\"text\":\"피부 스켈링이 정확히 뭔가요?\",\"url\":\"/cc.php?tf=bae9c2c49cac06bde19a20e5d9dd9f05\"},{\"path\":\"A@/href\",\"text\":\"면도하고나서 상처가 색소침착으로 남아요.\",\"url\":\"/cc.php?tf=68ebef3d83007e685294b0939e07f9cf\"},{\"path\":\"A@/href\",\"text\":\"머리숱이 고민이에요\",\"url\":\"/cc.php?tf=282fe4e229798af7d1b871a7682dcf2a\"},{\"path\":\"A@/href\",\"text\":\"피부에나는트러블\",\"url\":\"/cc.php?tf=173b537d7bd95be6f076f9ab28ec8f78\"},{\"path\":\"A@/href\",\"text\":\"태그 고수님 봐주세요\",\"url\":\"/cc.php?tf=77ba92f51df7d06e50b9114f17fbbde5\"},{\"path\":\"A@/href\",\"text\":\"정수리 탈모\",\"url\":\"/cc.php?tf=91bd1e93960f0f0ba6e20d3bc4a1b9de\"},{\"path\":\"A@/href\",\"text\":\"여드름하고 블랙헤드 제거법\",\"url\":\"/cc.php?tf=c7d4db26a774d91ae861e0c4db7556cf\"},{\"path\":\"A@/href\",\"text\":\"교통카드nfc\",\"url\":\"/cc.php?tf=5fbea6ba84eaaa6e28456292d04fd1f4\"},{\"path\":\"A@/href\",\"text\":\"탈모인가요?\",\"url\":\"/cc.php?tf=491713dfbd8a7b5bad513f4228a19019\"},{\"path\":\"A@/href\",\"text\":\"피부에 이거 블랙헤드죠!? 모공이 그런것인가요?\",\"url\":\"/cc.php?tf=e99b12d303ded2ee344af19f24dc783b\"},{\"path\":\"A@/href\",\"text\":\"블랙헤드.\",\"url\":\"/cc.php?tf=a9573c187e2448459b7765e386114540\"},{\"path\":\"A@/href\",\"text\":\"대구에서 피부관리실 오픈 예정인데요.....내공 만땅!!\",\"url\":\"/cc.php?tf=75d36b3b25fe736f0bcc68dccd895161\"},{\"path\":\"A@/href\",\"text\":\"여드름과 염산리도카인 2%에 대하여......답 부탁 드립니다.\",\"url\":\"/cc.php?tf=627e24659f5072b49dd3479fea433fd7\"},{\"path\":\"A@/href\",\"text\":\"팝업창이 자꾸뜨네요..(내공 50)\",\"url\":\"/cc.php?tf=68ce0e2c6769181271bcab1436b36fd1\"},{\"path\":\"A@/href\",\"text\":\"이가방 어디꺼에요??\",\"url\":\"/cc.php?tf=2c4fc1faa2266b792888ae4b5f15c576\"},{\"path\":\"A@/href\",\"text\":\"렉카면허\",\"url\":\"/%EB%A0%89%EC%B9%B4%EB%A9%B4%ED%97%88\"},{\"path\":\"A@/href\",\"text\":\"제주도갈치\",\"url\":\"/%EC%A0%9C%EC%A3%BC%EB%8F%84%EA%B0%88%EC%B9%98\"},{\"path\":\"A@/href\",\"text\":\"9등급주택담보대출\",\"url\":\"/9%EB%93%B1%EA%B8%89%EC%A3%BC%ED%83%9D%EB%8B%B4%EB%B3%B4%EB%8C%80%EC%B6%9C\"},{\"path\":\"A@/href\",\"text\":\"학점은행제일반학점\",\"url\":\"/%ED%95%99%EC%A0%90%EC%9D%80%ED%96%89%EC%A0%9C%EC%9D%BC%EB%B0%98%ED%95%99%EC%A0%90\"},{\"path\":\"A@/href\",\"text\":\"정선라마다\",\"url\":\"/%EC%A0%95%EC%84%A0%EB%9D%BC%EB%A7%88%EB%8B%A4\"},{\"path\":\"A@/href\",\"text\":\"메리츠화재실비\",\"url\":\"/%EB%A9%94%EB%A6%AC%EC%B8%A0%ED%99%94%EC%9E%AC%EC%8B%A4%EB%B9%84\"},{\"path\":\"A@/href\",\"text\":\"체중감량방법\",\"url\":\"/%EC%B2%B4%EC%A4%91%EA%B0%90%EB%9F%89%EB%B0%A9%EB%B2%95\"},{\"path\":\"A@/href\",\"text\":\"월급통장대출\",\"url\":\"/%EC%9B%94%EA%B8%89%ED%86%B5%EC%9E%A5%EB%8C%80%EC%B6%9C\"},{\"path\":\"A@/href\",\"text\":\"해외유학\",\"url\":\"/%ED%95%B4%EC%99%B8%EC%9C%A0%ED%95%99\"},{\"path\":\"A@/href\",\"text\":\"뇌출혈보장\",\"url\":\"/%EB%87%8C%EC%B6%9C%ED%98%88%EB%B3%B4%EC%9E%A5\"},{\"path\":\"A@/href\",\"text\":\"중국유학원\",\"url\":\"/%EC%A4%91%EA%B5%AD%EC%9C%A0%ED%95%99%EC%9B%90\"},{\"path\":\"A@/href\",\"text\":\"거제도예쁜펜션\",\"url\":\"/%EA%B1%B0%EC%A0%9C%EB%8F%84%EC%98%88%EC%81%9C%ED%8E%9C%EC%85%98\"},{\"path\":\"A@/href\",\"text\":\"영어인강추천\",\"url\":\"/%EC%98%81%EC%96%B4%EC%9D%B8%EA%B0%95%EC%B6%94%EC%B2%9C\"},{\"path\":\"A@/href\",\"text\":\"드라마협찬가구\",\"url\":\"/%EB%93%9C%EB%9D%BC%EB%A7%88%ED%98%91%EC%B0%AC%EA%B0%80%EA%B5%AC\"},{\"path\":\"A@/href\",\"text\":\"네트워크업체\",\"url\":\"/%EB%84%A4%ED%8A%B8%EC%9B%8C%ED%81%AC%EC%97%85%EC%B2%B4\"},{\"path\":\"A@/href\",\"text\":\"케비넷\",\"url\":\"/%EC%BC%80%EB%B9%84%EB%84%B7\"},{\"path\":\"A@/href\",\"text\":\"울금\",\"url\":\"/%EC%9A%B8%EA%B8%88\"},{\"path\":\"A@/href\",\"text\":\"김해뷔페\",\"url\":\"/%EA%B9%80%ED%95%B4%EB%B7%94%ED%8E%98\"},{\"path\":\"A@/href\",\"text\":\"플래시게임제작\",\"url\":\"/%ED%94%8C%EB%9E%98%EC%8B%9C%EA%B2%8C%EC%9E%84%EC%A0%9C%EC%9E%91\"},{\"path\":\"A@/href\",\"text\":\"유아용품대여\",\"url\":\"/%EC%9C%A0%EC%95%84%EC%9A%A9%ED%92%88%EB%8C%80%EC%97%AC\"},{\"path\":\"A@/href\",\"text\":\"01053359081.kte114.kr\",\"url\":\"http://01053359081.kte114.kr\",\"target\":\"blank\"}]},\"Entity-Digest\":\"sha1:DXCWWFJBY7LDV2OUGFV6V7AUSTG67MLP\"},\"Trailing-Slop-Length\":\"4\"}}})\n",
      "(http://01053359081.kte114.kr/%EB%8B%A8%EB%8F%85%EC%8B%A4%EC%86%90%EB%B3%B4%ED%97%98%EC%83%81%ED%92%88,{\"Container\":{\"Filename\":\"CC-MAIN-20180918130631-20180918150631-00000.warc.gz\",\"Compressed\":true,\"Offset\":\"33157\",\"Gzip-Metadata\":{\"Inflated-Length\":\"651\",\"Footer-Length\":\"8\",\"Inflated-CRC\":\"777221285\",\"Deflate-Length\":\"461\",\"Header-Length\":\"10\"}},\"Envelope\":{\"Format\":\"WARC\",\"WARC-Header-Length\":\"447\",\"Actual-Content-Length\":\"200\",\"WARC-Header-Metadata\":{\"WARC-Target-URI\":\"http://01053359081.kte114.kr/%EB%8B%A8%EB%8F%85%EC%8B%A4%EC%86%90%EB%B3%B4%ED%97%98%EC%83%81%ED%92%88\",\"WARC-Warcinfo-ID\":\"<urn:uuid:8d75a1d7-86c5-4788-9e02-7e28190391ba>\",\"WARC-Concurrent-To\":\"<urn:uuid:f59ba9c9-f1d9-48ff-b92b-be5bbbe9e861>\",\"WARC-Date\":\"2018-09-18T13:09:11Z\",\"Content-Length\":\"200\",\"WARC-Record-ID\":\"<urn:uuid:a1f43d90-c882-4ec4-8601-d12a133d1e9b>\",\"WARC-Type\":\"metadata\",\"Content-Type\":\"application/warc-fields\"},\"Block-Digest\":\"sha1:3MWHZYYPEXIRCBOYDEAC72JSILAF66L3\",\"Payload-Metadata\":{\"Actual-Content-Type\":\"application/metadata-fields\",\"WARC-Metadata-Metadata\":{\"Metadata-Records\":[{\"Value\":\"527\",\"Name\":\"fetchTimeMs\"},{\"Value\":\"UTF-8\",\"Name\":\"charset-detected\"},{\"Value\":\"{\\\"reliable\\\":true,\\\"text-bytes\\\":5624,\\\"languages\\\":[{\\\"code\\\":\\\"ko\\\",\\\"code-iso-639-3\\\":\\\"kor\\\",\\\"text-covered\\\":0.98,\\\"score\\\":3808.0,\\\"name\\\":\\\"Korean\\\"}]}\",\"Name\":\"languages-cld2\"}]},\"Actual-Content-Length\":\"200\",\"Trailing-Slop-Length\":\"0\"}}})\n",
      "(http://01ninchisyou.seesaa.net/article/35488540.html,{\"Container\":{\"Filename\":\"CC-MAIN-20180918130631-20180918150631-00000.warc.gz\",\"Compressed\":true,\"Offset\":\"33618\",\"Gzip-Metadata\":{\"Inflated-Length\":\"668\",\"Footer-Length\":\"8\",\"Inflated-CRC\":\"1174828829\",\"Deflate-Length\":\"455\",\"Header-Length\":\"10\"}},\"Envelope\":{\"Format\":\"WARC\",\"WARC-Header-Length\":\"370\",\"Actual-Content-Length\":\"294\",\"WARC-Header-Metadata\":{\"WARC-IP-Address\":\"13.32.251.198\",\"WARC-Target-URI\":\"http://01ninchisyou.seesaa.net/article/35488540.html\",\"WARC-Warcinfo-ID\":\"<urn:uuid:8d75a1d7-86c5-4788-9e02-7e28190391ba>\",\"WARC-Date\":\"2018-09-18T14:24:32Z\",\"Content-Length\":\"294\",\"WARC-Record-ID\":\"<urn:uuid:c73b2ad2-d6d6-40d6-a6c9-2a12cb35ed4f>\",\"WARC-Type\":\"request\",\"Content-Type\":\"application/http; msgtype=request\"},\"Block-Digest\":\"sha1:NVNYU77O5XSBUKO73F2WZ4HBVA5K5CP5\",\"Payload-Metadata\":{\"Actual-Content-Type\":\"application/http; msgtype=request\",\"HTTP-Request-Metadata\":{\"Headers-Length\":\"292\",\"Entity-Trailing-Slop-Length\":\"0\",\"Entity-Length\":\"0\",\"Headers\":{\"Accept\":\"text/html,application/xhtml+xml,application/xml;q=0.9,*/*;q=0.8\",\"User-Agent\":\"CCBot/2.0 (https://commoncrawl.org/faq/)\",\"Connection\":\"Keep-Alive\",\"If-Modified-Since\":\"Thu, 19 Jul 2018 11:42:19 GMT\",\"Host\":\"01ninchisyou.seesaa.net\",\"Accept-Encoding\":\"gzip\"},\"Request-Message\":{\"Path\":\"/article/35488540.html\",\"Version\":\"HTTP/1.1\",\"Method\":\"GET\"},\"Entity-Digest\":\"sha1:3I42H3S6NNFQ2MSVX7XZKYAYSCX5QBYJ\"},\"Trailing-Slop-Length\":\"4\"}}})\n"
     ]
    },
    {
     "data": {
      "text/plain": [
       "uriMetaDataPairs = MapPartitionsRDD[260] at map at <console>:56\n"
      ]
     },
     "metadata": {},
     "output_type": "display_data"
    },
    {
     "data": {
      "text/plain": [
       "lastException: Throwable = null\n"
      ]
     },
     "metadata": {},
     "output_type": "display_data"
    },
    {
     "data": {
      "text/plain": [
       "MapPartitionsRDD[260] at map at <console>:56"
      ]
     },
     "execution_count": 163,
     "metadata": {},
     "output_type": "execute_result"
    }
   ],
   "source": [
    "val uriMetaDataPairs = data\n",
    "    .map(pair => {\n",
    "        val (header, metadata) = pair\n",
    "    \n",
    "        val keyValuePairs = header\n",
    "            .split(\"\\r\\n\")\n",
    "            .filter(_ != \"\")\n",
    "            .map(line => {\n",
    "                val splitList = line.split(\": \")\n",
    "                ((splitList(0), splitList(1)))\n",
    "            })\n",
    "\n",
    "        val targetURL = keyValuePairs\n",
    "            .filter(_._1 == \"WARC-Target-URI\")(0)\n",
    "            ._2\n",
    "            .split(\"\\\\?\")(0)\n",
    "            .split(\"#\")(0)\n",
    "\n",
    "        (targetURL, metadata)\n",
    "    })\n",
    "\n",
    "uriMetaDataPairs.take(10).foreach(println)"
   ]
  },
  {
   "cell_type": "code",
   "execution_count": 166,
   "metadata": {
    "scrolled": true
   },
   "outputs": [
    {
     "data": {
      "text/plain": [
       "lastException = null\n"
      ]
     },
     "metadata": {},
     "output_type": "display_data"
    },
    {
     "data": {
      "text/plain": [
       "Name: org.apache.spark.SparkException\n",
       "Message: Job aborted due to stage failure: Task 0 in stage 120.0 failed 1 times, most recent failure: Lost task 0.0 in stage 120.0 (TID 588, localhost, executor driver): java.lang.ArrayIndexOutOfBoundsException: 0\n",
       "\tat $line687.$read$$iw$$iw$$iw$$iw$$iw$$iw$$iw$$iw$$iw$$iw$$iw$$iw$$anonfun$1$$anonfun$5.apply(<console>:83)\n",
       "\tat $line687.$read$$iw$$iw$$iw$$iw$$iw$$iw$$iw$$iw$$iw$$iw$$iw$$iw$$anonfun$1$$anonfun$5.apply(<console>:83)\n",
       "\tat scala.collection.TraversableLike$$anonfun$map$1.apply(TraversableLike.scala:234)\n",
       "\tat scala.collection.TraversableLike$$anonfun$map$1.apply(TraversableLike.scala:234)\n",
       "\tat scala.collection.IndexedSeqOptimized$class.foreach(IndexedSeqOptimized.scala:33)\n",
       "\tat scala.collection.mutable.ArrayOps$ofRef.foreach(ArrayOps.scala:186)\n",
       "\tat scala.collection.TraversableLike$class.map(TraversableLike.scala:234)\n",
       "\tat scala.collection.mutable.ArrayOps$ofRef.map(ArrayOps.scala:186)\n",
       "\tat $line687.$read$$iw$$iw$$iw$$iw$$iw$$iw$$iw$$iw$$iw$$iw$$iw$$iw$$anonfun$1.apply(<console>:83)\n",
       "\tat $line687.$read$$iw$$iw$$iw$$iw$$iw$$iw$$iw$$iw$$iw$$iw$$iw$$iw$$anonfun$1.apply(<console>:58)\n",
       "\tat scala.collection.Iterator$$anon$11.next(Iterator.scala:409)\n",
       "\tat scala.collection.Iterator$$anon$13.hasNext(Iterator.scala:462)\n",
       "\tat scala.collection.Iterator$$anon$10.hasNext(Iterator.scala:389)\n",
       "\tat scala.collection.Iterator$class.foreach(Iterator.scala:893)\n",
       "\tat scala.collection.AbstractIterator.foreach(Iterator.scala:1336)\n",
       "\tat scala.collection.generic.Growable$class.$plus$plus$eq(Growable.scala:59)\n",
       "\tat scala.collection.mutable.ArrayBuffer.$plus$plus$eq(ArrayBuffer.scala:104)\n",
       "\tat scala.collection.mutable.ArrayBuffer.$plus$plus$eq(ArrayBuffer.scala:48)\n",
       "\tat scala.collection.TraversableOnce$class.to(TraversableOnce.scala:310)\n",
       "\tat scala.collection.AbstractIterator.to(Iterator.scala:1336)\n",
       "\tat scala.collection.TraversableOnce$class.toBuffer(TraversableOnce.scala:302)\n",
       "\tat scala.collection.AbstractIterator.toBuffer(Iterator.scala:1336)\n",
       "\tat scala.collection.TraversableOnce$class.toArray(TraversableOnce.scala:289)\n",
       "\tat scala.collection.AbstractIterator.toArray(Iterator.scala:1336)\n",
       "\tat org.apache.spark.rdd.RDD$$anonfun$take$1$$anonfun$28.apply(RDD.scala:1358)\n",
       "\tat org.apache.spark.rdd.RDD$$anonfun$take$1$$anonfun$28.apply(RDD.scala:1358)\n",
       "\tat org.apache.spark.SparkContext$$anonfun$runJob$5.apply(SparkContext.scala:2074)\n",
       "\tat org.apache.spark.SparkContext$$anonfun$runJob$5.apply(SparkContext.scala:2074)\n",
       "\tat org.apache.spark.scheduler.ResultTask.runTask(ResultTask.scala:87)\n",
       "\tat org.apache.spark.scheduler.Task.run(Task.scala:109)\n",
       "\tat org.apache.spark.executor.Executor$TaskRunner.run(Executor.scala:345)\n",
       "\tat java.util.concurrent.ThreadPoolExecutor.runWorker(ThreadPoolExecutor.java:1149)\n",
       "\tat java.util.concurrent.ThreadPoolExecutor$Worker.run(ThreadPoolExecutor.java:624)\n",
       "\tat java.lang.Thread.run(Thread.java:748)\n",
       "\n",
       "Driver stacktrace:\n",
       "StackTrace: \tat $anonfun$1$$anonfun$5.apply(<console>:83)\n",
       "\tat $anonfun$1.apply(<console>:83)\n",
       "\tat $anonfun$1.apply(<console>:58)\n",
       "  at org.apache.spark.scheduler.DAGScheduler.org$apache$spark$scheduler$DAGScheduler$$failJobAndIndependentStages(DAGScheduler.scala:1602)\n",
       "  at org.apache.spark.scheduler.DAGScheduler$$anonfun$abortStage$1.apply(DAGScheduler.scala:1590)\n",
       "  at org.apache.spark.scheduler.DAGScheduler$$anonfun$abortStage$1.apply(DAGScheduler.scala:1589)\n",
       "  at scala.collection.mutable.ResizableArray$class.foreach(ResizableArray.scala:59)\n",
       "  at scala.collection.mutable.ArrayBuffer.foreach(ArrayBuffer.scala:48)\n",
       "  at org.apache.spark.scheduler.DAGScheduler.abortStage(DAGScheduler.scala:1589)\n",
       "  at org.apache.spark.scheduler.DAGScheduler$$anonfun$handleTaskSetFailed$1.apply(DAGScheduler.scala:831)\n",
       "  at org.apache.spark.scheduler.DAGScheduler$$anonfun$handleTaskSetFailed$1.apply(DAGScheduler.scala:831)\n",
       "  at scala.Option.foreach(Option.scala:257)\n",
       "  at org.apache.spark.scheduler.DAGScheduler.handleTaskSetFailed(DAGScheduler.scala:831)\n",
       "  at org.apache.spark.scheduler.DAGSchedulerEventProcessLoop.doOnReceive(DAGScheduler.scala:1823)\n",
       "  at org.apache.spark.scheduler.DAGSchedulerEventProcessLoop.onReceive(DAGScheduler.scala:1772)\n",
       "  at org.apache.spark.scheduler.DAGSchedulerEventProcessLoop.onReceive(DAGScheduler.scala:1761)\n",
       "  at org.apache.spark.util.EventLoop$$anon$1.run(EventLoop.scala:48)\n",
       "  at org.apache.spark.scheduler.DAGScheduler.runJob(DAGScheduler.scala:642)\n",
       "  at org.apache.spark.SparkContext.runJob(SparkContext.scala:2034)\n",
       "  at org.apache.spark.SparkContext.runJob(SparkContext.scala:2055)\n",
       "  at org.apache.spark.SparkContext.runJob(SparkContext.scala:2074)\n",
       "  at org.apache.spark.rdd.RDD$$anonfun$take$1.apply(RDD.scala:1358)\n",
       "  at org.apache.spark.rdd.RDDOperationScope$.withScope(RDDOperationScope.scala:151)\n",
       "  at org.apache.spark.rdd.RDDOperationScope$.withScope(RDDOperationScope.scala:112)\n",
       "  at org.apache.spark.rdd.RDD.withScope(RDD.scala:363)\n",
       "  at org.apache.spark.rdd.RDD.take(RDD.scala:1331)\n",
       "  ... 48 elided\n",
       "Caused by: java.lang.ArrayIndexOutOfBoundsException: 0\n",
       "  at $anonfun$1$$anonfun$5.apply(<console>:83)\n",
       "  at $anonfun$1$$anonfun$5.apply(<console>:83)\n",
       "  at scala.collection.TraversableLike$$anonfun$map$1.apply(TraversableLike.scala:234)\n",
       "  at scala.collection.TraversableLike$$anonfun$map$1.apply(TraversableLike.scala:234)\n",
       "  at scala.collection.IndexedSeqOptimized$class.foreach(IndexedSeqOptimized.scala:33)\n",
       "  at scala.collection.mutable.ArrayOps$ofRef.foreach(ArrayOps.scala:186)\n",
       "  at scala.collection.TraversableLike$class.map(TraversableLike.scala:234)\n",
       "  at scala.collection.mutable.ArrayOps$ofRef.map(ArrayOps.scala:186)\n",
       "  at $anonfun$1.apply(<console>:83)\n",
       "  at $anonfun$1.apply(<console>:58)\n",
       "  at scala.collection.Iterator$$anon$11.next(Iterator.scala:409)\n",
       "  at scala.collection.Iterator$$anon$13.hasNext(Iterator.scala:462)\n",
       "  at scala.collection.Iterator$$anon$10.hasNext(Iterator.scala:389)\n",
       "  at scala.collection.Iterator$class.foreach(Iterator.scala:893)\n",
       "  at scala.collection.AbstractIterator.foreach(Iterator.scala:1336)\n",
       "  at scala.collection.generic.Growable$class.$plus$plus$eq(Growable.scala:59)\n",
       "  at scala.collection.mutable.ArrayBuffer.$plus$plus$eq(ArrayBuffer.scala:104)\n",
       "  at scala.collection.mutable.ArrayBuffer.$plus$plus$eq(ArrayBuffer.scala:48)\n",
       "  at scala.collection.TraversableOnce$class.to(TraversableOnce.scala:310)\n",
       "  at scala.collection.AbstractIterator.to(Iterator.scala:1336)\n",
       "  at scala.collection.TraversableOnce$class.toBuffer(TraversableOnce.scala:302)\n",
       "  at scala.collection.AbstractIterator.toBuffer(Iterator.scala:1336)\n",
       "  at scala.collection.TraversableOnce$class.toArray(TraversableOnce.scala:289)\n",
       "  at scala.collection.AbstractIterator.toArray(Iterator.scala:1336)\n",
       "  at org.apache.spark.rdd.RDD$$anonfun$take$1$$anonfun$28.apply(RDD.scala:1358)\n",
       "  at org.apache.spark.rdd.RDD$$anonfun$take$1$$anonfun$28.apply(RDD.scala:1358)\n",
       "  at org.apache.spark.SparkContext$$anonfun$runJob$5.apply(SparkContext.scala:2074)\n",
       "  at org.apache.spark.SparkContext$$anonfun$runJob$5.apply(SparkContext.scala:2074)\n",
       "  at org.apache.spark.scheduler.ResultTask.runTask(ResultTask.scala:87)\n",
       "  at org.apache.spark.scheduler.Task.run(Task.scala:109)\n",
       "  at org.apache.spark.executor.Executor$TaskRunner.run(Executor.scala:345)"
      ]
     },
     "execution_count": 166,
     "metadata": {},
     "output_type": "execute_result"
    }
   ],
   "source": [
    "val uriLinkPairs = uriMetaDataPairs\n",
    "    .map(pair => {\n",
    "        val (uri, unparsedMetaData) = pair\n",
    "\n",
    "        val linkArrayStartIndex = unparsedMetaData.indexOf(\"\\\"Links\\\":\") match {\n",
    "            case x if (x > 0) => (x + (\"\\\"Links\\\":[\").length)\n",
    "            case _ => 0\n",
    "        }\n",
    "\n",
    "        if (linkArrayStartIndex == 0) {\n",
    "            (uri, Array[String]())\n",
    "        } else {\n",
    "             val unparsedLinkArray = unparsedMetaData\n",
    "                .substring(linkArrayStartIndex)\n",
    "                .split(\"]\")(0)\n",
    "\n",
    "            val links = unparsedLinkArray\n",
    "                .split(\",\")\n",
    "                .filter(_.contains(\"url\"))\n",
    "                .map(jsonObject => {\n",
    "                    val startIndex = jsonObject.indexOf(\"\\\"url\\\":\") + (\"\\\"url\\\":\").length + 1\n",
    "                    val stopIndex = jsonObject.length - 2\n",
    "                    \n",
    "                    jsonObject.substring(startIndex, stopIndex)\n",
    "                })\n",
    "                .map(_.split(\"\\\\?\")(0))\n",
    "                .map(_.split(\"#\")(0))\n",
    "                .filter(_ != \"\")\n",
    "\n",
    "            (uri, links)\n",
    "        }\n",
    "    })\n",
    "    .filter(_._2.nonEmpty)\n",
    "\n",
    "uriLinkPairs.take(10).foreach(x => {\n",
    "    println(\"[URL: \" + x._1 + \"]\")\n",
    "    x._2.foreach(println)\n",
    "})"
   ]
  },
  {
   "cell_type": "code",
   "execution_count": 161,
   "metadata": {
    "scrolled": true
   },
   "outputs": [
    {
     "data": {
      "text/plain": [
       "Name: org.apache.spark.SparkException\n",
       "Message: Job aborted due to stage failure: Task 0 in stage 115.0 failed 1 times, most recent failure: Lost task 0.0 in stage 115.0 (TID 583, localhost, executor driver): java.lang.ArrayIndexOutOfBoundsException: 0\n",
       "\tat $line648.$read$$iw$$iw$$iw$$iw$$iw$$iw$$iw$$iw$$iw$$iw$$iw$$iw$$anonfun$1$$anonfun$5.apply(<console>:81)\n",
       "\tat $line648.$read$$iw$$iw$$iw$$iw$$iw$$iw$$iw$$iw$$iw$$iw$$iw$$iw$$anonfun$1$$anonfun$5.apply(<console>:81)\n",
       "\tat scala.collection.TraversableLike$$anonfun$map$1.apply(TraversableLike.scala:234)\n",
       "\tat scala.collection.TraversableLike$$anonfun$map$1.apply(TraversableLike.scala:234)\n",
       "\tat scala.collection.IndexedSeqOptimized$class.foreach(IndexedSeqOptimized.scala:33)\n",
       "\tat scala.collection.mutable.ArrayOps$ofRef.foreach(ArrayOps.scala:186)\n",
       "\tat scala.collection.TraversableLike$class.map(TraversableLike.scala:234)\n",
       "\tat scala.collection.mutable.ArrayOps$ofRef.map(ArrayOps.scala:186)\n",
       "\tat $line648.$read$$iw$$iw$$iw$$iw$$iw$$iw$$iw$$iw$$iw$$iw$$iw$$iw$$anonfun$1.apply(<console>:81)\n",
       "\tat $line648.$read$$iw$$iw$$iw$$iw$$iw$$iw$$iw$$iw$$iw$$iw$$iw$$iw$$anonfun$1.apply(<console>:56)\n",
       "\tat scala.collection.Iterator$$anon$11.next(Iterator.scala:409)\n",
       "\tat scala.collection.Iterator$$anon$13.hasNext(Iterator.scala:462)\n",
       "\tat scala.collection.Iterator$$anon$11.hasNext(Iterator.scala:408)\n",
       "\tat scala.collection.Iterator$$anon$10.hasNext(Iterator.scala:389)\n",
       "\tat scala.collection.Iterator$class.foreach(Iterator.scala:893)\n",
       "\tat scala.collection.AbstractIterator.foreach(Iterator.scala:1336)\n",
       "\tat scala.collection.generic.Growable$class.$plus$plus$eq(Growable.scala:59)\n",
       "\tat scala.collection.mutable.ArrayBuffer.$plus$plus$eq(ArrayBuffer.scala:104)\n",
       "\tat scala.collection.mutable.ArrayBuffer.$plus$plus$eq(ArrayBuffer.scala:48)\n",
       "\tat scala.collection.TraversableOnce$class.to(TraversableOnce.scala:310)\n",
       "\tat scala.collection.AbstractIterator.to(Iterator.scala:1336)\n",
       "\tat scala.collection.TraversableOnce$class.toBuffer(TraversableOnce.scala:302)\n",
       "\tat scala.collection.AbstractIterator.toBuffer(Iterator.scala:1336)\n",
       "\tat scala.collection.TraversableOnce$class.toArray(TraversableOnce.scala:289)\n",
       "\tat scala.collection.AbstractIterator.toArray(Iterator.scala:1336)\n",
       "\tat org.apache.spark.rdd.RDD$$anonfun$take$1$$anonfun$28.apply(RDD.scala:1358)\n",
       "\tat org.apache.spark.rdd.RDD$$anonfun$take$1$$anonfun$28.apply(RDD.scala:1358)\n",
       "\tat org.apache.spark.SparkContext$$anonfun$runJob$5.apply(SparkContext.scala:2074)\n",
       "\tat org.apache.spark.SparkContext$$anonfun$runJob$5.apply(SparkContext.scala:2074)\n",
       "\tat org.apache.spark.scheduler.ResultTask.runTask(ResultTask.scala:87)\n",
       "\tat org.apache.spark.scheduler.Task.run(Task.scala:109)\n",
       "\tat org.apache.spark.executor.Executor$TaskRunner.run(Executor.scala:345)\n",
       "\tat java.util.concurrent.ThreadPoolExecutor.runWorker(ThreadPoolExecutor.java:1149)\n",
       "\tat java.util.concurrent.ThreadPoolExecutor$Worker.run(ThreadPoolExecutor.java:624)\n",
       "\tat java.lang.Thread.run(Thread.java:748)\n",
       "\n",
       "Driver stacktrace:\n",
       "StackTrace: \tat $anonfun$1$$anonfun$5.apply(<console>:81)\n",
       "\tat $anonfun$1$$anonfun$5.apply(<console>:81)\n",
       "\tat scala.collection.TraversableLike$$anonfun$map$1.apply(TraversableLike.scala:234)\n",
       "\tat scala.collection.TraversableLike$$anonfun$map$1.apply(TraversableLike.scala:234)\n",
       "\tat scala.collection.IndexedSeqOptimized$class.foreach(IndexedSeqOptimized.scala:33)\n",
       "\tat scala.collection.mutable.ArrayOps$ofRef.foreach(ArrayOps.scala:186)\n",
       "\tat scala.collection.TraversableLike$class.map(TraversableLike.scala:234)\n",
       "\tat scala.collection.mutable.ArrayOps$ofRef.map(ArrayOps.scala:186)\n",
       "\tat $anonfun$1.apply(<console>:81)\n",
       "\tat $anonfun$1.apply(<console>:56)\n",
       "\tat scala.collection.Iterator$$anon$11.next(Iterator.scala:409)\n",
       "\tat scala.collection.Iterator$$anon$13.hasNext(Iterator.scala:462)\n",
       "\tat scala.collection.Iterator$$anon$11.hasNext(Iterator.scala:408)\n",
       "\tat scala.collection.Iterator$$anon$10.hasNext(Iterator.scala:389)\n",
       "\tat scala.collection.Iterator$class.foreach(Iterator.scala:893)\n",
       "\tat scala.collection.AbstractIterator.foreach(Iterator.scala:1336)\n",
       "\tat scala.collection.generic.Growable$class.$plus$plus$eq(Growable.scala:59)\n",
       "\tat scala.collection.mutable.ArrayBuffer.$plus$plus$eq(ArrayBuffer.scala:104)\n",
       "\tat scala.collection.mutable.ArrayBuffer.$plus$plus$eq(ArrayBuffer.scala:48)\n",
       "\tat scala.collection.TraversableOnce$class.to(TraversableOnce.scala:310)\n",
       "\tat scala.collection.AbstractIterator.to(Iterator.scala:1336)\n",
       "\tat scala.collection.TraversableOnce$class.toBuffer(TraversableOnce.scala:302)\n",
       "\tat scala.collection.AbstractIterator.toBuffer(Iterator.scala:1336)\n",
       "\tat scala.collection.TraversableOnce$class.toArray(TraversableOnce.scala:289)\n",
       "\tat scala.collection.AbstractIterator.toArray(Iterator.scala:1336)\n",
       "\tat org.apache.spark.rdd.RDD$$anonfun$take$1$$anonfun$28.apply(RDD.scala:1358)\n",
       "\tat org.apache.spark.rdd.RDD$$anonfun$take$1$$anonfun$28.apply(RDD.scala:1358)\n",
       "\tat org.apache.spark.SparkContext$$anonfun$runJob$5.apply(SparkContext.scala:2074)\n",
       "\tat org.apache.spark.SparkContext$$anonfun$runJob$5.apply(SparkContext.scala:2074)\n",
       "\tat org.apache.spark.scheduler.ResultTask.runTask(ResultTask.scala:87)\n",
       "\tat org.apache.spark.scheduler.Task.run(Task.scala:109)\n",
       "\tat org.apache.spark.executor.Executor$TaskRunner.run(Executor.scala:345)\n",
       "\tat java.util.concurrent.ThreadPoolExecutor.runWorker(ThreadPoolExecutor.java:1149)\n",
       "\tat java.util.concurrent.ThreadPoolExecutor$Worker.run(ThreadPoolExecutor.java:624)\n",
       "\tat java.lang.Thread.run(Thread.java:748)\n",
       "Driver stacktrace:\n",
       "  at org.apache.spark.scheduler.DAGScheduler.org$apache$spark$scheduler$DAGScheduler$$failJobAndIndependentStages(DAGScheduler.scala:1602)\n",
       "  at org.apache.spark.scheduler.DAGScheduler$$anonfun$abortStage$1.apply(DAGScheduler.scala:1590)\n",
       "  at org.apache.spark.scheduler.DAGScheduler$$anonfun$abortStage$1.apply(DAGScheduler.scala:1589)\n",
       "  at scala.collection.mutable.ResizableArray$class.foreach(ResizableArray.scala:59)\n",
       "  at scala.collection.mutable.ArrayBuffer.foreach(ArrayBuffer.scala:48)\n",
       "  at org.apache.spark.scheduler.DAGScheduler.abortStage(DAGScheduler.scala:1589)\n",
       "  at org.apache.spark.scheduler.DAGScheduler$$anonfun$handleTaskSetFailed$1.apply(DAGScheduler.scala:831)\n",
       "  at org.apache.spark.scheduler.DAGScheduler$$anonfun$handleTaskSetFailed$1.apply(DAGScheduler.scala:831)\n",
       "  at scala.Option.foreach(Option.scala:257)\n",
       "  at org.apache.spark.scheduler.DAGScheduler.handleTaskSetFailed(DAGScheduler.scala:831)\n",
       "  at org.apache.spark.scheduler.DAGSchedulerEventProcessLoop.doOnReceive(DAGScheduler.scala:1823)\n",
       "  at org.apache.spark.scheduler.DAGSchedulerEventProcessLoop.onReceive(DAGScheduler.scala:1772)\n",
       "  at org.apache.spark.scheduler.DAGSchedulerEventProcessLoop.onReceive(DAGScheduler.scala:1761)\n",
       "  at org.apache.spark.util.EventLoop$$anon$1.run(EventLoop.scala:48)\n",
       "  at org.apache.spark.scheduler.DAGScheduler.runJob(DAGScheduler.scala:642)\n",
       "  at org.apache.spark.SparkContext.runJob(SparkContext.scala:2034)\n",
       "  at org.apache.spark.SparkContext.runJob(SparkContext.scala:2055)\n",
       "  at org.apache.spark.SparkContext.runJob(SparkContext.scala:2074)\n",
       "  at org.apache.spark.rdd.RDD$$anonfun$take$1.apply(RDD.scala:1358)\n",
       "  at org.apache.spark.rdd.RDDOperationScope$.withScope(RDDOperationScope.scala:151)\n",
       "  at org.apache.spark.rdd.RDDOperationScope$.withScope(RDDOperationScope.scala:112)\n",
       "  at org.apache.spark.rdd.RDD.withScope(RDD.scala:363)\n",
       "  at org.apache.spark.rdd.RDD.take(RDD.scala:1331)\n",
       "  ... 48 elided\n",
       "Caused by: java.lang.ArrayIndexOutOfBoundsException: 0\n",
       "  at $anonfun$1$$anonfun$5.apply(<console>:81)\n",
       "  at $anonfun$1$$anonfun$5.apply(<console>:81)\n",
       "  at scala.collection.TraversableLike$$anonfun$map$1.apply(TraversableLike.scala:234)\n",
       "  at scala.collection.TraversableLike$$anonfun$map$1.apply(TraversableLike.scala:234)\n",
       "  at scala.collection.IndexedSeqOptimized$class.foreach(IndexedSeqOptimized.scala:33)\n",
       "  at scala.collection.mutable.ArrayOps$ofRef.foreach(ArrayOps.scala:186)\n",
       "  at scala.collection.TraversableLike$class.map(TraversableLike.scala:234)\n",
       "  at scala.collection.mutable.ArrayOps$ofRef.map(ArrayOps.scala:186)\n",
       "  at $anonfun$1.apply(<console>:81)\n",
       "  at $anonfun$1.apply(<console>:56)\n",
       "  at scala.collection.Iterator$$anon$11.next(Iterator.scala:409)\n",
       "  at scala.collection.Iterator$$anon$13.hasNext(Iterator.scala:462)\n",
       "  at scala.collection.Iterator$$anon$11.hasNext(Iterator.scala:408)\n",
       "  at scala.collection.Iterator$$anon$10.hasNext(Iterator.scala:389)\n",
       "  at scala.collection.Iterator$class.foreach(Iterator.scala:893)\n",
       "  at scala.collection.AbstractIterator.foreach(Iterator.scala:1336)\n",
       "  at scala.collection.generic.Growable$class.$plus$plus$eq(Growable.scala:59)\n",
       "  at scala.collection.mutable.ArrayBuffer.$plus$plus$eq(ArrayBuffer.scala:104)\n",
       "  at scala.collection.mutable.ArrayBuffer.$plus$plus$eq(ArrayBuffer.scala:48)\n",
       "  at scala.collection.TraversableOnce$class.to(TraversableOnce.scala:310)\n",
       "  at scala.collection.AbstractIterator.to(Iterator.scala:1336)\n",
       "  at scala.collection.TraversableOnce$class.toBuffer(TraversableOnce.scala:302)\n",
       "  at scala.collection.AbstractIterator.toBuffer(Iterator.scala:1336)\n",
       "  at scala.collection.TraversableOnce$class.toArray(TraversableOnce.scala:289)\n",
       "  at scala.collection.AbstractIterator.toArray(Iterator.scala:1336)\n",
       "  at org.apache.spark.rdd.RDD$$anonfun$take$1$$anonfun$28.apply(RDD.scala:1358)\n",
       "  at org.apache.spark.rdd.RDD$$anonfun$take$1$$anonfun$28.apply(RDD.scala:1358)\n",
       "  at org.apache.spark.SparkContext$$anonfun$runJob$5.apply(SparkContext.scala:2074)\n",
       "  at org.apache.spark.SparkContext$$anonfun$runJob$5.apply(SparkContext.scala:2074)\n",
       "  at org.apache.spark.scheduler.ResultTask.runTask(ResultTask.scala:87)\n",
       "  at org.apache.spark.scheduler.Task.run(Task.scala:109)\n",
       "  at org.apache.spark.executor.Executor$TaskRunner.run(Executor.scala:345)"
      ]
     },
     "execution_count": 161,
     "metadata": {},
     "output_type": "execute_result"
    }
   ],
   "source": [
    "val uriStaticLinkPairs = uriLinkPairs\n",
    "    .map(pair => {\n",
    "        val (uri, links) = pair\n",
    "        \n",
    "        val staticLinks = links\n",
    "            .filter(!_.startsWith(\"/\"))\n",
    "            .filter(!_.startsWith(\"mailto\"))\n",
    "            .filter(!_.startsWith(\"javascript\"))\n",
    "        \n",
    "        (uri, staticLinks)\n",
    "    })\n",
    "\n",
    "uriStaticLinkPairs.take(10).foreach(x => {\n",
    "    println(\"[URL: \" + x._1 + \"]\")\n",
    "    x._2.foreach(println)\n",
    "})"
   ]
  },
  {
   "cell_type": "code",
   "execution_count": 150,
   "metadata": {},
   "outputs": [
    {
     "name": "stdout",
     "output_type": "stream",
     "text": [
      "sda\n"
     ]
    }
   ],
   "source": [
    "println(\"?sda\".split(\"\\\\?\")(1))"
   ]
  }
 ],
 "metadata": {
  "kernelspec": {
   "display_name": "Spark - Scala",
   "language": "scala",
   "name": "spark_scala"
  },
  "language_info": {
   "codemirror_mode": "text/x-scala",
   "file_extension": ".scala",
   "mimetype": "text/x-scala",
   "name": "scala",
   "pygments_lexer": "scala",
   "version": "2.11.8"
  }
 },
 "nbformat": 4,
 "nbformat_minor": 2
}
