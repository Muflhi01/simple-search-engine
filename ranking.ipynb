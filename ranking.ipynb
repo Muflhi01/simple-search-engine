{
 "cells": [
  {
   "cell_type": "code",
   "execution_count": 88,
   "metadata": {
    "scrolled": false
   },
   "outputs": [
    {
     "data": {
      "text/plain": [
       "Name: Unknown Error\n",
       "Message: <console>:214: error: value nonEmpty is not a member of Unit\n",
       "           .filter(_.nonEmpty)\n",
       "                     ^\n",
       "\n",
       "StackTrace: "
      ]
     },
     "execution_count": 88,
     "metadata": {},
     "output_type": "execute_result"
    }
   ],
   "source": [
    "import org.apache.hadoop.conf.Configuration\n",
    "import org.apache.hadoop.io.{LongWritable, Text}\n",
    "import org.apache.hadoop.mapreduce.lib.input.TextInputFormat\n",
    "\n",
    "val conf = new Configuration\n",
    "conf.set(\"textinputformat.record.delimiter\", \"WARC/1.0\")\n",
    "val dataset = sc.newAPIHadoopFile(\n",
    "    \"data/WAT/CC-MAIN-20180918130631-20180918150631-00000.warc.wat\",\n",
    "    classOf[TextInputFormat],\n",
    "    classOf[LongWritable],\n",
    "    classOf[Text], conf\n",
    ")\n",
    "\n",
    "val data = dataset\n",
    "    .map(x => x._2.toString)\n",
    "    .filter(_.length > 0)\n",
    "    .map(_.split(\"\\n\"))\n",
    "    .map(_.foreach(_.trim()))\n",
    "    .filter(_.nonEmpty)\n",
    "    .filter(_.length > 0)\n",
    "    .map(_.init)\n",
    "    .map(x => (x.init, x.last))\n",
    "    .filter(x => x._2.length > 0)\n",
    "\n",
    "data.take(2).foreach(println)"
   ]
  },
  {
   "cell_type": "code",
   "execution_count": null,
   "metadata": {},
   "outputs": [],
   "source": []
  },
  {
   "cell_type": "code",
   "execution_count": null,
   "metadata": {},
   "outputs": [],
   "source": []
  }
 ],
 "metadata": {
  "kernelspec": {
   "display_name": "Spark - Scala",
   "language": "scala",
   "name": "spark_scala"
  },
  "language_info": {
   "codemirror_mode": "text/x-scala",
   "file_extension": ".scala",
   "mimetype": "text/x-scala",
   "name": "scala",
   "pygments_lexer": "scala",
   "version": "2.11.8"
  }
 },
 "nbformat": 4,
 "nbformat_minor": 2
}
