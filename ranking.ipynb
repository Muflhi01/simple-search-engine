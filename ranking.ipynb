{
 "cells": [
  {
   "cell_type": "code",
   "execution_count": 1,
   "metadata": {
    "scrolled": false
   },
   "outputs": [
    {
     "data": {
      "text/plain": [
       "spark = org.apache.spark.sql.SparkSession@54404505\n"
      ]
     },
     "metadata": {},
     "output_type": "display_data"
    },
    {
     "data": {
      "text/html": [
       "<ul>\n",
       "<li><a href=\"Some(http://localhost:4040)\" target=\"new_tab\">Spark UI: local-1540232504898</a></li>\n",
       "</ul>"
      ],
      "text/plain": [
       "Spark local-1540232504898: Some(http://localhost:4040)"
      ]
     },
     "execution_count": 1,
     "metadata": {},
     "output_type": "execute_result"
    }
   ],
   "source": [
    "import org.apache.hadoop.conf.Configuration\n",
    "import org.apache.hadoop.io.{LongWritable, Text}\n",
    "import org.apache.hadoop.mapreduce.lib.input.TextInputFormat\n",
    "\n",
    "val spark = SparkSession.builder.master(\"local[*]\").appName(\"SparkSQL\").getOrCreate()\n",
    "\n",
    "import spark.implicits._\n",
    "import org.apache.spark.sql.functions._\n",
    "\n",
    "import org.apache.spark._\n",
    "import org.apache.spark.graphx._\n",
    "import org.apache.spark.rdd.RDD\n",
    "\n",
    "import java.net.URL"
   ]
  },
  {
   "cell_type": "code",
   "execution_count": 2,
   "metadata": {},
   "outputs": [
    {
     "data": {
      "text/plain": [
       "conf = Configuration: core-default.xml, core-site.xml, mapred-default.xml, mapred-site.xml, yarn-default.xml, yarn-site.xml, hdfs-default.xml, hdfs-site.xml\n",
       "dataset = data/WAT/ NewHadoopRDD[0] at newAPIHadoopFile at <console>:48\n",
       "data = MapPartitionsRDD[5] at filter at <console>:60\n"
      ]
     },
     "metadata": {},
     "output_type": "display_data"
    },
    {
     "data": {
      "text/plain": [
       "MapPartitionsRDD[5] at filter at <console>:60"
      ]
     },
     "execution_count": 2,
     "metadata": {},
     "output_type": "execute_result"
    }
   ],
   "source": [
    "val conf = new Configuration\n",
    "conf.set(\"textinputformat.record.delimiter\", \"WARC/1.0\")\n",
    "val dataset = sc.newAPIHadoopFile(\n",
    "    \"data/WAT/\",\n",
    "    classOf[TextInputFormat],\n",
    "    classOf[LongWritable],\n",
    "    classOf[Text], conf\n",
    ")\n",
    "\n",
    "val data = dataset\n",
    "    .map(x => x._2.toString)\n",
    "    .filter(_.nonEmpty)\n",
    "    .map(_.split(\"\\r\\n\\r\\n\"))\n",
    "    .map(arr => (arr(0), arr(1)))\n",
    "    .filter(_._2.startsWith(\"{\"))\n",
    "\n",
    "// println(data.count())\n",
    "// data.take(5).foreach(println)"
   ]
  },
  {
   "cell_type": "code",
   "execution_count": 3,
   "metadata": {
    "scrolled": true
   },
   "outputs": [
    {
     "data": {
      "text/plain": [
       "uriMetaDataPairs = MapPartitionsRDD[7] at filter at <console>:81\n"
      ]
     },
     "metadata": {},
     "output_type": "display_data"
    },
    {
     "data": {
      "text/plain": [
       "MapPartitionsRDD[7] at filter at <console>:81"
      ]
     },
     "execution_count": 3,
     "metadata": {},
     "output_type": "execute_result"
    }
   ],
   "source": [
    "val uriMetaDataPairs = data\n",
    "    .map(pair => {\n",
    "        val (header, metadata) = pair\n",
    "    \n",
    "        val keyValuePairs = header\n",
    "            .split(\"\\r\\n\")\n",
    "            .filter(_ != \"\")\n",
    "            .map(line => {\n",
    "                val splitList = line.split(\": \")\n",
    "                ((splitList(0), splitList(1)))\n",
    "            })\n",
    "\n",
    "        val targetURL = keyValuePairs\n",
    "            .filter(_._1 == \"WARC-Target-URI\")(0)\n",
    "            ._2\n",
    "        \n",
    "        val protocolRegex = \"\"\"^https?:\\/\\/.*\"\"\"\n",
    "        \n",
    "        if (!targetURL.matches(protocolRegex)) {\n",
    "            (\"\", metadata)\n",
    "        } else {\n",
    "            val domain = try {\n",
    "                new URL(targetURL).getHost()\n",
    "            } catch {\n",
    "                case e: Exception => \"\"\n",
    "            }\n",
    "        \n",
    "            (domain, metadata)\n",
    "        }\n",
    "          \n",
    "    })\n",
    "    .filter(_._1.nonEmpty)\n",
    "\n",
    "// uriMetaDataPairs.take(1).foreach(println)"
   ]
  },
  {
   "cell_type": "code",
   "execution_count": 4,
   "metadata": {
    "scrolled": true
   },
   "outputs": [
    {
     "data": {
      "text/plain": [
       "uriLinkPairs = MapPartitionsRDD[9] at filter at <console>:86\n"
      ]
     },
     "metadata": {},
     "output_type": "display_data"
    },
    {
     "data": {
      "text/plain": [
       "MapPartitionsRDD[9] at filter at <console>:86"
      ]
     },
     "execution_count": 4,
     "metadata": {},
     "output_type": "execute_result"
    }
   ],
   "source": [
    "val uriLinkPairs = uriMetaDataPairs\n",
    "    .map(pair => {\n",
    "        val (uri, unparsedMetaData) = pair\n",
    "\n",
    "        val linkArrayStartIndex = unparsedMetaData.indexOf(\"\\\"Links\\\":\") match {\n",
    "            case x if (x > 0) => (x + (\"\\\"Links\\\":[\").length)\n",
    "            case _ => 0\n",
    "        }\n",
    "\n",
    "        if (linkArrayStartIndex == 0) {\n",
    "            (uri, Array[String]())\n",
    "        } else {\n",
    "             val unparsedLinkArray = unparsedMetaData\n",
    "                .substring(linkArrayStartIndex)\n",
    "                .split(\"]\")(0)\n",
    "\n",
    "            val links = unparsedLinkArray\n",
    "                .split(\",\")\n",
    "                .filter(_.contains(\"url\"))\n",
    "                .map(jsonObject => {\n",
    "                    val startIndex = jsonObject.indexOf(\"\\\"url\\\":\") + (\"\\\"url\\\":\").length + 1\n",
    "                    val stopIndex = jsonObject.length - 2\n",
    "                    \n",
    "                    if (startIndex < stopIndex) {\n",
    "                        jsonObject.substring(startIndex, stopIndex)\n",
    "                    } else {\n",
    "                        \"\"\n",
    "                    }                    \n",
    "                })\n",
    "                .filter(_ != \"\")\n",
    "\n",
    "            (uri, links)\n",
    "        }\n",
    "    })\n",
    "    .filter(_._2.nonEmpty)\n",
    "\n",
    "// uriLinkPairs.take(1).foreach(x => {\n",
    "//     println(\"[URL: \" + x._1 + \"]\")\n",
    "//     x._2.foreach(println)\n",
    "// })"
   ]
  },
  {
   "cell_type": "code",
   "execution_count": 5,
   "metadata": {
    "scrolled": true
   },
   "outputs": [
    {
     "data": {
      "text/plain": [
       "uriStaticLinkPairs = ShuffledRDD[11] at reduceByKey at <console>:72\n"
      ]
     },
     "metadata": {},
     "output_type": "display_data"
    },
    {
     "data": {
      "text/plain": [
       "ShuffledRDD[11] at reduceByKey at <console>:72"
      ]
     },
     "execution_count": 5,
     "metadata": {},
     "output_type": "execute_result"
    }
   ],
   "source": [
    "val uriStaticLinkPairs = uriLinkPairs\n",
    "    .map(pair => {\n",
    "        val (uri, links) = pair\n",
    "        \n",
    "        val protocolRegex = \"\"\"^https?:\\/\\/.*\"\"\"\n",
    "        \n",
    "        val staticLinks = links\n",
    "            .filter(_.matches(protocolRegex))\n",
    "            .map(_.replaceAll(\"\"\"^https?:\\/\\/\"\"\", \"\"\"http://\"\"\"))\n",
    "            .map(url => try {\n",
    "                new URL(url).getHost()\n",
    "            } catch {\n",
    "                case e: Exception => \"\"\n",
    "            })\n",
    "            .filter(!_.isEmpty)\n",
    "        \n",
    "        (uri, staticLinks)\n",
    "    })\n",
    "    .reduceByKey((x, y) => x ++ y)\n",
    "\n",
    "// uriStaticLinkPairs.take(1).foreach(x => {\n",
    "//     println(\"[URL: \" + x._1 + \"]\")\n",
    "//     x._2.foreach(println)\n",
    "// })"
   ]
  },
  {
   "cell_type": "code",
   "execution_count": 6,
   "metadata": {},
   "outputs": [
    {
     "data": {
      "text/plain": [
       "uriLinkPairsWithIndex = MapPartitionsRDD[13] at map at <console>:58\n"
      ]
     },
     "metadata": {},
     "output_type": "display_data"
    },
    {
     "data": {
      "text/plain": [
       "MapPartitionsRDD[13] at map at <console>:58"
      ]
     },
     "execution_count": 6,
     "metadata": {},
     "output_type": "execute_result"
    }
   ],
   "source": [
    "val uriLinkPairsWithIndex = uriStaticLinkPairs\n",
    "    .zipWithIndex\n",
    "    .map(x => (x._2.toLong, x._1._1, x._1._2))\n",
    "    .cache()\n",
    "\n",
    "// uriLinkPairsWithIndex.take(1).foreach(println)"
   ]
  },
  {
   "cell_type": "code",
   "execution_count": 7,
   "metadata": {},
   "outputs": [
    {
     "data": {
      "text/plain": [
       "linksList = MapPartitionsRDD[14] at flatMap at <console>:58\n",
       "uriList = MapPartitionsRDD[15] at map at <console>:64\n"
      ]
     },
     "metadata": {},
     "output_type": "display_data"
    },
    {
     "data": {
      "text/plain": [
       "MapPartitionsRDD[15] at map at <console>:64"
      ]
     },
     "execution_count": 7,
     "metadata": {},
     "output_type": "execute_result"
    }
   ],
   "source": [
    "val linksList = uriLinkPairsWithIndex.flatMap(pair => {\n",
    "    val (index, uri, links) = pair\n",
    "    \n",
    "    links.map(link => (index, uri, link))\n",
    "})\n",
    "\n",
    "val uriList = uriLinkPairsWithIndex.map(x => (x._1, x._2))\n",
    "\n",
    "// linksList.take(3).foreach(println)\n",
    "// uriList.take(3).foreach(println)"
   ]
  },
  {
   "cell_type": "code",
   "execution_count": 8,
   "metadata": {
    "scrolled": false
   },
   "outputs": [
    {
     "name": "stdout",
     "output_type": "stream",
     "text": [
      "[0,inct.cnpq.br,www.cnpq.br]\n",
      "[0,inct.cnpq.br,twitter.com]\n",
      "[0,inct.cnpq.br,www.youtube.com]\n",
      "[0,inct.cnpq.br,soundcloud.com]\n",
      "root\n",
      " |-- indexFrom: long (nullable = false)\n",
      " |-- from: string (nullable = true)\n",
      " |-- to: string (nullable = true)\n",
      "\n",
      "+---------+-------------------+--------------------+\n",
      "|indexFrom|               from|                  to|\n",
      "+---------+-------------------+--------------------+\n",
      "|        0|       inct.cnpq.br|         www.cnpq.br|\n",
      "|        0|       inct.cnpq.br|         twitter.com|\n",
      "|        0|       inct.cnpq.br|     www.youtube.com|\n",
      "|        0|       inct.cnpq.br|      soundcloud.com|\n",
      "|        0|       inct.cnpq.br|      www.mct.gov.br|\n",
      "|        0|       inct.cnpq.br|             cnpq.br|\n",
      "|        1|         nlmz-nn.ru|      maps.google.co|\n",
      "|        2|jurnalul.antena3.ro|m.jurnalul.antena3.r|\n",
      "|        2|jurnalul.antena3.ro|content.paydemic.com|\n",
      "|        2|jurnalul.antena3.ro|    www.facebook.com|\n",
      "|        2|jurnalul.antena3.ro|   www.libertatea.ro|\n",
      "|        2|jurnalul.antena3.ro|   www.libertatea.ro|\n",
      "|        2|jurnalul.antena3.ro|    www.libertatea.r|\n",
      "|        2|jurnalul.antena3.ro|   www.libertatea.ro|\n",
      "|        2|jurnalul.antena3.ro|   www.libertatea.ro|\n",
      "|        2|jurnalul.antena3.ro|    www.libertatea.r|\n",
      "|        2|jurnalul.antena3.ro|   www.romaniatv.net|\n",
      "|        2|jurnalul.antena3.ro|   www.romaniatv.net|\n",
      "|        2|jurnalul.antena3.ro|           www.rtv.r|\n",
      "|        2|jurnalul.antena3.ro|   www.romaniatv.net|\n",
      "+---------+-------------------+--------------------+\n",
      "only showing top 20 rows\n",
      "\n",
      "root\n",
      " |-- index: long (nullable = false)\n",
      " |-- uri: string (nullable = true)\n",
      "\n",
      "+-----+--------------------+\n",
      "|index|                 uri|\n",
      "+-----+--------------------+\n",
      "|    0|        inct.cnpq.br|\n",
      "|    1|          nlmz-nn.ru|\n",
      "|    2| jurnalul.antena3.ro|\n",
      "|    3|           auto-m.ru|\n",
      "|    4|    nl.pinterest.com|\n",
      "|    5|  www.nigerialog.com|\n",
      "|    6|            apsgo.ca|\n",
      "|    7|   allbonuscodes.com|\n",
      "|    8|    cityofdestin.com|\n",
      "|    9|       purplesta.com|\n",
      "|   10|      www.minted.com|\n",
      "|   11|warsaw.flowers-si...|\n",
      "|   12|      juanmarcet.com|\n",
      "|   13|         delokos.com|\n",
      "|   14|    www.gsmarena.com|\n",
      "|   15|         ussurgeo.ru|\n",
      "|   16|        www.siue.edu|\n",
      "|   17|          iums.ac.ir|\n",
      "|   18|    www.hisawyer.com|\n",
      "|   19|    www.pinterest.it|\n",
      "+-----+--------------------+\n",
      "only showing top 20 rows\n",
      "\n"
     ]
    },
    {
     "data": {
      "text/plain": [
       "linksDF = [indexFrom: bigint, from: string ... 1 more field]\n",
       "uriDF = [index: bigint, uri: string]\n"
      ]
     },
     "metadata": {},
     "output_type": "display_data"
    },
    {
     "data": {
      "text/plain": [
       "[index: bigint, uri: string]"
      ]
     },
     "execution_count": 8,
     "metadata": {},
     "output_type": "execute_result"
    }
   ],
   "source": [
    "val linksDF = linksList.toDF(\"indexFrom\", \"from\", \"to\").filter(\"from != to\").cache()\n",
    "val uriDF = uriList.toDF(\"index\", \"uri\").cache()\n",
    "\n",
    "linksDF.rdd.take(4).foreach(println)\n",
    "\n",
    "linksDF.printSchema\n",
    "linksDF.show()\n",
    "\n",
    "uriDF.printSchema\n",
    "uriDF.show()"
   ]
  },
  {
   "cell_type": "code",
   "execution_count": 9,
   "metadata": {},
   "outputs": [
    {
     "name": "stdout",
     "output_type": "stream",
     "text": [
      "+---------+-------------------+-----------------+-------+-----------------+\n",
      "|indexFrom|               from|               to|indexTo|              uri|\n",
      "+---------+-------------------+-----------------+-------+-----------------+\n",
      "|        0|       inct.cnpq.br|  www.youtube.com|  24546|  www.youtube.com|\n",
      "|        0|       inct.cnpq.br|   soundcloud.com|  10036|   soundcloud.com|\n",
      "|        2|jurnalul.antena3.ro|www.romaniatv.net|   7128|www.romaniatv.net|\n",
      "|        2|jurnalul.antena3.ro|www.romaniatv.net|   7128|www.romaniatv.net|\n",
      "|        2|jurnalul.antena3.ro|www.romaniatv.net|   7128|www.romaniatv.net|\n",
      "|        2|jurnalul.antena3.ro|www.romaniatv.net|   7128|www.romaniatv.net|\n",
      "|        3|          auto-m.ru|  www.youtube.com|  24546|  www.youtube.com|\n",
      "|        5| www.nigerialog.com|  play.google.com|  13354|  play.google.com|\n",
      "|        5| www.nigerialog.com|  play.google.com|  13354|  play.google.com|\n",
      "|        8|   cityofdestin.com|  www.youtube.com|  24546|  www.youtube.com|\n",
      "|       10|     www.minted.com|www.pinterest.com|  29496|www.pinterest.com|\n",
      "|       10|     www.minted.com|www.pinterest.com|  29496|www.pinterest.com|\n",
      "|       12|     juanmarcet.com|  www.youtube.com|  24546|  www.youtube.com|\n",
      "|       12|     juanmarcet.com|  www.youtube.com|  24546|  www.youtube.com|\n",
      "|       14|   www.gsmarena.com|  plus.google.com|   6618|  plus.google.com|\n",
      "|       14|   www.gsmarena.com|  www.youtube.com|  24546|  www.youtube.com|\n",
      "|       16|       www.siue.edu|   www.flickr.com|   7802|   www.flickr.com|\n",
      "|       16|       www.siue.edu|  plus.google.com|   6618|  plus.google.com|\n",
      "|       16|       www.siue.edu|www.pinterest.com|  29496|www.pinterest.com|\n",
      "|       16|       www.siue.edu|  www.youtube.com|  24546|  www.youtube.com|\n",
      "+---------+-------------------+-----------------+-------+-----------------+\n",
      "only showing top 20 rows\n",
      "\n"
     ]
    },
    {
     "data": {
      "text/plain": [
       "edgeDF = [indexFrom: bigint, from: string ... 3 more fields]\n"
      ]
     },
     "metadata": {},
     "output_type": "display_data"
    },
    {
     "data": {
      "text/plain": [
       "[indexFrom: bigint, from: string ... 3 more fields]"
      ]
     },
     "execution_count": 9,
     "metadata": {},
     "output_type": "execute_result"
    }
   ],
   "source": [
    "val edgeDF = linksDF\n",
    "    .join(uriDF, linksDF(\"to\") === uriDF(\"uri\"))\n",
    "    .withColumnRenamed(\"index\", \"indexTo\")\n",
    "\n",
    "edgeDF.show()\n",
    "\n",
    "// println(linksDF.rdd.count)\n",
    "// println(uriDF.rdd.count)\n",
    "// println(edgeDF.rdd.count)"
   ]
  },
  {
   "cell_type": "code",
   "execution_count": 10,
   "metadata": {},
   "outputs": [
    {
     "data": {
      "text/plain": [
       "edges = MapPartitionsRDD[61] at map at <console>:69\n",
       "linkGraph = org.apache.spark.graphx.impl.GraphImpl@57bf4d00\n"
      ]
     },
     "metadata": {},
     "output_type": "display_data"
    },
    {
     "data": {
      "text/plain": [
       "org.apache.spark.graphx.impl.GraphImpl@57bf4d00"
      ]
     },
     "execution_count": 10,
     "metadata": {},
     "output_type": "execute_result"
    }
   ],
   "source": [
    "val edges = edgeDF\n",
    "    .select(\"indexFrom\", \"indexTo\")\n",
    "    .rdd\n",
    "    .map(arr => Edge(\n",
    "        arr(0).asInstanceOf[Long],\n",
    "        arr(1).asInstanceOf[Long],\n",
    "        1\n",
    "    ))\n",
    "\n",
    "val linkGraph = Graph(uriList, edges).cache"
   ]
  },
  {
   "cell_type": "code",
   "execution_count": null,
   "metadata": {},
   "outputs": [],
   "source": [
    "val rankGraph = linkGraph.pageRank(0.0001).cache\n",
    "val ranks = rankGraph.vertices.sortBy(- _._2)"
   ]
  },
  {
   "cell_type": "code",
   "execution_count": null,
   "metadata": {},
   "outputs": [],
   "source": [
    "val ranksDF = ranks.toDF(\"index\", \"pageRank\")\n",
    "\n",
    "val rankedUriDF = uriDF.join(ranksDF, \"index\")\n",
    "\n",
    "rankedUriDF.show()"
   ]
  }
 ],
 "metadata": {
  "kernelspec": {
   "display_name": "Spark - Scala",
   "language": "scala",
   "name": "spark_scala"
  },
  "language_info": {
   "codemirror_mode": "text/x-scala",
   "file_extension": ".scala",
   "mimetype": "text/x-scala",
   "name": "scala",
   "pygments_lexer": "scala",
   "version": "2.11.8"
  }
 },
 "nbformat": 4,
 "nbformat_minor": 2
}
